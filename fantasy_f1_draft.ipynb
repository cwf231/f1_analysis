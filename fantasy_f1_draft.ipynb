{
 "cells": [
  {
   "cell_type": "code",
   "execution_count": 1,
   "id": "44c09bbc",
   "metadata": {
    "ExecuteTime": {
     "end_time": "2021-06-20T11:41:40.883567Z",
     "start_time": "2021-06-20T11:41:40.537917Z"
    }
   },
   "outputs": [],
   "source": [
    "import unidecode\n",
    "import pandas as pd\n",
    "import numpy as np"
   ]
  },
  {
   "cell_type": "code",
   "execution_count": 2,
   "id": "a88d6970",
   "metadata": {
    "ExecuteTime": {
     "end_time": "2021-06-20T11:41:40.903957Z",
     "start_time": "2021-06-20T11:41:40.885973Z"
    }
   },
   "outputs": [],
   "source": [
    "class Draft:\n",
    "    def __init__(self, \n",
    "                 player_names, \n",
    "                 current_standings_df, \n",
    "                 randomize_order=True):\n",
    "        self.players_lst = [Player(name) for name in player_names]\n",
    "        self.driver_pool = DriverPool(current_standings_df)\n",
    "        self.current_idx = 0\n",
    "        self.picking_order = [0, 1, 2, 3, 3, 2, 1, 0]\n",
    "        if randomize_order:\n",
    "            np.random.shuffle(self.players_lst)\n",
    "        print('Welcome to the Draft!')\n",
    "        print('---------------------')\n",
    "        print('The Draft Order is:')\n",
    "        for n, p in enumerate(self.players_lst, 1):\n",
    "            print(f'\\t{n}. {p.name}')\n",
    "    \n",
    "    def __repr__(self):\n",
    "        print(f\"{self.players_lst[self.picking_order[self.current_idx]].name} is on the clock!\")\n",
    "        print('*'*40)\n",
    "        print(self.driver_pool)\n",
    "        return ''\n",
    "    \n",
    "    def show_rosters(self):\n",
    "        for p in self.players_lst:\n",
    "            print(p)\n",
    "    \n",
    "    def move_idx(self):\n",
    "        if self.current_idx == len(self.picking_order) - 1:\n",
    "            self.current_idx = 0\n",
    "        else:\n",
    "            self.current_idx += 1\n",
    "    \n",
    "    def pick(self, last_name, force=False):\n",
    "        driver = self.driver_pool.get_driver(last_name)\n",
    "        if not driver:\n",
    "            print(f'Driver: ``{last_name}`` not available!')\n",
    "            return\n",
    "        pick = (self.players_lst[self.picking_order[self.current_idx]]\n",
    "                .pick_driver(driver, force))\n",
    "        if not pick:\n",
    "            return\n",
    "        self.move_idx()\n",
    "\n",
    "\n",
    "class Player:\n",
    "    def __init__(self, name, budget=153):\n",
    "        self.budget = budget\n",
    "        self.name = name\n",
    "        self.roster = []\n",
    "        \n",
    "    def pick_driver(self, driver, force=False):\n",
    "        if not force and driver.cost > self.budget:\n",
    "            print(f'Cannot afford ``{driver.name}``. Budget: {self.budget}.')\n",
    "            return\n",
    "        self.budget -= driver.cost\n",
    "        self.roster.append(driver)\n",
    "        print(f'{self.name} selected {driver.name}!')\n",
    "        print(f'\\t{self.budget} points remaining.')\n",
    "        self.__repr__()\n",
    "        return 1\n",
    "        \n",
    "    def __repr__(self):\n",
    "        print(f'{self.name} | Budget: {self.budget}')\n",
    "        for d in self.roster:\n",
    "            print(f'\\t{d}')\n",
    "        return ''\n",
    "    \n",
    "class RaceDriver:\n",
    "    def __init__(self, name, nationality, car, cost):\n",
    "        self.name = unidecode.unidecode(name)\n",
    "        self.first, self.last = self.name.split()\n",
    "        self.nationality = nationality\n",
    "        self.car = car\n",
    "        self.cost = cost\n",
    "        \n",
    "    def __str__(self):\n",
    "        return f'{self.name} | {self.nationality} | {self.car} | {self.cost}'\n",
    "    \n",
    "    def __repr__(self):\n",
    "        return f'{self.name} | {self.nationality} | {self.car} | {self.cost}'\n",
    "    \n",
    "    \n",
    "class DriverPool:\n",
    "    def __init__(self, df):\n",
    "        drivers_lst = [\n",
    "            RaceDriver(r['DRIVER'], r['NATIONALITY'], r['CAR'], int(r['PTS']))\n",
    "            for idx, r in df.iterrows()\n",
    "        ]\n",
    "        self.pool = {d.last: d for d in drivers_lst}\n",
    "        \n",
    "    def __repr__(self):\n",
    "        return '\\n'.join([d.__str__() for d in self.pool.values()])\n",
    "    \n",
    "    def get_driver(self, last_name):\n",
    "        return self.pool.pop(last_name, None)"
   ]
  },
  {
   "cell_type": "code",
   "execution_count": 3,
   "id": "062b6fd0",
   "metadata": {
    "ExecuteTime": {
     "end_time": "2021-06-20T11:41:40.915209Z",
     "start_time": "2021-06-20T11:41:40.907387Z"
    }
   },
   "outputs": [],
   "source": [
    "current_standings = pd.read_csv('current_standings.csv', index_col=0)"
   ]
  },
  {
   "cell_type": "code",
   "execution_count": 4,
   "id": "e9191cf3",
   "metadata": {
    "ExecuteTime": {
     "end_time": "2021-06-20T11:41:40.919939Z",
     "start_time": "2021-06-20T11:41:40.917453Z"
    }
   },
   "outputs": [],
   "source": [
    "TEAM_NAMES = [\n",
    "    'Carlaniel & the Romeos',\n",
    "    'Scuderia Spaghetti',\n",
    "    '3 Orange Whips',\n",
    "    'Deep Fried'\n",
    "]"
   ]
  },
  {
   "cell_type": "code",
   "execution_count": 5,
   "id": "0601cdc2",
   "metadata": {
    "ExecuteTime": {
     "end_time": "2021-06-20T11:41:40.930782Z",
     "start_time": "2021-06-20T11:41:40.922249Z"
    }
   },
   "outputs": [
    {
     "name": "stdout",
     "output_type": "stream",
     "text": [
      "Welcome to the Draft!\n",
      "---------------------\n",
      "The Draft Order is:\n",
      "\t1. Carlaniel & the Romeos\n",
      "\t2. Scuderia Spaghetti\n",
      "\t3. 3 Orange Whips\n",
      "\t4. Deep Fried\n"
     ]
    }
   ],
   "source": [
    "main = Draft(TEAM_NAMES, \n",
    "             current_standings, \n",
    "             randomize_order=False)"
   ]
  },
  {
   "cell_type": "code",
   "execution_count": 6,
   "id": "5dc757ec",
   "metadata": {
    "ExecuteTime": {
     "end_time": "2021-06-20T11:41:40.942510Z",
     "start_time": "2021-06-20T11:41:40.932463Z"
    }
   },
   "outputs": [
    {
     "name": "stdout",
     "output_type": "stream",
     "text": [
      "Carlaniel & the Romeos is on the clock!\n",
      "****************************************\n",
      "Max Verstappen | NED | RED BULL RACING HONDA | 105\n",
      "Lewis Hamilton | GBR | MERCEDES | 101\n",
      "Sergio Perez | MEX | RED BULL RACING HONDA | 69\n",
      "Lando Norris | GBR | MCLAREN MERCEDES | 66\n",
      "Charles Leclerc | MON | FERRARI | 52\n",
      "Valtteri Bottas | FIN | MERCEDES | 47\n",
      "Carlos Sainz | ESP | FERRARI | 42\n",
      "Pierre Gasly | FRA | ALPHATAURI HONDA | 31\n",
      "Sebastian Vettel | GER | ASTON MARTIN MERCEDES | 28\n",
      "Daniel Ricciardo | AUS | MCLAREN MERCEDES | 26\n",
      "Fernando Alonso | ESP | ALPINE RENAULT | 13\n",
      "Esteban Ocon | FRA | ALPINE RENAULT | 12\n",
      "Lance Stroll | CAN | ASTON MARTIN MERCEDES | 9\n",
      "Yuki Tsunoda | JPN | ALPHATAURI HONDA | 8\n",
      "Kimi Raikkonen | FIN | ALFA ROMEO RACING FERRARI | 1\n",
      "Antonio Giovinazzi | ITA | ALFA ROMEO RACING FERRARI | 1\n",
      "Mick Schumacher | GER | HAAS FERRARI | 0\n",
      "George Russell | GBR | WILLIAMS MERCEDES | 0\n",
      "Nikita Mazepin | RAF | HAAS FERRARI | 0\n",
      "Nicholas Latifi | CAN | WILLIAMS MERCEDES | 0\n"
     ]
    },
    {
     "data": {
      "text/plain": []
     },
     "execution_count": 6,
     "metadata": {},
     "output_type": "execute_result"
    }
   ],
   "source": [
    "main"
   ]
  },
  {
   "cell_type": "code",
   "execution_count": 7,
   "id": "4366215d",
   "metadata": {
    "ExecuteTime": {
     "end_time": "2021-06-20T11:41:40.946770Z",
     "start_time": "2021-06-20T11:41:40.944114Z"
    }
   },
   "outputs": [
    {
     "name": "stdout",
     "output_type": "stream",
     "text": [
      "Carlaniel & the Romeos selected Lando Norris!\n",
      "\t87 points remaining.\n",
      "Carlaniel & the Romeos | Budget: 87\n",
      "\tLando Norris | GBR | MCLAREN MERCEDES | 66\n"
     ]
    }
   ],
   "source": [
    "main.pick('Norris')"
   ]
  },
  {
   "cell_type": "code",
   "execution_count": 8,
   "id": "fab9165c",
   "metadata": {
    "ExecuteTime": {
     "end_time": "2021-06-20T11:41:40.954442Z",
     "start_time": "2021-06-20T11:41:40.951727Z"
    }
   },
   "outputs": [
    {
     "name": "stdout",
     "output_type": "stream",
     "text": [
      "Carlaniel & the Romeos | Budget: 87\n",
      "\tLando Norris | GBR | MCLAREN MERCEDES | 66\n",
      "\n",
      "Scuderia Spaghetti | Budget: 153\n",
      "\n",
      "3 Orange Whips | Budget: 153\n",
      "\n",
      "Deep Fried | Budget: 153\n",
      "\n"
     ]
    }
   ],
   "source": [
    "main.show_rosters()"
   ]
  },
  {
   "cell_type": "code",
   "execution_count": 9,
   "id": "1492648e",
   "metadata": {
    "ExecuteTime": {
     "end_time": "2021-06-20T11:41:40.961415Z",
     "start_time": "2021-06-20T11:41:40.957533Z"
    }
   },
   "outputs": [
    {
     "name": "stdout",
     "output_type": "stream",
     "text": [
      "Scuderia Spaghetti is on the clock!\n",
      "****************************************\n",
      "Max Verstappen | NED | RED BULL RACING HONDA | 105\n",
      "Lewis Hamilton | GBR | MERCEDES | 101\n",
      "Sergio Perez | MEX | RED BULL RACING HONDA | 69\n",
      "Charles Leclerc | MON | FERRARI | 52\n",
      "Valtteri Bottas | FIN | MERCEDES | 47\n",
      "Carlos Sainz | ESP | FERRARI | 42\n",
      "Pierre Gasly | FRA | ALPHATAURI HONDA | 31\n",
      "Sebastian Vettel | GER | ASTON MARTIN MERCEDES | 28\n",
      "Daniel Ricciardo | AUS | MCLAREN MERCEDES | 26\n",
      "Fernando Alonso | ESP | ALPINE RENAULT | 13\n",
      "Esteban Ocon | FRA | ALPINE RENAULT | 12\n",
      "Lance Stroll | CAN | ASTON MARTIN MERCEDES | 9\n",
      "Yuki Tsunoda | JPN | ALPHATAURI HONDA | 8\n",
      "Kimi Raikkonen | FIN | ALFA ROMEO RACING FERRARI | 1\n",
      "Antonio Giovinazzi | ITA | ALFA ROMEO RACING FERRARI | 1\n",
      "Mick Schumacher | GER | HAAS FERRARI | 0\n",
      "George Russell | GBR | WILLIAMS MERCEDES | 0\n",
      "Nikita Mazepin | RAF | HAAS FERRARI | 0\n",
      "Nicholas Latifi | CAN | WILLIAMS MERCEDES | 0\n"
     ]
    },
    {
     "data": {
      "text/plain": []
     },
     "execution_count": 9,
     "metadata": {},
     "output_type": "execute_result"
    }
   ],
   "source": [
    "main"
   ]
  },
  {
   "cell_type": "code",
   "execution_count": 10,
   "id": "34b2451b",
   "metadata": {
    "ExecuteTime": {
     "end_time": "2021-06-20T11:41:40.966744Z",
     "start_time": "2021-06-20T11:41:40.963157Z"
    }
   },
   "outputs": [
    {
     "name": "stdout",
     "output_type": "stream",
     "text": [
      "Scuderia Spaghetti selected Lewis Hamilton!\n",
      "\t52 points remaining.\n",
      "Scuderia Spaghetti | Budget: 52\n",
      "\tLewis Hamilton | GBR | MERCEDES | 101\n"
     ]
    }
   ],
   "source": [
    "main.pick('Hamilton')"
   ]
  },
  {
   "cell_type": "code",
   "execution_count": 11,
   "id": "6addd512",
   "metadata": {
    "ExecuteTime": {
     "end_time": "2021-06-20T11:41:40.973548Z",
     "start_time": "2021-06-20T11:41:40.969685Z"
    }
   },
   "outputs": [
    {
     "name": "stdout",
     "output_type": "stream",
     "text": [
      "Carlaniel & the Romeos | Budget: 87\n",
      "\tLando Norris | GBR | MCLAREN MERCEDES | 66\n",
      "\n",
      "Scuderia Spaghetti | Budget: 52\n",
      "\tLewis Hamilton | GBR | MERCEDES | 101\n",
      "\n",
      "3 Orange Whips | Budget: 153\n",
      "\n",
      "Deep Fried | Budget: 153\n",
      "\n"
     ]
    }
   ],
   "source": [
    "main.show_rosters()"
   ]
  },
  {
   "cell_type": "code",
   "execution_count": 12,
   "id": "42076360",
   "metadata": {
    "ExecuteTime": {
     "end_time": "2021-06-20T11:41:40.980523Z",
     "start_time": "2021-06-20T11:41:40.975717Z"
    }
   },
   "outputs": [
    {
     "name": "stdout",
     "output_type": "stream",
     "text": [
      "3 Orange Whips is on the clock!\n",
      "****************************************\n",
      "Max Verstappen | NED | RED BULL RACING HONDA | 105\n",
      "Sergio Perez | MEX | RED BULL RACING HONDA | 69\n",
      "Charles Leclerc | MON | FERRARI | 52\n",
      "Valtteri Bottas | FIN | MERCEDES | 47\n",
      "Carlos Sainz | ESP | FERRARI | 42\n",
      "Pierre Gasly | FRA | ALPHATAURI HONDA | 31\n",
      "Sebastian Vettel | GER | ASTON MARTIN MERCEDES | 28\n",
      "Daniel Ricciardo | AUS | MCLAREN MERCEDES | 26\n",
      "Fernando Alonso | ESP | ALPINE RENAULT | 13\n",
      "Esteban Ocon | FRA | ALPINE RENAULT | 12\n",
      "Lance Stroll | CAN | ASTON MARTIN MERCEDES | 9\n",
      "Yuki Tsunoda | JPN | ALPHATAURI HONDA | 8\n",
      "Kimi Raikkonen | FIN | ALFA ROMEO RACING FERRARI | 1\n",
      "Antonio Giovinazzi | ITA | ALFA ROMEO RACING FERRARI | 1\n",
      "Mick Schumacher | GER | HAAS FERRARI | 0\n",
      "George Russell | GBR | WILLIAMS MERCEDES | 0\n",
      "Nikita Mazepin | RAF | HAAS FERRARI | 0\n",
      "Nicholas Latifi | CAN | WILLIAMS MERCEDES | 0\n"
     ]
    },
    {
     "data": {
      "text/plain": []
     },
     "execution_count": 12,
     "metadata": {},
     "output_type": "execute_result"
    }
   ],
   "source": [
    "main"
   ]
  },
  {
   "cell_type": "code",
   "execution_count": 13,
   "id": "9bd439b7",
   "metadata": {
    "ExecuteTime": {
     "end_time": "2021-06-20T11:41:40.985639Z",
     "start_time": "2021-06-20T11:41:40.982626Z"
    }
   },
   "outputs": [
    {
     "name": "stdout",
     "output_type": "stream",
     "text": [
      "3 Orange Whips selected Max Verstappen!\n",
      "\t48 points remaining.\n",
      "3 Orange Whips | Budget: 48\n",
      "\tMax Verstappen | NED | RED BULL RACING HONDA | 105\n"
     ]
    }
   ],
   "source": [
    "main.pick('Verstappen')"
   ]
  },
  {
   "cell_type": "code",
   "execution_count": 14,
   "id": "b4195008",
   "metadata": {
    "ExecuteTime": {
     "end_time": "2021-06-20T11:41:40.990716Z",
     "start_time": "2021-06-20T11:41:40.987650Z"
    }
   },
   "outputs": [
    {
     "name": "stdout",
     "output_type": "stream",
     "text": [
      "Carlaniel & the Romeos | Budget: 87\n",
      "\tLando Norris | GBR | MCLAREN MERCEDES | 66\n",
      "\n",
      "Scuderia Spaghetti | Budget: 52\n",
      "\tLewis Hamilton | GBR | MERCEDES | 101\n",
      "\n",
      "3 Orange Whips | Budget: 48\n",
      "\tMax Verstappen | NED | RED BULL RACING HONDA | 105\n",
      "\n",
      "Deep Fried | Budget: 153\n",
      "\n"
     ]
    }
   ],
   "source": [
    "main.show_rosters()"
   ]
  },
  {
   "cell_type": "code",
   "execution_count": 15,
   "id": "077dfad3",
   "metadata": {
    "ExecuteTime": {
     "end_time": "2021-06-20T11:41:40.998217Z",
     "start_time": "2021-06-20T11:41:40.993621Z"
    }
   },
   "outputs": [
    {
     "name": "stdout",
     "output_type": "stream",
     "text": [
      "Deep Fried is on the clock!\n",
      "****************************************\n",
      "Sergio Perez | MEX | RED BULL RACING HONDA | 69\n",
      "Charles Leclerc | MON | FERRARI | 52\n",
      "Valtteri Bottas | FIN | MERCEDES | 47\n",
      "Carlos Sainz | ESP | FERRARI | 42\n",
      "Pierre Gasly | FRA | ALPHATAURI HONDA | 31\n",
      "Sebastian Vettel | GER | ASTON MARTIN MERCEDES | 28\n",
      "Daniel Ricciardo | AUS | MCLAREN MERCEDES | 26\n",
      "Fernando Alonso | ESP | ALPINE RENAULT | 13\n",
      "Esteban Ocon | FRA | ALPINE RENAULT | 12\n",
      "Lance Stroll | CAN | ASTON MARTIN MERCEDES | 9\n",
      "Yuki Tsunoda | JPN | ALPHATAURI HONDA | 8\n",
      "Kimi Raikkonen | FIN | ALFA ROMEO RACING FERRARI | 1\n",
      "Antonio Giovinazzi | ITA | ALFA ROMEO RACING FERRARI | 1\n",
      "Mick Schumacher | GER | HAAS FERRARI | 0\n",
      "George Russell | GBR | WILLIAMS MERCEDES | 0\n",
      "Nikita Mazepin | RAF | HAAS FERRARI | 0\n",
      "Nicholas Latifi | CAN | WILLIAMS MERCEDES | 0\n"
     ]
    },
    {
     "data": {
      "text/plain": []
     },
     "execution_count": 15,
     "metadata": {},
     "output_type": "execute_result"
    }
   ],
   "source": [
    "main"
   ]
  },
  {
   "cell_type": "code",
   "execution_count": 16,
   "id": "2eec4abd",
   "metadata": {
    "ExecuteTime": {
     "end_time": "2021-06-20T11:41:41.004696Z",
     "start_time": "2021-06-20T11:41:41.000576Z"
    }
   },
   "outputs": [
    {
     "name": "stdout",
     "output_type": "stream",
     "text": [
      "Deep Fried selected Valtteri Bottas!\n",
      "\t106 points remaining.\n",
      "Deep Fried | Budget: 106\n",
      "\tValtteri Bottas | FIN | MERCEDES | 47\n"
     ]
    }
   ],
   "source": [
    "main.pick('Bottas')"
   ]
  },
  {
   "cell_type": "code",
   "execution_count": 17,
   "id": "bc11e839",
   "metadata": {
    "ExecuteTime": {
     "end_time": "2021-06-20T11:41:41.013535Z",
     "start_time": "2021-06-20T11:41:41.008701Z"
    }
   },
   "outputs": [
    {
     "name": "stdout",
     "output_type": "stream",
     "text": [
      "Carlaniel & the Romeos | Budget: 87\n",
      "\tLando Norris | GBR | MCLAREN MERCEDES | 66\n",
      "\n",
      "Scuderia Spaghetti | Budget: 52\n",
      "\tLewis Hamilton | GBR | MERCEDES | 101\n",
      "\n",
      "3 Orange Whips | Budget: 48\n",
      "\tMax Verstappen | NED | RED BULL RACING HONDA | 105\n",
      "\n",
      "Deep Fried | Budget: 106\n",
      "\tValtteri Bottas | FIN | MERCEDES | 47\n",
      "\n"
     ]
    }
   ],
   "source": [
    "main.show_rosters()"
   ]
  },
  {
   "cell_type": "code",
   "execution_count": 18,
   "id": "d0ed725f",
   "metadata": {
    "ExecuteTime": {
     "end_time": "2021-06-20T11:41:41.021818Z",
     "start_time": "2021-06-20T11:41:41.016044Z"
    }
   },
   "outputs": [
    {
     "name": "stdout",
     "output_type": "stream",
     "text": [
      "Deep Fried is on the clock!\n",
      "****************************************\n",
      "Sergio Perez | MEX | RED BULL RACING HONDA | 69\n",
      "Charles Leclerc | MON | FERRARI | 52\n",
      "Carlos Sainz | ESP | FERRARI | 42\n",
      "Pierre Gasly | FRA | ALPHATAURI HONDA | 31\n",
      "Sebastian Vettel | GER | ASTON MARTIN MERCEDES | 28\n",
      "Daniel Ricciardo | AUS | MCLAREN MERCEDES | 26\n",
      "Fernando Alonso | ESP | ALPINE RENAULT | 13\n",
      "Esteban Ocon | FRA | ALPINE RENAULT | 12\n",
      "Lance Stroll | CAN | ASTON MARTIN MERCEDES | 9\n",
      "Yuki Tsunoda | JPN | ALPHATAURI HONDA | 8\n",
      "Kimi Raikkonen | FIN | ALFA ROMEO RACING FERRARI | 1\n",
      "Antonio Giovinazzi | ITA | ALFA ROMEO RACING FERRARI | 1\n",
      "Mick Schumacher | GER | HAAS FERRARI | 0\n",
      "George Russell | GBR | WILLIAMS MERCEDES | 0\n",
      "Nikita Mazepin | RAF | HAAS FERRARI | 0\n",
      "Nicholas Latifi | CAN | WILLIAMS MERCEDES | 0\n"
     ]
    },
    {
     "data": {
      "text/plain": []
     },
     "execution_count": 18,
     "metadata": {},
     "output_type": "execute_result"
    }
   ],
   "source": [
    "main"
   ]
  },
  {
   "cell_type": "code",
   "execution_count": 19,
   "id": "d7506088",
   "metadata": {
    "ExecuteTime": {
     "end_time": "2021-06-20T11:41:41.027022Z",
     "start_time": "2021-06-20T11:41:41.023608Z"
    }
   },
   "outputs": [
    {
     "name": "stdout",
     "output_type": "stream",
     "text": [
      "Deep Fried selected Sergio Perez!\n",
      "\t37 points remaining.\n",
      "Deep Fried | Budget: 37\n",
      "\tValtteri Bottas | FIN | MERCEDES | 47\n",
      "\tSergio Perez | MEX | RED BULL RACING HONDA | 69\n"
     ]
    }
   ],
   "source": [
    "main.pick('Perez')"
   ]
  },
  {
   "cell_type": "code",
   "execution_count": 20,
   "id": "d2f0dffa",
   "metadata": {
    "ExecuteTime": {
     "end_time": "2021-06-20T11:41:41.033853Z",
     "start_time": "2021-06-20T11:41:41.029491Z"
    }
   },
   "outputs": [
    {
     "name": "stdout",
     "output_type": "stream",
     "text": [
      "Carlaniel & the Romeos | Budget: 87\n",
      "\tLando Norris | GBR | MCLAREN MERCEDES | 66\n",
      "\n",
      "Scuderia Spaghetti | Budget: 52\n",
      "\tLewis Hamilton | GBR | MERCEDES | 101\n",
      "\n",
      "3 Orange Whips | Budget: 48\n",
      "\tMax Verstappen | NED | RED BULL RACING HONDA | 105\n",
      "\n",
      "Deep Fried | Budget: 37\n",
      "\tValtteri Bottas | FIN | MERCEDES | 47\n",
      "\tSergio Perez | MEX | RED BULL RACING HONDA | 69\n",
      "\n"
     ]
    }
   ],
   "source": [
    "main.show_rosters()"
   ]
  },
  {
   "cell_type": "code",
   "execution_count": 21,
   "id": "54c7eb9e",
   "metadata": {
    "ExecuteTime": {
     "end_time": "2021-06-20T11:41:41.040210Z",
     "start_time": "2021-06-20T11:41:41.035843Z"
    }
   },
   "outputs": [
    {
     "name": "stdout",
     "output_type": "stream",
     "text": [
      "3 Orange Whips is on the clock!\n",
      "****************************************\n",
      "Charles Leclerc | MON | FERRARI | 52\n",
      "Carlos Sainz | ESP | FERRARI | 42\n",
      "Pierre Gasly | FRA | ALPHATAURI HONDA | 31\n",
      "Sebastian Vettel | GER | ASTON MARTIN MERCEDES | 28\n",
      "Daniel Ricciardo | AUS | MCLAREN MERCEDES | 26\n",
      "Fernando Alonso | ESP | ALPINE RENAULT | 13\n",
      "Esteban Ocon | FRA | ALPINE RENAULT | 12\n",
      "Lance Stroll | CAN | ASTON MARTIN MERCEDES | 9\n",
      "Yuki Tsunoda | JPN | ALPHATAURI HONDA | 8\n",
      "Kimi Raikkonen | FIN | ALFA ROMEO RACING FERRARI | 1\n",
      "Antonio Giovinazzi | ITA | ALFA ROMEO RACING FERRARI | 1\n",
      "Mick Schumacher | GER | HAAS FERRARI | 0\n",
      "George Russell | GBR | WILLIAMS MERCEDES | 0\n",
      "Nikita Mazepin | RAF | HAAS FERRARI | 0\n",
      "Nicholas Latifi | CAN | WILLIAMS MERCEDES | 0\n"
     ]
    },
    {
     "data": {
      "text/plain": []
     },
     "execution_count": 21,
     "metadata": {},
     "output_type": "execute_result"
    }
   ],
   "source": [
    "main"
   ]
  },
  {
   "cell_type": "code",
   "execution_count": 22,
   "id": "ffb3d18d",
   "metadata": {
    "ExecuteTime": {
     "end_time": "2021-06-20T11:41:41.045674Z",
     "start_time": "2021-06-20T11:41:41.042749Z"
    }
   },
   "outputs": [
    {
     "name": "stdout",
     "output_type": "stream",
     "text": [
      "3 Orange Whips selected Pierre Gasly!\n",
      "\t17 points remaining.\n",
      "3 Orange Whips | Budget: 17\n",
      "\tMax Verstappen | NED | RED BULL RACING HONDA | 105\n",
      "\tPierre Gasly | FRA | ALPHATAURI HONDA | 31\n"
     ]
    }
   ],
   "source": [
    "main.pick('Gasly')"
   ]
  },
  {
   "cell_type": "code",
   "execution_count": 23,
   "id": "2b066901",
   "metadata": {
    "ExecuteTime": {
     "end_time": "2021-06-20T11:41:41.057397Z",
     "start_time": "2021-06-20T11:41:41.053554Z"
    }
   },
   "outputs": [
    {
     "name": "stdout",
     "output_type": "stream",
     "text": [
      "Scuderia Spaghetti is on the clock!\n",
      "****************************************\n",
      "Charles Leclerc | MON | FERRARI | 52\n",
      "Carlos Sainz | ESP | FERRARI | 42\n",
      "Sebastian Vettel | GER | ASTON MARTIN MERCEDES | 28\n",
      "Daniel Ricciardo | AUS | MCLAREN MERCEDES | 26\n",
      "Fernando Alonso | ESP | ALPINE RENAULT | 13\n",
      "Esteban Ocon | FRA | ALPINE RENAULT | 12\n",
      "Lance Stroll | CAN | ASTON MARTIN MERCEDES | 9\n",
      "Yuki Tsunoda | JPN | ALPHATAURI HONDA | 8\n",
      "Kimi Raikkonen | FIN | ALFA ROMEO RACING FERRARI | 1\n",
      "Antonio Giovinazzi | ITA | ALFA ROMEO RACING FERRARI | 1\n",
      "Mick Schumacher | GER | HAAS FERRARI | 0\n",
      "George Russell | GBR | WILLIAMS MERCEDES | 0\n",
      "Nikita Mazepin | RAF | HAAS FERRARI | 0\n",
      "Nicholas Latifi | CAN | WILLIAMS MERCEDES | 0\n"
     ]
    },
    {
     "data": {
      "text/plain": []
     },
     "execution_count": 23,
     "metadata": {},
     "output_type": "execute_result"
    }
   ],
   "source": [
    "main"
   ]
  },
  {
   "cell_type": "code",
   "execution_count": 24,
   "id": "370d9215",
   "metadata": {
    "ExecuteTime": {
     "end_time": "2021-06-20T11:41:41.063689Z",
     "start_time": "2021-06-20T11:41:41.060715Z"
    }
   },
   "outputs": [
    {
     "name": "stdout",
     "output_type": "stream",
     "text": [
      "Scuderia Spaghetti selected Charles Leclerc!\n",
      "\t0 points remaining.\n",
      "Scuderia Spaghetti | Budget: 0\n",
      "\tLewis Hamilton | GBR | MERCEDES | 101\n",
      "\tCharles Leclerc | MON | FERRARI | 52\n"
     ]
    }
   ],
   "source": [
    "main.pick('Leclerc')"
   ]
  },
  {
   "cell_type": "code",
   "execution_count": 25,
   "id": "bfa61329",
   "metadata": {
    "ExecuteTime": {
     "end_time": "2021-06-20T11:41:41.072117Z",
     "start_time": "2021-06-20T11:41:41.066341Z"
    }
   },
   "outputs": [
    {
     "name": "stdout",
     "output_type": "stream",
     "text": [
      "Carlaniel & the Romeos is on the clock!\n",
      "****************************************\n",
      "Carlos Sainz | ESP | FERRARI | 42\n",
      "Sebastian Vettel | GER | ASTON MARTIN MERCEDES | 28\n",
      "Daniel Ricciardo | AUS | MCLAREN MERCEDES | 26\n",
      "Fernando Alonso | ESP | ALPINE RENAULT | 13\n",
      "Esteban Ocon | FRA | ALPINE RENAULT | 12\n",
      "Lance Stroll | CAN | ASTON MARTIN MERCEDES | 9\n",
      "Yuki Tsunoda | JPN | ALPHATAURI HONDA | 8\n",
      "Kimi Raikkonen | FIN | ALFA ROMEO RACING FERRARI | 1\n",
      "Antonio Giovinazzi | ITA | ALFA ROMEO RACING FERRARI | 1\n",
      "Mick Schumacher | GER | HAAS FERRARI | 0\n",
      "George Russell | GBR | WILLIAMS MERCEDES | 0\n",
      "Nikita Mazepin | RAF | HAAS FERRARI | 0\n",
      "Nicholas Latifi | CAN | WILLIAMS MERCEDES | 0\n"
     ]
    },
    {
     "data": {
      "text/plain": []
     },
     "execution_count": 25,
     "metadata": {},
     "output_type": "execute_result"
    }
   ],
   "source": [
    "main"
   ]
  },
  {
   "cell_type": "code",
   "execution_count": 26,
   "id": "25124b5d",
   "metadata": {
    "ExecuteTime": {
     "end_time": "2021-06-20T11:41:41.077244Z",
     "start_time": "2021-06-20T11:41:41.074379Z"
    }
   },
   "outputs": [
    {
     "name": "stdout",
     "output_type": "stream",
     "text": [
      "Carlaniel & the Romeos selected Carlos Sainz!\n",
      "\t45 points remaining.\n",
      "Carlaniel & the Romeos | Budget: 45\n",
      "\tLando Norris | GBR | MCLAREN MERCEDES | 66\n",
      "\tCarlos Sainz | ESP | FERRARI | 42\n"
     ]
    }
   ],
   "source": [
    "main.pick('Sainz')"
   ]
  },
  {
   "cell_type": "code",
   "execution_count": 27,
   "id": "1d066ba2",
   "metadata": {
    "ExecuteTime": {
     "end_time": "2021-06-20T11:41:41.084299Z",
     "start_time": "2021-06-20T11:41:41.079210Z"
    }
   },
   "outputs": [
    {
     "name": "stdout",
     "output_type": "stream",
     "text": [
      "Carlaniel & the Romeos is on the clock!\n",
      "****************************************\n",
      "Sebastian Vettel | GER | ASTON MARTIN MERCEDES | 28\n",
      "Daniel Ricciardo | AUS | MCLAREN MERCEDES | 26\n",
      "Fernando Alonso | ESP | ALPINE RENAULT | 13\n",
      "Esteban Ocon | FRA | ALPINE RENAULT | 12\n",
      "Lance Stroll | CAN | ASTON MARTIN MERCEDES | 9\n",
      "Yuki Tsunoda | JPN | ALPHATAURI HONDA | 8\n",
      "Kimi Raikkonen | FIN | ALFA ROMEO RACING FERRARI | 1\n",
      "Antonio Giovinazzi | ITA | ALFA ROMEO RACING FERRARI | 1\n",
      "Mick Schumacher | GER | HAAS FERRARI | 0\n",
      "George Russell | GBR | WILLIAMS MERCEDES | 0\n",
      "Nikita Mazepin | RAF | HAAS FERRARI | 0\n",
      "Nicholas Latifi | CAN | WILLIAMS MERCEDES | 0\n"
     ]
    },
    {
     "data": {
      "text/plain": []
     },
     "execution_count": 27,
     "metadata": {},
     "output_type": "execute_result"
    }
   ],
   "source": [
    "main"
   ]
  },
  {
   "cell_type": "code",
   "execution_count": 28,
   "id": "7aa55c4d",
   "metadata": {
    "ExecuteTime": {
     "end_time": "2021-06-20T11:41:41.089778Z",
     "start_time": "2021-06-20T11:41:41.086522Z"
    }
   },
   "outputs": [
    {
     "name": "stdout",
     "output_type": "stream",
     "text": [
      "Carlaniel & the Romeos selected Daniel Ricciardo!\n",
      "\t19 points remaining.\n",
      "Carlaniel & the Romeos | Budget: 19\n",
      "\tLando Norris | GBR | MCLAREN MERCEDES | 66\n",
      "\tCarlos Sainz | ESP | FERRARI | 42\n",
      "\tDaniel Ricciardo | AUS | MCLAREN MERCEDES | 26\n"
     ]
    }
   ],
   "source": [
    "main.pick('Ricciardo')"
   ]
  },
  {
   "cell_type": "code",
   "execution_count": 29,
   "id": "601cca05",
   "metadata": {
    "ExecuteTime": {
     "end_time": "2021-06-20T11:41:41.096581Z",
     "start_time": "2021-06-20T11:41:41.091615Z"
    }
   },
   "outputs": [
    {
     "name": "stdout",
     "output_type": "stream",
     "text": [
      "Scuderia Spaghetti is on the clock!\n",
      "****************************************\n",
      "Sebastian Vettel | GER | ASTON MARTIN MERCEDES | 28\n",
      "Fernando Alonso | ESP | ALPINE RENAULT | 13\n",
      "Esteban Ocon | FRA | ALPINE RENAULT | 12\n",
      "Lance Stroll | CAN | ASTON MARTIN MERCEDES | 9\n",
      "Yuki Tsunoda | JPN | ALPHATAURI HONDA | 8\n",
      "Kimi Raikkonen | FIN | ALFA ROMEO RACING FERRARI | 1\n",
      "Antonio Giovinazzi | ITA | ALFA ROMEO RACING FERRARI | 1\n",
      "Mick Schumacher | GER | HAAS FERRARI | 0\n",
      "George Russell | GBR | WILLIAMS MERCEDES | 0\n",
      "Nikita Mazepin | RAF | HAAS FERRARI | 0\n",
      "Nicholas Latifi | CAN | WILLIAMS MERCEDES | 0\n"
     ]
    },
    {
     "data": {
      "text/plain": []
     },
     "execution_count": 29,
     "metadata": {},
     "output_type": "execute_result"
    }
   ],
   "source": [
    "main"
   ]
  },
  {
   "cell_type": "code",
   "execution_count": 30,
   "id": "5adb61f4",
   "metadata": {
    "ExecuteTime": {
     "end_time": "2021-06-20T11:41:41.101503Z",
     "start_time": "2021-06-20T11:41:41.098483Z"
    }
   },
   "outputs": [
    {
     "name": "stdout",
     "output_type": "stream",
     "text": [
      "Scuderia Spaghetti selected George Russell!\n",
      "\t0 points remaining.\n",
      "Scuderia Spaghetti | Budget: 0\n",
      "\tLewis Hamilton | GBR | MERCEDES | 101\n",
      "\tCharles Leclerc | MON | FERRARI | 52\n",
      "\tGeorge Russell | GBR | WILLIAMS MERCEDES | 0\n"
     ]
    }
   ],
   "source": [
    "main.pick('Russell')"
   ]
  },
  {
   "cell_type": "code",
   "execution_count": 31,
   "id": "4260a2e0",
   "metadata": {
    "ExecuteTime": {
     "end_time": "2021-06-20T11:41:41.107538Z",
     "start_time": "2021-06-20T11:41:41.103389Z"
    }
   },
   "outputs": [
    {
     "name": "stdout",
     "output_type": "stream",
     "text": [
      "3 Orange Whips is on the clock!\n",
      "****************************************\n",
      "Sebastian Vettel | GER | ASTON MARTIN MERCEDES | 28\n",
      "Fernando Alonso | ESP | ALPINE RENAULT | 13\n",
      "Esteban Ocon | FRA | ALPINE RENAULT | 12\n",
      "Lance Stroll | CAN | ASTON MARTIN MERCEDES | 9\n",
      "Yuki Tsunoda | JPN | ALPHATAURI HONDA | 8\n",
      "Kimi Raikkonen | FIN | ALFA ROMEO RACING FERRARI | 1\n",
      "Antonio Giovinazzi | ITA | ALFA ROMEO RACING FERRARI | 1\n",
      "Mick Schumacher | GER | HAAS FERRARI | 0\n",
      "Nikita Mazepin | RAF | HAAS FERRARI | 0\n",
      "Nicholas Latifi | CAN | WILLIAMS MERCEDES | 0\n"
     ]
    },
    {
     "data": {
      "text/plain": []
     },
     "execution_count": 31,
     "metadata": {},
     "output_type": "execute_result"
    }
   ],
   "source": [
    "main"
   ]
  },
  {
   "cell_type": "code",
   "execution_count": 32,
   "id": "e9474c6b",
   "metadata": {
    "ExecuteTime": {
     "end_time": "2021-06-20T11:41:41.111950Z",
     "start_time": "2021-06-20T11:41:41.109350Z"
    }
   },
   "outputs": [
    {
     "name": "stdout",
     "output_type": "stream",
     "text": [
      "3 Orange Whips selected Fernando Alonso!\n",
      "\t4 points remaining.\n",
      "3 Orange Whips | Budget: 4\n",
      "\tMax Verstappen | NED | RED BULL RACING HONDA | 105\n",
      "\tPierre Gasly | FRA | ALPHATAURI HONDA | 31\n",
      "\tFernando Alonso | ESP | ALPINE RENAULT | 13\n"
     ]
    }
   ],
   "source": [
    "main.pick('Alonso')"
   ]
  },
  {
   "cell_type": "code",
   "execution_count": 33,
   "id": "136b181b",
   "metadata": {
    "ExecuteTime": {
     "end_time": "2021-06-20T11:41:41.117603Z",
     "start_time": "2021-06-20T11:41:41.113687Z"
    }
   },
   "outputs": [
    {
     "name": "stdout",
     "output_type": "stream",
     "text": [
      "Deep Fried is on the clock!\n",
      "****************************************\n",
      "Sebastian Vettel | GER | ASTON MARTIN MERCEDES | 28\n",
      "Esteban Ocon | FRA | ALPINE RENAULT | 12\n",
      "Lance Stroll | CAN | ASTON MARTIN MERCEDES | 9\n",
      "Yuki Tsunoda | JPN | ALPHATAURI HONDA | 8\n",
      "Kimi Raikkonen | FIN | ALFA ROMEO RACING FERRARI | 1\n",
      "Antonio Giovinazzi | ITA | ALFA ROMEO RACING FERRARI | 1\n",
      "Mick Schumacher | GER | HAAS FERRARI | 0\n",
      "Nikita Mazepin | RAF | HAAS FERRARI | 0\n",
      "Nicholas Latifi | CAN | WILLIAMS MERCEDES | 0\n"
     ]
    },
    {
     "data": {
      "text/plain": []
     },
     "execution_count": 33,
     "metadata": {},
     "output_type": "execute_result"
    }
   ],
   "source": [
    "main"
   ]
  },
  {
   "cell_type": "code",
   "execution_count": 34,
   "id": "640f49e8",
   "metadata": {
    "ExecuteTime": {
     "end_time": "2021-06-20T11:41:41.121919Z",
     "start_time": "2021-06-20T11:41:41.119265Z"
    }
   },
   "outputs": [
    {
     "name": "stdout",
     "output_type": "stream",
     "text": [
      "Deep Fried selected Sebastian Vettel!\n",
      "\t9 points remaining.\n",
      "Deep Fried | Budget: 9\n",
      "\tValtteri Bottas | FIN | MERCEDES | 47\n",
      "\tSergio Perez | MEX | RED BULL RACING HONDA | 69\n",
      "\tSebastian Vettel | GER | ASTON MARTIN MERCEDES | 28\n"
     ]
    }
   ],
   "source": [
    "main.pick('Vettel')"
   ]
  },
  {
   "cell_type": "code",
   "execution_count": 35,
   "id": "a1272a57",
   "metadata": {
    "ExecuteTime": {
     "end_time": "2021-06-20T11:41:41.127589Z",
     "start_time": "2021-06-20T11:41:41.123826Z"
    }
   },
   "outputs": [
    {
     "name": "stdout",
     "output_type": "stream",
     "text": [
      "Deep Fried is on the clock!\n",
      "****************************************\n",
      "Esteban Ocon | FRA | ALPINE RENAULT | 12\n",
      "Lance Stroll | CAN | ASTON MARTIN MERCEDES | 9\n",
      "Yuki Tsunoda | JPN | ALPHATAURI HONDA | 8\n",
      "Kimi Raikkonen | FIN | ALFA ROMEO RACING FERRARI | 1\n",
      "Antonio Giovinazzi | ITA | ALFA ROMEO RACING FERRARI | 1\n",
      "Mick Schumacher | GER | HAAS FERRARI | 0\n",
      "Nikita Mazepin | RAF | HAAS FERRARI | 0\n",
      "Nicholas Latifi | CAN | WILLIAMS MERCEDES | 0\n"
     ]
    },
    {
     "data": {
      "text/plain": []
     },
     "execution_count": 35,
     "metadata": {},
     "output_type": "execute_result"
    }
   ],
   "source": [
    "main"
   ]
  },
  {
   "cell_type": "code",
   "execution_count": 36,
   "id": "f9cc1cc5",
   "metadata": {
    "ExecuteTime": {
     "end_time": "2021-06-20T11:41:41.131673Z",
     "start_time": "2021-06-20T11:41:41.129134Z"
    }
   },
   "outputs": [
    {
     "name": "stdout",
     "output_type": "stream",
     "text": [
      "Deep Fried selected Esteban Ocon!\n",
      "\t-3 points remaining.\n",
      "Deep Fried | Budget: -3\n",
      "\tValtteri Bottas | FIN | MERCEDES | 47\n",
      "\tSergio Perez | MEX | RED BULL RACING HONDA | 69\n",
      "\tSebastian Vettel | GER | ASTON MARTIN MERCEDES | 28\n",
      "\tEsteban Ocon | FRA | ALPINE RENAULT | 12\n"
     ]
    }
   ],
   "source": [
    "main.pick('Ocon', force=True)"
   ]
  },
  {
   "cell_type": "code",
   "execution_count": 37,
   "id": "c3699fcc",
   "metadata": {
    "ExecuteTime": {
     "end_time": "2021-06-20T11:41:41.136828Z",
     "start_time": "2021-06-20T11:41:41.133389Z"
    }
   },
   "outputs": [
    {
     "name": "stdout",
     "output_type": "stream",
     "text": [
      "3 Orange Whips is on the clock!\n",
      "****************************************\n",
      "Lance Stroll | CAN | ASTON MARTIN MERCEDES | 9\n",
      "Yuki Tsunoda | JPN | ALPHATAURI HONDA | 8\n",
      "Kimi Raikkonen | FIN | ALFA ROMEO RACING FERRARI | 1\n",
      "Antonio Giovinazzi | ITA | ALFA ROMEO RACING FERRARI | 1\n",
      "Mick Schumacher | GER | HAAS FERRARI | 0\n",
      "Nikita Mazepin | RAF | HAAS FERRARI | 0\n",
      "Nicholas Latifi | CAN | WILLIAMS MERCEDES | 0\n"
     ]
    },
    {
     "data": {
      "text/plain": []
     },
     "execution_count": 37,
     "metadata": {},
     "output_type": "execute_result"
    }
   ],
   "source": [
    "main"
   ]
  },
  {
   "cell_type": "code",
   "execution_count": 38,
   "id": "60b91426",
   "metadata": {
    "ExecuteTime": {
     "end_time": "2021-06-20T11:41:41.141455Z",
     "start_time": "2021-06-20T11:41:41.138348Z"
    }
   },
   "outputs": [
    {
     "name": "stdout",
     "output_type": "stream",
     "text": [
      "3 Orange Whips selected Lance Stroll!\n",
      "\t-5 points remaining.\n",
      "3 Orange Whips | Budget: -5\n",
      "\tMax Verstappen | NED | RED BULL RACING HONDA | 105\n",
      "\tPierre Gasly | FRA | ALPHATAURI HONDA | 31\n",
      "\tFernando Alonso | ESP | ALPINE RENAULT | 13\n",
      "\tLance Stroll | CAN | ASTON MARTIN MERCEDES | 9\n"
     ]
    }
   ],
   "source": [
    "main.pick('Stroll', force=True)"
   ]
  },
  {
   "cell_type": "code",
   "execution_count": 39,
   "id": "5dec0dc8",
   "metadata": {
    "ExecuteTime": {
     "end_time": "2021-06-20T11:41:41.149252Z",
     "start_time": "2021-06-20T11:41:41.143711Z"
    }
   },
   "outputs": [
    {
     "name": "stdout",
     "output_type": "stream",
     "text": [
      "Scuderia Spaghetti is on the clock!\n",
      "****************************************\n",
      "Yuki Tsunoda | JPN | ALPHATAURI HONDA | 8\n",
      "Kimi Raikkonen | FIN | ALFA ROMEO RACING FERRARI | 1\n",
      "Antonio Giovinazzi | ITA | ALFA ROMEO RACING FERRARI | 1\n",
      "Mick Schumacher | GER | HAAS FERRARI | 0\n",
      "Nikita Mazepin | RAF | HAAS FERRARI | 0\n",
      "Nicholas Latifi | CAN | WILLIAMS MERCEDES | 0\n"
     ]
    },
    {
     "data": {
      "text/plain": []
     },
     "execution_count": 39,
     "metadata": {},
     "output_type": "execute_result"
    }
   ],
   "source": [
    "main"
   ]
  },
  {
   "cell_type": "code",
   "execution_count": 40,
   "id": "67c54ee6",
   "metadata": {
    "ExecuteTime": {
     "end_time": "2021-06-20T11:41:41.154484Z",
     "start_time": "2021-06-20T11:41:41.151437Z"
    }
   },
   "outputs": [
    {
     "name": "stdout",
     "output_type": "stream",
     "text": [
      "Scuderia Spaghetti selected Yuki Tsunoda!\n",
      "\t-8 points remaining.\n",
      "Scuderia Spaghetti | Budget: -8\n",
      "\tLewis Hamilton | GBR | MERCEDES | 101\n",
      "\tCharles Leclerc | MON | FERRARI | 52\n",
      "\tGeorge Russell | GBR | WILLIAMS MERCEDES | 0\n",
      "\tYuki Tsunoda | JPN | ALPHATAURI HONDA | 8\n"
     ]
    }
   ],
   "source": [
    "main.pick('Tsunoda', force=True)"
   ]
  },
  {
   "cell_type": "code",
   "execution_count": 41,
   "id": "cb3458e7",
   "metadata": {
    "ExecuteTime": {
     "end_time": "2021-06-20T11:41:41.161463Z",
     "start_time": "2021-06-20T11:41:41.156841Z"
    }
   },
   "outputs": [
    {
     "name": "stdout",
     "output_type": "stream",
     "text": [
      "Carlaniel & the Romeos is on the clock!\n",
      "****************************************\n",
      "Kimi Raikkonen | FIN | ALFA ROMEO RACING FERRARI | 1\n",
      "Antonio Giovinazzi | ITA | ALFA ROMEO RACING FERRARI | 1\n",
      "Mick Schumacher | GER | HAAS FERRARI | 0\n",
      "Nikita Mazepin | RAF | HAAS FERRARI | 0\n",
      "Nicholas Latifi | CAN | WILLIAMS MERCEDES | 0\n"
     ]
    },
    {
     "data": {
      "text/plain": []
     },
     "execution_count": 41,
     "metadata": {},
     "output_type": "execute_result"
    }
   ],
   "source": [
    "main"
   ]
  },
  {
   "cell_type": "code",
   "execution_count": 42,
   "id": "dc0034de",
   "metadata": {
    "ExecuteTime": {
     "end_time": "2021-06-20T11:41:41.165746Z",
     "start_time": "2021-06-20T11:41:41.163080Z"
    }
   },
   "outputs": [
    {
     "name": "stdout",
     "output_type": "stream",
     "text": [
      "Carlaniel & the Romeos selected Antonio Giovinazzi!\n",
      "\t18 points remaining.\n",
      "Carlaniel & the Romeos | Budget: 18\n",
      "\tLando Norris | GBR | MCLAREN MERCEDES | 66\n",
      "\tCarlos Sainz | ESP | FERRARI | 42\n",
      "\tDaniel Ricciardo | AUS | MCLAREN MERCEDES | 26\n",
      "\tAntonio Giovinazzi | ITA | ALFA ROMEO RACING FERRARI | 1\n"
     ]
    }
   ],
   "source": [
    "main.pick('Giovinazzi')"
   ]
  },
  {
   "cell_type": "code",
   "execution_count": 43,
   "id": "4dac3592",
   "metadata": {
    "ExecuteTime": {
     "end_time": "2021-06-20T11:41:41.172308Z",
     "start_time": "2021-06-20T11:41:41.167632Z"
    }
   },
   "outputs": [
    {
     "name": "stdout",
     "output_type": "stream",
     "text": [
      "Carlaniel & the Romeos is on the clock!\n",
      "****************************************\n",
      "Kimi Raikkonen | FIN | ALFA ROMEO RACING FERRARI | 1\n",
      "Mick Schumacher | GER | HAAS FERRARI | 0\n",
      "Nikita Mazepin | RAF | HAAS FERRARI | 0\n",
      "Nicholas Latifi | CAN | WILLIAMS MERCEDES | 0\n"
     ]
    },
    {
     "data": {
      "text/plain": []
     },
     "execution_count": 43,
     "metadata": {},
     "output_type": "execute_result"
    }
   ],
   "source": [
    "main"
   ]
  },
  {
   "cell_type": "code",
   "execution_count": 44,
   "id": "c07e1eac",
   "metadata": {
    "ExecuteTime": {
     "end_time": "2021-06-20T11:41:41.178084Z",
     "start_time": "2021-06-20T11:41:41.174218Z"
    }
   },
   "outputs": [
    {
     "name": "stdout",
     "output_type": "stream",
     "text": [
      "Carlaniel & the Romeos selected Kimi Raikkonen!\n",
      "\t17 points remaining.\n",
      "Carlaniel & the Romeos | Budget: 17\n",
      "\tLando Norris | GBR | MCLAREN MERCEDES | 66\n",
      "\tCarlos Sainz | ESP | FERRARI | 42\n",
      "\tDaniel Ricciardo | AUS | MCLAREN MERCEDES | 26\n",
      "\tAntonio Giovinazzi | ITA | ALFA ROMEO RACING FERRARI | 1\n",
      "\tKimi Raikkonen | FIN | ALFA ROMEO RACING FERRARI | 1\n"
     ]
    }
   ],
   "source": [
    "main.pick('Raikkonen')"
   ]
  },
  {
   "cell_type": "code",
   "execution_count": 45,
   "id": "20db207e",
   "metadata": {
    "ExecuteTime": {
     "end_time": "2021-06-20T11:41:41.183976Z",
     "start_time": "2021-06-20T11:41:41.179855Z"
    }
   },
   "outputs": [
    {
     "name": "stdout",
     "output_type": "stream",
     "text": [
      "Scuderia Spaghetti is on the clock!\n",
      "****************************************\n",
      "Mick Schumacher | GER | HAAS FERRARI | 0\n",
      "Nikita Mazepin | RAF | HAAS FERRARI | 0\n",
      "Nicholas Latifi | CAN | WILLIAMS MERCEDES | 0\n"
     ]
    },
    {
     "data": {
      "text/plain": []
     },
     "execution_count": 45,
     "metadata": {},
     "output_type": "execute_result"
    }
   ],
   "source": [
    "main"
   ]
  },
  {
   "cell_type": "code",
   "execution_count": 46,
   "id": "cca64850",
   "metadata": {
    "ExecuteTime": {
     "end_time": "2021-06-20T11:41:41.188544Z",
     "start_time": "2021-06-20T11:41:41.185728Z"
    }
   },
   "outputs": [
    {
     "name": "stdout",
     "output_type": "stream",
     "text": [
      "Scuderia Spaghetti selected Mick Schumacher!\n",
      "\t-8 points remaining.\n",
      "Scuderia Spaghetti | Budget: -8\n",
      "\tLewis Hamilton | GBR | MERCEDES | 101\n",
      "\tCharles Leclerc | MON | FERRARI | 52\n",
      "\tGeorge Russell | GBR | WILLIAMS MERCEDES | 0\n",
      "\tYuki Tsunoda | JPN | ALPHATAURI HONDA | 8\n",
      "\tMick Schumacher | GER | HAAS FERRARI | 0\n"
     ]
    }
   ],
   "source": [
    "main.pick('Schumacher', force=True)"
   ]
  },
  {
   "cell_type": "code",
   "execution_count": 47,
   "id": "ec1bbcea",
   "metadata": {
    "ExecuteTime": {
     "end_time": "2021-06-20T11:41:41.193955Z",
     "start_time": "2021-06-20T11:41:41.190290Z"
    }
   },
   "outputs": [
    {
     "name": "stdout",
     "output_type": "stream",
     "text": [
      "3 Orange Whips is on the clock!\n",
      "****************************************\n",
      "Nikita Mazepin | RAF | HAAS FERRARI | 0\n",
      "Nicholas Latifi | CAN | WILLIAMS MERCEDES | 0\n"
     ]
    },
    {
     "data": {
      "text/plain": []
     },
     "execution_count": 47,
     "metadata": {},
     "output_type": "execute_result"
    }
   ],
   "source": [
    "main"
   ]
  },
  {
   "cell_type": "code",
   "execution_count": 48,
   "id": "99b035ed",
   "metadata": {
    "ExecuteTime": {
     "end_time": "2021-06-20T11:41:41.198289Z",
     "start_time": "2021-06-20T11:41:41.195535Z"
    }
   },
   "outputs": [
    {
     "name": "stdout",
     "output_type": "stream",
     "text": [
      "3 Orange Whips selected Nicholas Latifi!\n",
      "\t-5 points remaining.\n",
      "3 Orange Whips | Budget: -5\n",
      "\tMax Verstappen | NED | RED BULL RACING HONDA | 105\n",
      "\tPierre Gasly | FRA | ALPHATAURI HONDA | 31\n",
      "\tFernando Alonso | ESP | ALPINE RENAULT | 13\n",
      "\tLance Stroll | CAN | ASTON MARTIN MERCEDES | 9\n",
      "\tNicholas Latifi | CAN | WILLIAMS MERCEDES | 0\n"
     ]
    }
   ],
   "source": [
    "main.pick('Latifi', force=True)"
   ]
  },
  {
   "cell_type": "code",
   "execution_count": 49,
   "id": "0d83625d",
   "metadata": {
    "ExecuteTime": {
     "end_time": "2021-06-20T11:41:41.204893Z",
     "start_time": "2021-06-20T11:41:41.200624Z"
    }
   },
   "outputs": [
    {
     "name": "stdout",
     "output_type": "stream",
     "text": [
      "Deep Fried is on the clock!\n",
      "****************************************\n",
      "Nikita Mazepin | RAF | HAAS FERRARI | 0\n"
     ]
    },
    {
     "data": {
      "text/plain": []
     },
     "execution_count": 49,
     "metadata": {},
     "output_type": "execute_result"
    }
   ],
   "source": [
    "main"
   ]
  },
  {
   "cell_type": "code",
   "execution_count": 50,
   "id": "a39bbddc",
   "metadata": {
    "ExecuteTime": {
     "end_time": "2021-06-20T11:41:41.209341Z",
     "start_time": "2021-06-20T11:41:41.206627Z"
    }
   },
   "outputs": [
    {
     "name": "stdout",
     "output_type": "stream",
     "text": [
      "Deep Fried selected Nikita Mazepin!\n",
      "\t-3 points remaining.\n",
      "Deep Fried | Budget: -3\n",
      "\tValtteri Bottas | FIN | MERCEDES | 47\n",
      "\tSergio Perez | MEX | RED BULL RACING HONDA | 69\n",
      "\tSebastian Vettel | GER | ASTON MARTIN MERCEDES | 28\n",
      "\tEsteban Ocon | FRA | ALPINE RENAULT | 12\n",
      "\tNikita Mazepin | RAF | HAAS FERRARI | 0\n"
     ]
    }
   ],
   "source": [
    "main.pick('Mazepin', force=True)"
   ]
  },
  {
   "cell_type": "markdown",
   "id": "1daba732",
   "metadata": {},
   "source": [
    "# Draft Complete\n",
    "\n",
    "## 2021 Rosters"
   ]
  },
  {
   "cell_type": "code",
   "execution_count": 51,
   "id": "6366c8ad",
   "metadata": {
    "ExecuteTime": {
     "end_time": "2021-06-20T11:41:41.213957Z",
     "start_time": "2021-06-20T11:41:41.210991Z"
    }
   },
   "outputs": [
    {
     "name": "stdout",
     "output_type": "stream",
     "text": [
      "Carlaniel & the Romeos | Budget: 17\n",
      "\tLando Norris | GBR | MCLAREN MERCEDES | 66\n",
      "\tCarlos Sainz | ESP | FERRARI | 42\n",
      "\tDaniel Ricciardo | AUS | MCLAREN MERCEDES | 26\n",
      "\tAntonio Giovinazzi | ITA | ALFA ROMEO RACING FERRARI | 1\n",
      "\tKimi Raikkonen | FIN | ALFA ROMEO RACING FERRARI | 1\n",
      "\n",
      "Scuderia Spaghetti | Budget: -8\n",
      "\tLewis Hamilton | GBR | MERCEDES | 101\n",
      "\tCharles Leclerc | MON | FERRARI | 52\n",
      "\tGeorge Russell | GBR | WILLIAMS MERCEDES | 0\n",
      "\tYuki Tsunoda | JPN | ALPHATAURI HONDA | 8\n",
      "\tMick Schumacher | GER | HAAS FERRARI | 0\n",
      "\n",
      "3 Orange Whips | Budget: -5\n",
      "\tMax Verstappen | NED | RED BULL RACING HONDA | 105\n",
      "\tPierre Gasly | FRA | ALPHATAURI HONDA | 31\n",
      "\tFernando Alonso | ESP | ALPINE RENAULT | 13\n",
      "\tLance Stroll | CAN | ASTON MARTIN MERCEDES | 9\n",
      "\tNicholas Latifi | CAN | WILLIAMS MERCEDES | 0\n",
      "\n",
      "Deep Fried | Budget: -3\n",
      "\tValtteri Bottas | FIN | MERCEDES | 47\n",
      "\tSergio Perez | MEX | RED BULL RACING HONDA | 69\n",
      "\tSebastian Vettel | GER | ASTON MARTIN MERCEDES | 28\n",
      "\tEsteban Ocon | FRA | ALPINE RENAULT | 12\n",
      "\tNikita Mazepin | RAF | HAAS FERRARI | 0\n",
      "\n"
     ]
    }
   ],
   "source": [
    "main.show_rosters()"
   ]
  },
  {
   "cell_type": "code",
   "execution_count": null,
   "id": "32f5457d",
   "metadata": {},
   "outputs": [],
   "source": []
  }
 ],
 "metadata": {
  "kernelspec": {
   "display_name": "Python 3",
   "language": "python",
   "name": "python3"
  },
  "language_info": {
   "codemirror_mode": {
    "name": "ipython",
    "version": 3
   },
   "file_extension": ".py",
   "mimetype": "text/x-python",
   "name": "python",
   "nbconvert_exporter": "python",
   "pygments_lexer": "ipython3",
   "version": "3.6.9"
  },
  "toc": {
   "base_numbering": 1,
   "nav_menu": {},
   "number_sections": false,
   "sideBar": true,
   "skip_h1_title": false,
   "title_cell": "Table of Contents",
   "title_sidebar": "Contents",
   "toc_cell": false,
   "toc_position": {},
   "toc_section_display": true,
   "toc_window_display": false
  }
 },
 "nbformat": 4,
 "nbformat_minor": 5
}
