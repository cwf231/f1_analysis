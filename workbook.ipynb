{
 "cells": [
  {
   "cell_type": "markdown",
   "id": "a0cb6e58",
   "metadata": {},
   "source": [
    "# Building a Formula One Dashboard\n",
    "\n",
    "> *API: https://ergast.com/mrd/*\n",
    "\n",
    "This is a workbook creating a `FormulaOne` class which is meant to streamline the API call for Formula One data.\n",
    "\n",
    "The class is designed to scrape the API and save `.csv` files with the given schema below.\n",
    "\n",
    "This workbook will be converted to a .py file in order to integrate with a dashboard."
   ]
  },
  {
   "cell_type": "markdown",
   "id": "ecedbb58",
   "metadata": {},
   "source": [
    "## Tables\n",
    "\n",
    "---\n",
    "\n",
    "### Races\n",
    "- Season\n",
    "- Round\n",
    "- URL\n",
    "- RaceName\n",
    "- CircuitID\n",
    "- Date\n",
    "- Time\n",
    "- RaceID *(Created: Format {{year}{round}})*\n",
    "\n",
    "### Circuits\n",
    "- CircuitID\n",
    "- URL\n",
    "- CircuitName\n",
    "- Latitude\n",
    "- Longitude\n",
    "- Locality\n",
    "- Country\n",
    "\n",
    "### Results\n",
    "- RaceID\n",
    "- Position\n",
    "- Points\n",
    "- DriverID\n",
    "- ConstructorID\n",
    "- Grid\n",
    "- Laps\n",
    "- Status\n",
    "- Time\n",
    "- FastestLapTime\n",
    "- FastestLapSpeed\n",
    "\n",
    "\n",
    "### Drivers\n",
    "- DriverID\n",
    "- Code\n",
    "- URL\n",
    "- FirstName\n",
    "- LastName\n",
    "- DOB\n",
    "- Nationality\n",
    "\n",
    "### Constructors\n",
    "- ConstructorsID\n",
    "- URL\n",
    "- Name\n",
    "- Nationality"
   ]
  },
  {
   "cell_type": "code",
   "execution_count": 5,
   "id": "b27fcbbe",
   "metadata": {
    "ExecuteTime": {
     "end_time": "2021-06-19T19:38:45.757866Z",
     "start_time": "2021-06-19T19:38:45.754822Z"
    }
   },
   "outputs": [],
   "source": [
    "import requests\n",
    "import json\n",
    "import pandas as pd\n",
    "import os\n",
    "import datetime"
   ]
  },
  {
   "cell_type": "markdown",
   "id": "85421398",
   "metadata": {},
   "source": [
    "# Collect Data"
   ]
  },
  {
   "cell_type": "code",
   "execution_count": 6,
   "id": "d876cc3a",
   "metadata": {
    "ExecuteTime": {
     "end_time": "2021-06-19T19:38:46.787848Z",
     "start_time": "2021-06-19T19:38:46.741281Z"
    }
   },
   "outputs": [],
   "source": [
    "class FormulaOne:\n",
    "    def __init__(self, \n",
    "                 data_directory='data', \n",
    "                 races_df='races.csv', \n",
    "                 circuits_df='circuits.csv', \n",
    "                 results_df='results.csv', \n",
    "                 drivers_df='drivers.csv', \n",
    "                 constructors_df='constructors.csv'):\n",
    "        self.directory = data_directory\n",
    "        self.races_df = races_df\n",
    "        self.circuits_df = circuits_df\n",
    "        self.results_df = results_df\n",
    "        self.drivers_df = drivers_df\n",
    "        self.constructors_df = constructors_df\n",
    "        \n",
    "        if self.directory in os.listdir():\n",
    "            CSV_FILES = [races_df, circuits_df, results_df, \n",
    "                         drivers_df, constructors_df]\n",
    "            if all([c in os.listdir(self.directory) for c in CSV_FILES]):\n",
    "                self.races = pd.read_csv(\n",
    "                    os.path.join(self.directory, races_df), index_col=0\n",
    "                    )\n",
    "                self.circuits = pd.read_csv(\n",
    "                    os.path.join(self.directory, circuits_df), index_col=0\n",
    "                    )\n",
    "                self.results = pd.read_csv(\n",
    "                    os.path.join(self.directory, results_df), index_col=0\n",
    "                    )\n",
    "                self.drivers = pd.read_csv(\n",
    "                    os.path.join(self.directory, drivers_df), index_col=0\n",
    "                    )\n",
    "                self.constructors = pd.read_csv(\n",
    "                    os.path.join(self.directory, constructors_df), index_col=0\n",
    "                    )\n",
    "        else:\n",
    "            os.mkdir(self.directory)\n",
    "            self.races = None\n",
    "            self.circuits = None\n",
    "            self.results = None\n",
    "            self.drivers = None\n",
    "            self.constructors = None\n",
    "            \n",
    "    def _all_data_loaded(self):\n",
    "        return (\n",
    "            (not self.races is None) & \n",
    "            (not self.circuits is None) &\n",
    "            (not self.results is None) &\n",
    "            (not self.drivers is None) &\n",
    "            (not self.constructors is None)\n",
    "        )\n",
    "        \n",
    "    def _get_race_id(self, data):\n",
    "        \"\"\"\n",
    "        Creates a RaceID from a season and round.\n",
    "        Keys for ``data`` should be:\n",
    "            ['season', 'round', 'url', 'raceName', \n",
    "             'Circuit', 'date', 'time', 'Results']\n",
    "        \"\"\"\n",
    "\n",
    "        year = data.get('season', 0)\n",
    "        rnd = data.get('round', 0)\n",
    "        rnd = rnd if len(rnd) == 2 else f'0{rnd}'\n",
    "        return int(f\"{year}{rnd}\")\n",
    "    \n",
    "    def _get_race(self, data):\n",
    "        \"\"\"\n",
    "        Returns a row for the RACES table from a Races dictionary.\n",
    "        Keys for ``data`` should be:\n",
    "            ['season', 'round', 'url', 'raceName', \n",
    "             'Circuit', 'date', 'time', 'Results']\n",
    "        \"\"\"\n",
    "\n",
    "        # Format datetime string.\n",
    "        d = data.get('date', '1900-01-01')\n",
    "        t = data.get('time', '01:01:01Z')\n",
    "        dt_string = f'{d} {t}'\n",
    "\n",
    "        # Return row.\n",
    "        return dict(\n",
    "            RaceID=self._get_race_id(data),\n",
    "            Season=int(data.get('season', -1)),\n",
    "            Round=int(data.get('round', -1)),\n",
    "            RaceName=data.get('raceName'),\n",
    "            CircuitID=data.get('Circuit').get('circuitId'),\n",
    "            DateTime=pd.to_datetime(dt_string),\n",
    "            URL=data.get('url'),\n",
    "        )\n",
    "\n",
    "    def _get_circuit(self, data):\n",
    "        \"\"\"\n",
    "        Returns a row for the CIRCUIT table from a Races dictionary.\n",
    "        Keys for ``data`` should be:\n",
    "            ['season', 'round', 'url', 'raceName', \n",
    "             'Circuit', 'date', 'time', 'Results']\n",
    "        \"\"\"\n",
    "\n",
    "        circuit = data.get('Circuit')\n",
    "        return dict(\n",
    "            CircuitID=circuit.get('circuitId'),\n",
    "            CircuitName=circuit.get('circuitName'),\n",
    "            Latitude=circuit.get('Location').get('lat'),\n",
    "            Longitude=circuit.get('Location').get('long'),\n",
    "            Locality=circuit.get('Location').get('locality'),\n",
    "            Country=circuit.get('Location').get('country'),\n",
    "            URL=circuit.get('url'),\n",
    "        )\n",
    "    \n",
    "    def _get_results_drivers_constructors(self, data):\n",
    "        \"\"\"\n",
    "        Returns all rows for a given RaceID for the RESULTS table \n",
    "            and all rows for a given RaceID for the DRIVERS table\n",
    "            and all rows for a given RaceID for the CONSTRUCTORS table\n",
    "            from a Races dictionary.\n",
    "        Keys for ``data`` should be:\n",
    "            ['season', 'round', 'url', 'raceName', \n",
    "             'Circuit', 'date', 'time', 'Results']\n",
    "        \"\"\"\n",
    "\n",
    "        RESULTS = []\n",
    "        DRIVERS = []\n",
    "        CONSTRUCTORS = []\n",
    "        race_id = self._get_race_id(data)\n",
    "\n",
    "        results = data.get('Results')\n",
    "        for r in results:\n",
    "            driver = r.get('Driver')\n",
    "            constructor = r.get('Constructor')\n",
    "\n",
    "            results_row = dict(\n",
    "                RaceID=race_id,\n",
    "                Position=int(r.get('position', -1)),\n",
    "                Points=int(r.get('points', -1)),\n",
    "                DriverID=driver.get('driverId'),\n",
    "                ConstructorID=constructor.get('constructorId'),\n",
    "                Grid=int(r.get('grid', -1)),\n",
    "                Laps=int(r.get('laps', -1)),\n",
    "                Status=r.get('status'),\n",
    "                Time=r.get('Time').get('time') if r.get('Time') else r.get('Time'),\n",
    "                FastestLapTime=r.get('FastestLap').get('Time').get('time') \\\n",
    "                    if r.get('FastestLap') else None,\n",
    "                FastestLapSpeed=r.get('FastestLap').get('AverageSpeed').get('speed') \\\n",
    "                    if r.get('FastestLap') else None\n",
    "            )\n",
    "            drivers_row = dict(\n",
    "                DriverID=driver.get('driverId'),\n",
    "                Code=driver.get('code'),\n",
    "                FirstName=driver.get('givenName'),\n",
    "                LastName=driver.get('familyName'),\n",
    "                DOB=driver.get('dateOfBirth'),\n",
    "                Nationality=driver.get('nationality'),\n",
    "                URL=driver.get('url'),\n",
    "            )\n",
    "            constructors_row = dict(\n",
    "                ConstructorsID=constructor.get('constructorId'),\n",
    "                Name=constructor.get('name'),\n",
    "                Nationality=constructor.get('nationality'),\n",
    "                URL=constructor.get('url'),\n",
    "            )\n",
    "            RESULTS.append(results_row)\n",
    "            DRIVERS.append(drivers_row)\n",
    "            CONSTRUCTORS.append(constructors_row)\n",
    "\n",
    "        return RESULTS, DRIVERS, CONSTRUCTORS\n",
    "    \n",
    "    def _collect_data_from(self, year, round_num=1, verbose=True):\n",
    "        \"\"\"\n",
    "        Collect all data from each event in a given year.\n",
    "\n",
    "        Returns rows for tables:\n",
    "            [RACES, CIRCUITS, RESULTS, DRIVERS, CONSTRUCTORS]\n",
    "        \"\"\"\n",
    "\n",
    "        RACES = []\n",
    "        CIRCUITS = []\n",
    "        RESULTS = []\n",
    "        DRIVERS = []\n",
    "        CONSTRUCTORS = []\n",
    "\n",
    "        while True:\n",
    "            URL = f'http://ergast.com/api/f1/{year}/{round_num}/results.json'\n",
    "            ROUND = requests.get(URL)\n",
    "            if not ROUND.ok:\n",
    "                if verbose:\n",
    "                    print(f'\\tComplete. Data from {len(RACES)} races compiled.')\n",
    "                return RACES, CIRCUITS, RESULTS, DRIVERS, CONSTRUCTORS\n",
    "            ROUND_DATA = json.loads(ROUND.content)\n",
    "            data = ROUND_DATA['MRData']['RaceTable']['Races']\n",
    "\n",
    "            if not data:\n",
    "                if verbose:\n",
    "                    print(f'\\tComplete. Data from {len(RACES)} races compiled.')\n",
    "                return RACES, CIRCUITS, RESULTS, DRIVERS, CONSTRUCTORS\n",
    "\n",
    "            data = data[0]\n",
    "            if verbose:\n",
    "                print(f'Collecting data from: Year: {year} | Round: {round_num}')\n",
    "\n",
    "            RACES.append(self._get_race(data))\n",
    "            CIRCUITS.append(self._get_circuit(data))\n",
    "            results, drivers, constructors = \\\n",
    "                self._get_results_drivers_constructors(data)\n",
    "            RESULTS += results\n",
    "            DRIVERS += drivers\n",
    "            CONSTRUCTORS += constructors\n",
    "\n",
    "            round_num += 1\n",
    "            \n",
    "    def _scrape_date_range(self, \n",
    "                           start_year, \n",
    "                           end_year=None,  \n",
    "                           verbose=1):\n",
    "        \"\"\"\n",
    "        Scrape data from a given ``start_year`` to a given ``end_year``.\n",
    "\n",
    "        A directory path can be given as ``save_to`` in order to save the tables \n",
    "            in .csv format.\n",
    "        \"\"\"\n",
    "        \n",
    "        save_to_dir = self.directory\n",
    "        \n",
    "        if not end_year:\n",
    "            end_year = datetime.datetime.now().year\n",
    "        MICRO_VERBOSE = True if verbose == 2 else False\n",
    "\n",
    "        ALL_RACES = []\n",
    "        ALL_CIRCUITS = []\n",
    "        ALL_RESULTS = []\n",
    "        ALL_DRIVERS = []\n",
    "        ALL_CONSTRUCTORS = []\n",
    "\n",
    "        for year in range(start_year, end_year+1):\n",
    "            if verbose:\n",
    "                print(f'Scraping year {year}')\n",
    "            races, circ, res, dr, const = self._collect_data_from(\n",
    "                year, verbose=MICRO_VERBOSE)\n",
    "            ALL_RACES += races\n",
    "            ALL_CIRCUITS += circ\n",
    "            ALL_RESULTS += res\n",
    "            ALL_DRIVERS += dr\n",
    "            ALL_CONSTRUCTORS += const\n",
    "\n",
    "        races_df = pd.DataFrame(ALL_RACES)\n",
    "        circuits_df = pd.DataFrame(ALL_CIRCUITS).drop_duplicates()\n",
    "        results_df = pd.DataFrame(ALL_RESULTS)\n",
    "        drivers_df = pd.DataFrame(ALL_DRIVERS).drop_duplicates()\n",
    "        constructors_df = pd.DataFrame(ALL_CONSTRUCTORS).drop_duplicates()\n",
    "\n",
    "        if save_to_dir:\n",
    "            if save_to_dir not in os.listdir():\n",
    "                os.mkdir(save_to_dir)\n",
    "\n",
    "            races_df.to_csv(os.path.join(\n",
    "                save_to_dir, self.races_df))\n",
    "            circuits_df.to_csv(os.path.join(\n",
    "                save_to_dir, self.circuits_df))\n",
    "            results_df.to_csv(os.path.join(\n",
    "                save_to_dir, self.results_df))\n",
    "            drivers_df.to_csv(os.path.join(\n",
    "                save_to_dir, self.drivers_df))\n",
    "            constructors_df.to_csv(os.path.join(\n",
    "                save_to_dir, self.constructors_df))\n",
    "\n",
    "        return races_df, circuits_df, results_df, drivers_df, constructors_df\n",
    "\n",
    "    def save_data(self):\n",
    "        \"\"\"Saves current internal data to ``self.directory``.\"\"\"\n",
    "        if self._all_data_loaded():\n",
    "            self.races.to_csv(os.path.join(\n",
    "                self.directory, self.races_df))\n",
    "            self.circuits.to_csv(os.path.join(\n",
    "                self.directory, self.circuits_df))\n",
    "            self.results.to_csv(os.path.join(\n",
    "                self.directory, self.results_df))\n",
    "            self.drivers.to_csv(os.path.join(\n",
    "                self.directory, self.drivers_df))\n",
    "            self.constructors.to_csv(os.path.join(\n",
    "                self.directory, self.constructors_df))\n",
    "            return f'`.csv` files saved to `{self.directory}`'\n",
    "            \n",
    "    def update(\n",
    "        self, \n",
    "        last_results_url='http://ergast.com/api/f1/current/last/results.json'\n",
    "            ):\n",
    "        \"\"\"Update and save data to the most recent season.\"\"\"\n",
    "        \n",
    "        if not self._all_data_loaded():\n",
    "            return 'No data loaded. Use `.scrape()` instead.'\n",
    "        \n",
    "        r = requests.get(last_results_url)\n",
    "        if not r.ok:\n",
    "            return f'Request could not be completed. | {r}'\n",
    "        \n",
    "        data = json.loads(r.content)['MRData']['RaceTable']['Races'][0]\n",
    "        race_id = self._get_race_id(data)\n",
    "        if race_id in set(self.races['RaceID']):\n",
    "            return f'Data is up to date. | Most Recent RaceID: `{race_id}`'\n",
    "        \n",
    "        self.scrape(self.races['Season'].max())\n",
    "        \n",
    "    def scrape(self, start_year, end_year=None):\n",
    "        \"\"\"\n",
    "        Scrape from start_year to end_year. Combine currently loaded data \n",
    "            and save to ``self.directory``.\n",
    "        \"\"\"\n",
    "        \n",
    "        (new_races, new_circuits, \n",
    "         new_results, new_drivers, \n",
    "         new_constructors) = self._scrape_date_range(start_year, end_year)\n",
    "        \n",
    "        if self._all_data_loaded():\n",
    "            self.races = pd.concat(\n",
    "                [self.races, new_races]).drop_duplicates()\n",
    "            self.circuits = pd.concat(\n",
    "                [self.circuits, new_circuits]).drop_duplicates()\n",
    "            self.results = pd.concat(\n",
    "                [self.results, new_results]).drop_duplicates()\n",
    "            self.drivers = pd.concat(\n",
    "                [self.drivers, new_drivers]).drop_duplicates()\n",
    "            self.constructors = pd.concat(\n",
    "                [self.constructors, new_constructors]).drop_duplicates()\n",
    "        else:\n",
    "            self.races = new_races\n",
    "            self.circuits = new_circuits\n",
    "            self.results = new_results\n",
    "            self.drivers = new_drivers\n",
    "            self.constructors = new_constructors\n",
    "            \n",
    "        self.save_data()\n",
    "        return 'Complete!'\n",
    "            \n",
    "    def __repr__(self):\n",
    "        return f'''Data\n",
    "    Races\n",
    "        {self.races.shape if not self.races is None else (0, 0)}\n",
    "    Circuits\n",
    "        {self.circuits.shape if not self.races is None else (0, 0)}\n",
    "    Results\n",
    "        {self.results.shape if not self.races is None else (0, 0)}\n",
    "    Drivers\n",
    "        {self.drivers.shape if not self.races is None else (0, 0)}\n",
    "    Constructors\n",
    "        {self.constructors.shape if not self.races is None else (0, 0)}\n",
    "'''"
   ]
  },
  {
   "cell_type": "code",
   "execution_count": 7,
   "id": "4490131e",
   "metadata": {
    "ExecuteTime": {
     "end_time": "2021-06-19T19:38:48.622569Z",
     "start_time": "2021-06-19T19:38:48.598550Z"
    }
   },
   "outputs": [
    {
     "data": {
      "text/plain": [
       "Data\n",
       "    Races\n",
       "        (12, 7)\n",
       "    Circuits\n",
       "        (12, 7)\n",
       "    Results\n",
       "        (272, 11)\n",
       "    Drivers\n",
       "        (20, 7)\n",
       "    Constructors\n",
       "        (10, 4)"
      ]
     },
     "execution_count": 7,
     "metadata": {},
     "output_type": "execute_result"
    }
   ],
   "source": [
    "f1 = FormulaOne()\n",
    "f1"
   ]
  },
  {
   "cell_type": "code",
   "execution_count": 8,
   "id": "94095d15",
   "metadata": {
    "ExecuteTime": {
     "end_time": "2021-06-19T19:40:07.353927Z",
     "start_time": "2021-06-19T19:39:01.621686Z"
    }
   },
   "outputs": [
    {
     "name": "stdout",
     "output_type": "stream",
     "text": [
      "Scraping year 2014\n",
      "Scraping year 2015\n",
      "Scraping year 2016\n",
      "Scraping year 2017\n",
      "Scraping year 2018\n",
      "Scraping year 2019\n",
      "Scraping year 2020\n",
      "Scraping year 2021\n"
     ]
    },
    {
     "data": {
      "text/plain": [
       "'Complete!'"
      ]
     },
     "execution_count": 8,
     "metadata": {},
     "output_type": "execute_result"
    }
   ],
   "source": [
    "f1.scrape(2014)"
   ]
  },
  {
   "cell_type": "code",
   "execution_count": 9,
   "id": "351a5bfe",
   "metadata": {
    "ExecuteTime": {
     "end_time": "2021-06-19T19:40:14.226581Z",
     "start_time": "2021-06-19T19:40:13.762768Z"
    }
   },
   "outputs": [
    {
     "data": {
      "text/plain": [
       "'Data is up to date. | Most Recent RaceID: `202106`'"
      ]
     },
     "execution_count": 9,
     "metadata": {},
     "output_type": "execute_result"
    }
   ],
   "source": [
    "f1.update()"
   ]
  },
  {
   "cell_type": "code",
   "execution_count": 10,
   "id": "1d7496ee",
   "metadata": {
    "ExecuteTime": {
     "end_time": "2021-06-19T19:40:16.635667Z",
     "start_time": "2021-06-19T19:40:16.631922Z"
    }
   },
   "outputs": [
    {
     "data": {
      "text/plain": [
       "Data\n",
       "    Races\n",
       "        (150, 7)\n",
       "    Circuits\n",
       "        (33, 7)\n",
       "    Results\n",
       "        (3099, 11)\n",
       "    Drivers\n",
       "        (51, 7)\n",
       "    Constructors\n",
       "        (19, 4)"
      ]
     },
     "execution_count": 10,
     "metadata": {},
     "output_type": "execute_result"
    }
   ],
   "source": [
    "f1"
   ]
  },
  {
   "cell_type": "code",
   "execution_count": 11,
   "id": "ad0cd3c1",
   "metadata": {
    "ExecuteTime": {
     "end_time": "2021-06-19T19:41:23.300363Z",
     "start_time": "2021-06-19T19:41:23.270940Z"
    }
   },
   "outputs": [
    {
     "data": {
      "text/plain": [
       "Data\n",
       "    Races\n",
       "        (150, 7)\n",
       "    Circuits\n",
       "        (33, 7)\n",
       "    Results\n",
       "        (3099, 11)\n",
       "    Drivers\n",
       "        (51, 7)\n",
       "    Constructors\n",
       "        (19, 4)"
      ]
     },
     "execution_count": 11,
     "metadata": {},
     "output_type": "execute_result"
    }
   ],
   "source": [
    "f1 = FormulaOne()\n",
    "f1"
   ]
  },
  {
   "cell_type": "code",
   "execution_count": null,
   "id": "ce3112da",
   "metadata": {
    "ExecuteTime": {
     "end_time": "2021-06-19T18:27:50.519258Z",
     "start_time": "2021-06-19T18:27:50.047597Z"
    }
   },
   "outputs": [],
   "source": [
    "# r = requests.get('http://ergast.com/api/f1/current/last/results.json')\n",
    "# r.ok"
   ]
  },
  {
   "cell_type": "code",
   "execution_count": null,
   "id": "f5619cc7",
   "metadata": {
    "ExecuteTime": {
     "end_time": "2021-06-19T18:43:44.210352Z",
     "start_time": "2021-06-19T18:43:44.205786Z"
    }
   },
   "outputs": [],
   "source": [
    "# data = json.loads(r.content)['MRData']['RaceTable']['Races'][0]\n",
    "# get_race_id(data)"
   ]
  },
  {
   "cell_type": "code",
   "execution_count": null,
   "id": "85318f2e",
   "metadata": {
    "ExecuteTime": {
     "end_time": "2021-06-19T19:06:15.158041Z",
     "start_time": "2021-06-19T19:06:15.154257Z"
    }
   },
   "outputs": [],
   "source": [
    "# get_race_id(data) in f1.races['RaceID']"
   ]
  },
  {
   "cell_type": "code",
   "execution_count": null,
   "id": "5101ee7c",
   "metadata": {
    "ExecuteTime": {
     "end_time": "2021-06-19T19:06:15.165966Z",
     "start_time": "2021-06-19T19:06:15.160722Z"
    }
   },
   "outputs": [],
   "source": [
    "# def get_race_id(data):\n",
    "#     \"\"\"\n",
    "#     Creates a RaceID from a season and round.\n",
    "#     Keys for ``data`` should be:\n",
    "#         ['season', 'round', 'url', 'raceName', \n",
    "#          'Circuit', 'date', 'time', 'Results']\n",
    "#     \"\"\"\n",
    "    \n",
    "#     year = data.get('season', 0)\n",
    "#     rnd = data.get('round', 0)\n",
    "#     rnd = rnd if len(rnd) == 2 else f'0{rnd}'\n",
    "#     return int(f\"{year}{rnd}\")"
   ]
  },
  {
   "cell_type": "code",
   "execution_count": null,
   "id": "d3a7b464",
   "metadata": {
    "ExecuteTime": {
     "end_time": "2021-06-19T19:06:15.174041Z",
     "start_time": "2021-06-19T19:06:15.169044Z"
    }
   },
   "outputs": [],
   "source": [
    "# # Races\n",
    "# def get_race(data):\n",
    "#     \"\"\"\n",
    "#     Returns a row for the RACES table from a Races dictionary.\n",
    "#     Keys for ``data`` should be:\n",
    "#         ['season', 'round', 'url', 'raceName', \n",
    "#          'Circuit', 'date', 'time', 'Results']\n",
    "#     \"\"\"\n",
    "    \n",
    "#     # Format datetime string.\n",
    "#     d = data.get('date', '1900-01-01')\n",
    "#     t = data.get('time', '01:01:01Z')\n",
    "#     dt_string = f'{d} {t}'\n",
    "    \n",
    "#     # Return row.\n",
    "#     return dict(\n",
    "#         RaceID=get_race_id(data),\n",
    "#         Season=int(data.get('season', -1)),\n",
    "#         Round=int(data.get('round', -1)),\n",
    "#         RaceName=data.get('raceName'),\n",
    "#         CircuitID=data.get('Circuit').get('circuitId'),\n",
    "#         DateTime=pd.to_datetime(dt_string),\n",
    "#         URL=data.get('url'),\n",
    "#     )\n",
    "    \n",
    "\n",
    "# # new_race = get_race(data)\n",
    "# # new_race"
   ]
  },
  {
   "cell_type": "code",
   "execution_count": null,
   "id": "ef73c1d8",
   "metadata": {
    "ExecuteTime": {
     "end_time": "2021-06-19T19:06:15.181444Z",
     "start_time": "2021-06-19T19:06:15.176447Z"
    }
   },
   "outputs": [],
   "source": [
    "# # Circuit\n",
    "# def get_circuit(data):\n",
    "#     \"\"\"\n",
    "#     Returns a row for the CIRCUIT table from a Races dictionary.\n",
    "#     Keys for ``data`` should be:\n",
    "#         ['season', 'round', 'url', 'raceName', \n",
    "#          'Circuit', 'date', 'time', 'Results']\n",
    "#     \"\"\"\n",
    "    \n",
    "#     circuit = data.get('Circuit')\n",
    "#     return dict(\n",
    "#         CircuitID=circuit.get('circuitId'),\n",
    "#         CircuitName=circuit.get('circuitName'),\n",
    "#         Latitude=circuit.get('Location').get('lat'),\n",
    "#         Longitude=circuit.get('Location').get('long'),\n",
    "#         Locality=circuit.get('Location').get('locality'),\n",
    "#         Country=circuit.get('Location').get('country'),\n",
    "#         URL=circuit.get('url'),\n",
    "#     )\n",
    "\n",
    "\n",
    "# # new_circuit = get_circuit(data)\n",
    "# # new_circuit"
   ]
  },
  {
   "cell_type": "code",
   "execution_count": null,
   "id": "4578caa0",
   "metadata": {
    "ExecuteTime": {
     "end_time": "2021-06-19T19:06:15.195113Z",
     "start_time": "2021-06-19T19:06:15.183700Z"
    }
   },
   "outputs": [],
   "source": [
    "# # Results / Drivers / Constructors\n",
    "# def get_results_drivers_constructors(data):\n",
    "#     \"\"\"\n",
    "#     Returns all rows for a given RaceID for the RESULTS table \n",
    "#         and all rows for a given RaceID for the DRIVERS table\n",
    "#         and all rows for a given RaceID for the CONSTRUCTORS table\n",
    "#         from a Races dictionary.\n",
    "#     Keys for ``data`` should be:\n",
    "#         ['season', 'round', 'url', 'raceName', \n",
    "#          'Circuit', 'date', 'time', 'Results']\n",
    "#     \"\"\"\n",
    "    \n",
    "#     RESULTS = []\n",
    "#     DRIVERS = []\n",
    "#     CONSTRUCTORS = []\n",
    "#     race_id = get_race_id(data)\n",
    "    \n",
    "#     results = data.get('Results')\n",
    "#     for r in results:\n",
    "#         driver = r.get('Driver')\n",
    "#         constructor = r.get('Constructor')\n",
    "        \n",
    "#         results_row = dict(\n",
    "#             RaceID=race_id,\n",
    "#             Position=int(r.get('position', -1)),\n",
    "#             Points=int(r.get('points', -1)),\n",
    "#             DriverID=driver.get('driverId'),\n",
    "#             ConstructorID=constructor.get('constructorId'),\n",
    "#             Grid=int(r.get('grid', -1)),\n",
    "#             Laps=int(r.get('laps', -1)),\n",
    "#             Status=r.get('status'),\n",
    "#             Time=r.get('Time').get('time') if r.get('Time') else r.get('Time'),\n",
    "#             FastestLapTime=r.get('FastestLap').get('Time').get('time') \\\n",
    "#                 if r.get('FastestLap') else None,\n",
    "#             FastestLapSpeed=r.get('FastestLap').get('AverageSpeed').get('speed') \\\n",
    "#                 if r.get('FastestLap') else None\n",
    "#         )\n",
    "#         drivers_row = dict(\n",
    "#             DriverID=driver.get('driverId'),\n",
    "#             Code=driver.get('code'),\n",
    "#             FirstName=driver.get('givenName'),\n",
    "#             LastName=driver.get('familyName'),\n",
    "#             DOB=driver.get('dateOfBirth'),\n",
    "#             Nationality=driver.get('nationality'),\n",
    "#             URL=driver.get('url'),\n",
    "#         )\n",
    "#         constructors_row = dict(\n",
    "#             ConstructorsID=constructor.get('constructorId'),\n",
    "#             Name=constructor.get('name'),\n",
    "#             Nationality=constructor.get('nationality'),\n",
    "#             URL=constructor.get('url'),\n",
    "#         )\n",
    "#         RESULTS.append(results_row)\n",
    "#         DRIVERS.append(drivers_row)\n",
    "#         CONSTRUCTORS.append(constructors_row)\n",
    "    \n",
    "#     return RESULTS, DRIVERS, CONSTRUCTORS\n",
    "\n",
    "\n",
    "# # new_results, new_drivers, new_constructors = get_results_drivers_constructors(data)\n",
    "# # new_results[0], new_drivers[0], new_constructors[0]"
   ]
  },
  {
   "cell_type": "code",
   "execution_count": null,
   "id": "20777b3b",
   "metadata": {
    "ExecuteTime": {
     "end_time": "2021-06-19T19:06:15.205460Z",
     "start_time": "2021-06-19T19:06:15.197953Z"
    }
   },
   "outputs": [],
   "source": [
    "# def collect_data_from(year, round_num=1, verbose=True):\n",
    "#     \"\"\"\n",
    "#     Collect all data from each event in a given year.\n",
    "    \n",
    "#     Returns rows for tables:\n",
    "#         [RACES, CIRCUITS, RESULTS, DRIVERS, CONSTRUCTORS]\n",
    "#     \"\"\"\n",
    "    \n",
    "#     RACES = []\n",
    "#     CIRCUITS = []\n",
    "#     RESULTS = []\n",
    "#     DRIVERS = []\n",
    "#     CONSTRUCTORS = []\n",
    "    \n",
    "#     while True:\n",
    "#         URL = f'http://ergast.com/api/f1/{year}/{round_num}/results.json'\n",
    "#         ROUND = requests.get(URL)\n",
    "#         if not ROUND.ok:\n",
    "#             if verbose:\n",
    "#                 print(f'\\tComplete. Data from {len(RACES)} races compiled.')\n",
    "#             return RACES, CIRCUITS, RESULTS, DRIVERS, CONSTRUCTORS\n",
    "#         ROUND_DATA = json.loads(ROUND.content)\n",
    "#         data = ROUND_DATA['MRData']['RaceTable']['Races']\n",
    "        \n",
    "#         if not data:\n",
    "#             if verbose:\n",
    "#                 print(f'\\tComplete. Data from {len(RACES)} races compiled.')\n",
    "#             return RACES, CIRCUITS, RESULTS, DRIVERS, CONSTRUCTORS\n",
    "            \n",
    "#         data = data[0]\n",
    "#         if verbose:\n",
    "#             print(f'Collecting data from: Year: {year} | Round: {round_num}')\n",
    "\n",
    "#         RACES.append(get_race(data))\n",
    "#         CIRCUITS.append(get_circuit(data))\n",
    "#         results, drivers, constructors = get_results_drivers_constructors(data)\n",
    "#         RESULTS += results\n",
    "#         DRIVERS += drivers\n",
    "#         CONSTRUCTORS += constructors\n",
    "        \n",
    "#         round_num += 1"
   ]
  },
  {
   "cell_type": "code",
   "execution_count": null,
   "id": "eaedadd4",
   "metadata": {
    "ExecuteTime": {
     "end_time": "2021-06-19T19:06:15.218084Z",
     "start_time": "2021-06-19T19:06:15.208707Z"
    }
   },
   "outputs": [],
   "source": [
    "# def scrape_date_range(start_year, end_year=2021, save_to_dir=None, verbose=1):\n",
    "#     \"\"\"\n",
    "#     Scrape data from a given ``start_year`` to a given ``end_year``.\n",
    "    \n",
    "#     A directory path can be given as ``save_to`` in order to save the tables \n",
    "#         in .csv format.\n",
    "#     \"\"\"\n",
    "    \n",
    "#     MICRO_VERBOSE = True if verbose == 2 else False\n",
    "    \n",
    "#     ALL_RACES = []\n",
    "#     ALL_CIRCUITS = []\n",
    "#     ALL_RESULTS = []\n",
    "#     ALL_DRIVERS = []\n",
    "#     ALL_CONSTRUCTORS = []\n",
    "    \n",
    "#     for year in range(start_year, end_year+1):\n",
    "#         if verbose:\n",
    "#             print(f'Scraping year {year}')\n",
    "#         races, circ, res, dr, const = collect_data_from(\n",
    "#             year, verbose=MICRO_VERBOSE)\n",
    "#         ALL_RACES += races\n",
    "#         ALL_CIRCUITS += circ\n",
    "#         ALL_RESULTS += res\n",
    "#         ALL_DRIVERS += dr\n",
    "#         ALL_CONSTRUCTORS += const\n",
    "    \n",
    "#     races_df = pd.DataFrame(ALL_RACES)\n",
    "#     circuits_df = pd.DataFrame(ALL_CIRCUITS).drop_duplicates()\n",
    "#     results_df = pd.DataFrame(ALL_RESULTS)\n",
    "#     drivers_df = pd.DataFrame(ALL_DRIVERS).drop_duplicates()\n",
    "#     constructors_df = pd.DataFrame(ALL_CONSTRUCTORS).drop_duplicates()\n",
    "    \n",
    "#     if save_to_dir:\n",
    "#         if save_to_dir not in os.listdir():\n",
    "#             os.mkdir(save_to_dir)\n",
    "        \n",
    "#         races_df.to_csv(os.path.join(save_to_dir, 'races.csv'))\n",
    "#         circuits_df.to_csv(os.path.join(save_to_dir, 'circuits.csv'))\n",
    "#         results_df.to_csv(os.path.join(save_to_dir, 'results.csv'))\n",
    "#         drivers_df.to_csv(os.path.join(save_to_dir, 'drivers.csv'))\n",
    "#         constructors_df.to_csv(os.path.join(save_to_dir, 'constructors.csv'))\n",
    "    \n",
    "#     return races_df, circuits_df, results_df, drivers_df, constructors_df"
   ]
  },
  {
   "cell_type": "code",
   "execution_count": null,
   "id": "758c7c9a",
   "metadata": {
    "ExecuteTime": {
     "end_time": "2021-06-19T19:08:13.972003Z",
     "start_time": "2021-06-19T19:07:25.866952Z"
    }
   },
   "outputs": [],
   "source": [
    "# (RACES, CIRCUITS, RESULTS, DRIVERS, CONSTRUCTORS) = scrape_date_range(\n",
    "#     2017, 2019)\n",
    "\n",
    "# (NEW_RACES, NEW_CIRCUITS, NEW_RESULTS, \n",
    "#  NEW_DRIVERS, NEW_CONSTRUCTORS) = scrape_date_range(\n",
    "#     2019, 2021)"
   ]
  },
  {
   "cell_type": "code",
   "execution_count": null,
   "id": "a41e824e",
   "metadata": {
    "ExecuteTime": {
     "end_time": "2021-06-19T19:08:46.445847Z",
     "start_time": "2021-06-19T19:08:46.422920Z"
    }
   },
   "outputs": [],
   "source": [
    "# pd.concat([RACES, NEW_RACES]).drop_duplicates()"
   ]
  },
  {
   "cell_type": "code",
   "execution_count": null,
   "id": "00043652",
   "metadata": {
    "ExecuteTime": {
     "end_time": "2021-06-19T19:06:32.404509Z",
     "start_time": "2021-06-19T19:06:15.166Z"
    }
   },
   "outputs": [],
   "source": [
    "# RACES"
   ]
  },
  {
   "cell_type": "code",
   "execution_count": null,
   "id": "9a20a75f",
   "metadata": {
    "ExecuteTime": {
     "end_time": "2021-06-19T19:06:32.406361Z",
     "start_time": "2021-06-19T19:06:15.168Z"
    }
   },
   "outputs": [],
   "source": [
    "# (RACES, CIRCUITS, RESULTS, DRIVERS, CONSTRUCTORS) = collect_data_from(2019)"
   ]
  },
  {
   "cell_type": "code",
   "execution_count": null,
   "id": "10ecefd6",
   "metadata": {
    "ExecuteTime": {
     "end_time": "2021-06-19T19:06:32.408380Z",
     "start_time": "2021-06-19T19:06:15.170Z"
    }
   },
   "outputs": [],
   "source": [
    "# pd.DataFrame(RACES)"
   ]
  },
  {
   "cell_type": "code",
   "execution_count": null,
   "id": "83e0673e",
   "metadata": {
    "ExecuteTime": {
     "end_time": "2021-06-19T19:06:32.410410Z",
     "start_time": "2021-06-19T19:06:15.171Z"
    }
   },
   "outputs": [],
   "source": [
    "# pd.DataFrame(CIRCUITS)"
   ]
  },
  {
   "cell_type": "code",
   "execution_count": null,
   "id": "a099ed91",
   "metadata": {
    "ExecuteTime": {
     "end_time": "2021-06-19T19:06:32.412442Z",
     "start_time": "2021-06-19T19:06:15.172Z"
    }
   },
   "outputs": [],
   "source": [
    "# pd.DataFrame(RESULTS)"
   ]
  },
  {
   "cell_type": "code",
   "execution_count": null,
   "id": "ff26945b",
   "metadata": {
    "ExecuteTime": {
     "end_time": "2021-06-19T19:06:32.414863Z",
     "start_time": "2021-06-19T19:06:15.173Z"
    }
   },
   "outputs": [],
   "source": [
    "# df = pd.DataFrame(DRIVERS)\n"
   ]
  },
  {
   "cell_type": "code",
   "execution_count": null,
   "id": "ca111024",
   "metadata": {
    "ExecuteTime": {
     "end_time": "2021-06-19T19:06:32.416939Z",
     "start_time": "2021-06-19T19:06:15.175Z"
    }
   },
   "outputs": [],
   "source": [
    "# df.drop_duplicates()"
   ]
  },
  {
   "cell_type": "code",
   "execution_count": null,
   "id": "d3b13d3c",
   "metadata": {
    "ExecuteTime": {
     "end_time": "2021-06-19T19:06:32.419220Z",
     "start_time": "2021-06-19T19:06:15.176Z"
    }
   },
   "outputs": [],
   "source": [
    "# pd.DataFrame(CONSTRUCTORS).drop_duplicates()"
   ]
  },
  {
   "cell_type": "code",
   "execution_count": null,
   "id": "b0a23b87",
   "metadata": {
    "ExecuteTime": {
     "end_time": "2021-06-19T19:06:32.420886Z",
     "start_time": "2021-06-19T19:06:15.177Z"
    }
   },
   "outputs": [],
   "source": [
    "# DRIVERS.info()"
   ]
  },
  {
   "cell_type": "code",
   "execution_count": null,
   "id": "bf959365",
   "metadata": {},
   "outputs": [],
   "source": []
  }
 ],
 "metadata": {
  "kernelspec": {
   "display_name": "Python 3",
   "language": "python",
   "name": "python3"
  },
  "language_info": {
   "codemirror_mode": {
    "name": "ipython",
    "version": 3
   },
   "file_extension": ".py",
   "mimetype": "text/x-python",
   "name": "python",
   "nbconvert_exporter": "python",
   "pygments_lexer": "ipython3",
   "version": "3.6.9"
  },
  "toc": {
   "base_numbering": 1,
   "nav_menu": {},
   "number_sections": false,
   "sideBar": true,
   "skip_h1_title": false,
   "title_cell": "Table of Contents",
   "title_sidebar": "Contents",
   "toc_cell": false,
   "toc_position": {
    "height": "calc(100% - 180px)",
    "left": "10px",
    "top": "150px",
    "width": "340px"
   },
   "toc_section_display": true,
   "toc_window_display": true
  }
 },
 "nbformat": 4,
 "nbformat_minor": 5
}
