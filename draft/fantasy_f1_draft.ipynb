{
 "cells": [
  {
   "cell_type": "code",
   "execution_count": 1,
   "id": "44c09bbc",
   "metadata": {
    "ExecuteTime": {
     "end_time": "2021-06-20T12:13:41.586463Z",
     "start_time": "2021-06-20T12:13:41.157514Z"
    }
   },
   "outputs": [],
   "source": [
    "import unidecode\n",
    "import pandas as pd\n",
    "import numpy as np"
   ]
  },
  {
   "cell_type": "code",
   "execution_count": 2,
   "id": "a88d6970",
   "metadata": {
    "ExecuteTime": {
     "end_time": "2021-06-20T12:13:41.611590Z",
     "start_time": "2021-06-20T12:13:41.588670Z"
    }
   },
   "outputs": [],
   "source": [
    "class Draft:\n",
    "    def __init__(self, \n",
    "                 player_names, \n",
    "                 current_standings_df, \n",
    "                 randomize_order=True):\n",
    "        self.players_lst = [Player(name) for name in player_names]\n",
    "        self.driver_pool = DriverPool(current_standings_df)\n",
    "        self.current_idx = 0\n",
    "        self.picking_order = [0, 1, 2, 3, 3, 2, 1, 0]\n",
    "        if randomize_order:\n",
    "            np.random.shuffle(self.players_lst)\n",
    "        print('Welcome to the Draft!')\n",
    "        print('---------------------')\n",
    "        print('The Draft Order is:')\n",
    "        for n, p in enumerate(self.players_lst, 1):\n",
    "            print(f'\\t{n}. {p.name}')\n",
    "    \n",
    "    def __repr__(self):\n",
    "        print(f\"{self.players_lst[self.picking_order[self.current_idx]].name} is on the clock!\")\n",
    "        print('*'*40)\n",
    "        print(self.driver_pool)\n",
    "        return ''\n",
    "    \n",
    "    def show_rosters(self):\n",
    "        for p in self.players_lst:\n",
    "            print(p)\n",
    "    \n",
    "    def move_idx(self):\n",
    "        if self.current_idx == len(self.picking_order) - 1:\n",
    "            self.current_idx = 0\n",
    "        else:\n",
    "            self.current_idx += 1\n",
    "    \n",
    "    def pick(self, last_name, force=False):\n",
    "        driver = self.driver_pool.get_driver(last_name)\n",
    "        if not driver:\n",
    "            print(f'Driver: ``{last_name}`` not available!')\n",
    "            return\n",
    "        pick_num = sum([len(p.roster) for p in self.players_lst]) + 1\n",
    "        pick = (self.players_lst[self.picking_order[self.current_idx]]\n",
    "                .pick_driver(driver, pick_num, force))\n",
    "        if not pick:\n",
    "            return\n",
    "        self.move_idx()\n",
    "        \n",
    "    def save_rosters(self):\n",
    "        all_dfs = [player.get_roster_dataframe() for player in self.players_lst]\n",
    "        df = pd.concat(all_dfs).reset_index(drop=True)\n",
    "        cols = [\n",
    "            'OverallPick',\n",
    "            'TeamPick',\n",
    "            'Team',\n",
    "            'LastName',\n",
    "            'FirstName',\n",
    "            'Car',\n",
    "            'Nationality',\n",
    "        ]\n",
    "        df = (\n",
    "            df[cols]\n",
    "            .sort_values('OverallPick')\n",
    "            .reset_index(drop=True)\n",
    "        )\n",
    "        df.to_csv('fantasy_rosters.csv')\n",
    "        return df\n",
    "\n",
    "\n",
    "class Player:\n",
    "    def __init__(self, name, budget=153):\n",
    "        self.budget = budget\n",
    "        self.name = name\n",
    "        self.roster = []\n",
    "        \n",
    "    def pick_driver(self, driver, pick_num, force=False):\n",
    "        if not force and driver.cost > self.budget:\n",
    "            print(f'Cannot afford ``{driver.name}``. Budget: {self.budget}.')\n",
    "            return\n",
    "        self.budget -= driver.cost\n",
    "        self.roster.append((pick_num, driver))\n",
    "        print(f'{self.name} selected {driver.name}!')\n",
    "        print(f'\\t{self.budget} points remaining.')\n",
    "        self.__repr__()\n",
    "        return 1\n",
    "        \n",
    "    def __repr__(self):\n",
    "        print(f'{self.name} | Budget: {self.budget}')\n",
    "        for d in self.roster:\n",
    "            print(f'\\t{d}')\n",
    "        return ''\n",
    "    \n",
    "    def get_roster_dataframe(self):\n",
    "        rows = []\n",
    "        for overall, d in self.roster:\n",
    "            row = d.self_dict()\n",
    "            row['OverallPick'] = overall\n",
    "            rows.append(row)\n",
    "        df = pd.DataFrame(rows)\n",
    "        df['Team'] = self.name\n",
    "        df['TeamPick'] = [1, 2, 3, 4, 5]\n",
    "        return df\n",
    "    \n",
    "class RaceDriver:\n",
    "    def __init__(self, name, nationality, car, cost):\n",
    "        self.name = unidecode.unidecode(name)\n",
    "        self.first, self.last = self.name.split()\n",
    "        self.nationality = nationality\n",
    "        self.car = car\n",
    "        self.cost = cost\n",
    "        \n",
    "    def __str__(self):\n",
    "        return f'{self.name} | {self.nationality} | {self.car} | {self.cost}'\n",
    "    \n",
    "    def __repr__(self):\n",
    "        return f'{self.name} | {self.nationality} | {self.car} | {self.cost}'\n",
    "    \n",
    "    def self_dict(self):\n",
    "        return dict(\n",
    "            LastName=self.last,\n",
    "            FirstName=self.first,\n",
    "            Nationality=self.nationality,\n",
    "            Car=self.car,\n",
    "        )\n",
    "    \n",
    "    \n",
    "class DriverPool:\n",
    "    def __init__(self, df):\n",
    "        drivers_lst = [\n",
    "            RaceDriver(r['DRIVER'], r['NATIONALITY'], r['CAR'], int(r['PTS']))\n",
    "            for idx, r in df.iterrows()\n",
    "        ]\n",
    "        self.pool = {d.last: d for d in drivers_lst}\n",
    "        \n",
    "    def __repr__(self):\n",
    "        return '\\n'.join([d.__str__() for d in self.pool.values()])\n",
    "    \n",
    "    def get_driver(self, last_name):\n",
    "        return self.pool.pop(last_name, None)"
   ]
  },
  {
   "cell_type": "code",
   "execution_count": 3,
   "id": "062b6fd0",
   "metadata": {
    "ExecuteTime": {
     "end_time": "2021-06-20T12:13:41.622802Z",
     "start_time": "2021-06-20T12:13:41.614926Z"
    }
   },
   "outputs": [],
   "source": [
    "current_standings = pd.read_csv('current_standings.csv', index_col=0)"
   ]
  },
  {
   "cell_type": "code",
   "execution_count": 4,
   "id": "e9191cf3",
   "metadata": {
    "ExecuteTime": {
     "end_time": "2021-06-20T12:13:41.627564Z",
     "start_time": "2021-06-20T12:13:41.625269Z"
    }
   },
   "outputs": [],
   "source": [
    "TEAM_NAMES = [\n",
    "    'Carlaniel & the Romeos',\n",
    "    'Scuderia Spaghetti',\n",
    "    '3 Orange Whips',\n",
    "    'Deep Fried'\n",
    "]"
   ]
  },
  {
   "cell_type": "markdown",
   "id": "1d62ef0a",
   "metadata": {},
   "source": [
    "# Draft Start"
   ]
  },
  {
   "cell_type": "code",
   "execution_count": 5,
   "id": "0601cdc2",
   "metadata": {
    "ExecuteTime": {
     "end_time": "2021-06-20T12:13:41.637917Z",
     "start_time": "2021-06-20T12:13:41.629705Z"
    }
   },
   "outputs": [
    {
     "name": "stdout",
     "output_type": "stream",
     "text": [
      "Welcome to the Draft!\n",
      "---------------------\n",
      "The Draft Order is:\n",
      "\t1. Carlaniel & the Romeos\n",
      "\t2. Scuderia Spaghetti\n",
      "\t3. 3 Orange Whips\n",
      "\t4. Deep Fried\n"
     ]
    }
   ],
   "source": [
    "main = Draft(TEAM_NAMES, \n",
    "             current_standings, \n",
    "             randomize_order=False)"
   ]
  },
  {
   "cell_type": "markdown",
   "id": "640420fb",
   "metadata": {},
   "source": [
    "## R1"
   ]
  },
  {
   "cell_type": "code",
   "execution_count": 6,
   "id": "5dc757ec",
   "metadata": {
    "ExecuteTime": {
     "end_time": "2021-06-20T12:13:41.650479Z",
     "start_time": "2021-06-20T12:13:41.639593Z"
    }
   },
   "outputs": [
    {
     "name": "stdout",
     "output_type": "stream",
     "text": [
      "Carlaniel & the Romeos is on the clock!\n",
      "****************************************\n",
      "Max Verstappen | NED | RED BULL RACING HONDA | 105\n",
      "Lewis Hamilton | GBR | MERCEDES | 101\n",
      "Sergio Perez | MEX | RED BULL RACING HONDA | 69\n",
      "Lando Norris | GBR | MCLAREN MERCEDES | 66\n",
      "Charles Leclerc | MON | FERRARI | 52\n",
      "Valtteri Bottas | FIN | MERCEDES | 47\n",
      "Carlos Sainz | ESP | FERRARI | 42\n",
      "Pierre Gasly | FRA | ALPHATAURI HONDA | 31\n",
      "Sebastian Vettel | GER | ASTON MARTIN MERCEDES | 28\n",
      "Daniel Ricciardo | AUS | MCLAREN MERCEDES | 26\n",
      "Fernando Alonso | ESP | ALPINE RENAULT | 13\n",
      "Esteban Ocon | FRA | ALPINE RENAULT | 12\n",
      "Lance Stroll | CAN | ASTON MARTIN MERCEDES | 9\n",
      "Yuki Tsunoda | JPN | ALPHATAURI HONDA | 8\n",
      "Kimi Raikkonen | FIN | ALFA ROMEO RACING FERRARI | 1\n",
      "Antonio Giovinazzi | ITA | ALFA ROMEO RACING FERRARI | 1\n",
      "Mick Schumacher | GER | HAAS FERRARI | 0\n",
      "George Russell | GBR | WILLIAMS MERCEDES | 0\n",
      "Nikita Mazepin | RAF | HAAS FERRARI | 0\n",
      "Nicholas Latifi | CAN | WILLIAMS MERCEDES | 0\n"
     ]
    },
    {
     "data": {
      "text/plain": []
     },
     "execution_count": 6,
     "metadata": {},
     "output_type": "execute_result"
    }
   ],
   "source": [
    "main"
   ]
  },
  {
   "cell_type": "code",
   "execution_count": 7,
   "id": "4366215d",
   "metadata": {
    "ExecuteTime": {
     "end_time": "2021-06-20T12:13:41.655784Z",
     "start_time": "2021-06-20T12:13:41.652622Z"
    }
   },
   "outputs": [
    {
     "name": "stdout",
     "output_type": "stream",
     "text": [
      "Carlaniel & the Romeos selected Lando Norris!\n",
      "\t87 points remaining.\n",
      "Carlaniel & the Romeos | Budget: 87\n",
      "\t(1, Lando Norris | GBR | MCLAREN MERCEDES | 66)\n"
     ]
    }
   ],
   "source": [
    "main.pick('Norris')"
   ]
  },
  {
   "cell_type": "code",
   "execution_count": 8,
   "id": "fab9165c",
   "metadata": {
    "ExecuteTime": {
     "end_time": "2021-06-20T12:13:41.663718Z",
     "start_time": "2021-06-20T12:13:41.660975Z"
    }
   },
   "outputs": [
    {
     "name": "stdout",
     "output_type": "stream",
     "text": [
      "Carlaniel & the Romeos | Budget: 87\n",
      "\t(1, Lando Norris | GBR | MCLAREN MERCEDES | 66)\n",
      "\n",
      "Scuderia Spaghetti | Budget: 153\n",
      "\n",
      "3 Orange Whips | Budget: 153\n",
      "\n",
      "Deep Fried | Budget: 153\n",
      "\n"
     ]
    }
   ],
   "source": [
    "main.show_rosters()"
   ]
  },
  {
   "cell_type": "code",
   "execution_count": 9,
   "id": "1492648e",
   "metadata": {
    "ExecuteTime": {
     "end_time": "2021-06-20T12:13:41.670692Z",
     "start_time": "2021-06-20T12:13:41.666699Z"
    }
   },
   "outputs": [
    {
     "name": "stdout",
     "output_type": "stream",
     "text": [
      "Scuderia Spaghetti is on the clock!\n",
      "****************************************\n",
      "Max Verstappen | NED | RED BULL RACING HONDA | 105\n",
      "Lewis Hamilton | GBR | MERCEDES | 101\n",
      "Sergio Perez | MEX | RED BULL RACING HONDA | 69\n",
      "Charles Leclerc | MON | FERRARI | 52\n",
      "Valtteri Bottas | FIN | MERCEDES | 47\n",
      "Carlos Sainz | ESP | FERRARI | 42\n",
      "Pierre Gasly | FRA | ALPHATAURI HONDA | 31\n",
      "Sebastian Vettel | GER | ASTON MARTIN MERCEDES | 28\n",
      "Daniel Ricciardo | AUS | MCLAREN MERCEDES | 26\n",
      "Fernando Alonso | ESP | ALPINE RENAULT | 13\n",
      "Esteban Ocon | FRA | ALPINE RENAULT | 12\n",
      "Lance Stroll | CAN | ASTON MARTIN MERCEDES | 9\n",
      "Yuki Tsunoda | JPN | ALPHATAURI HONDA | 8\n",
      "Kimi Raikkonen | FIN | ALFA ROMEO RACING FERRARI | 1\n",
      "Antonio Giovinazzi | ITA | ALFA ROMEO RACING FERRARI | 1\n",
      "Mick Schumacher | GER | HAAS FERRARI | 0\n",
      "George Russell | GBR | WILLIAMS MERCEDES | 0\n",
      "Nikita Mazepin | RAF | HAAS FERRARI | 0\n",
      "Nicholas Latifi | CAN | WILLIAMS MERCEDES | 0\n"
     ]
    },
    {
     "data": {
      "text/plain": []
     },
     "execution_count": 9,
     "metadata": {},
     "output_type": "execute_result"
    }
   ],
   "source": [
    "main"
   ]
  },
  {
   "cell_type": "code",
   "execution_count": 10,
   "id": "34b2451b",
   "metadata": {
    "ExecuteTime": {
     "end_time": "2021-06-20T12:13:41.675043Z",
     "start_time": "2021-06-20T12:13:41.672395Z"
    }
   },
   "outputs": [
    {
     "name": "stdout",
     "output_type": "stream",
     "text": [
      "Scuderia Spaghetti selected Lewis Hamilton!\n",
      "\t52 points remaining.\n",
      "Scuderia Spaghetti | Budget: 52\n",
      "\t(2, Lewis Hamilton | GBR | MERCEDES | 101)\n"
     ]
    }
   ],
   "source": [
    "main.pick('Hamilton')"
   ]
  },
  {
   "cell_type": "code",
   "execution_count": 11,
   "id": "6addd512",
   "metadata": {
    "ExecuteTime": {
     "end_time": "2021-06-20T12:13:41.680793Z",
     "start_time": "2021-06-20T12:13:41.676935Z"
    }
   },
   "outputs": [
    {
     "name": "stdout",
     "output_type": "stream",
     "text": [
      "Carlaniel & the Romeos | Budget: 87\n",
      "\t(1, Lando Norris | GBR | MCLAREN MERCEDES | 66)\n",
      "\n",
      "Scuderia Spaghetti | Budget: 52\n",
      "\t(2, Lewis Hamilton | GBR | MERCEDES | 101)\n",
      "\n",
      "3 Orange Whips | Budget: 153\n",
      "\n",
      "Deep Fried | Budget: 153\n",
      "\n"
     ]
    }
   ],
   "source": [
    "main.show_rosters()"
   ]
  },
  {
   "cell_type": "code",
   "execution_count": 12,
   "id": "42076360",
   "metadata": {
    "ExecuteTime": {
     "end_time": "2021-06-20T12:13:41.689810Z",
     "start_time": "2021-06-20T12:13:41.683484Z"
    }
   },
   "outputs": [
    {
     "name": "stdout",
     "output_type": "stream",
     "text": [
      "3 Orange Whips is on the clock!\n",
      "****************************************\n",
      "Max Verstappen | NED | RED BULL RACING HONDA | 105\n",
      "Sergio Perez | MEX | RED BULL RACING HONDA | 69\n",
      "Charles Leclerc | MON | FERRARI | 52\n",
      "Valtteri Bottas | FIN | MERCEDES | 47\n",
      "Carlos Sainz | ESP | FERRARI | 42\n",
      "Pierre Gasly | FRA | ALPHATAURI HONDA | 31\n",
      "Sebastian Vettel | GER | ASTON MARTIN MERCEDES | 28\n",
      "Daniel Ricciardo | AUS | MCLAREN MERCEDES | 26\n",
      "Fernando Alonso | ESP | ALPINE RENAULT | 13\n",
      "Esteban Ocon | FRA | ALPINE RENAULT | 12\n",
      "Lance Stroll | CAN | ASTON MARTIN MERCEDES | 9\n",
      "Yuki Tsunoda | JPN | ALPHATAURI HONDA | 8\n",
      "Kimi Raikkonen | FIN | ALFA ROMEO RACING FERRARI | 1\n",
      "Antonio Giovinazzi | ITA | ALFA ROMEO RACING FERRARI | 1\n",
      "Mick Schumacher | GER | HAAS FERRARI | 0\n",
      "George Russell | GBR | WILLIAMS MERCEDES | 0\n",
      "Nikita Mazepin | RAF | HAAS FERRARI | 0\n",
      "Nicholas Latifi | CAN | WILLIAMS MERCEDES | 0\n"
     ]
    },
    {
     "data": {
      "text/plain": []
     },
     "execution_count": 12,
     "metadata": {},
     "output_type": "execute_result"
    }
   ],
   "source": [
    "main"
   ]
  },
  {
   "cell_type": "code",
   "execution_count": 13,
   "id": "9bd439b7",
   "metadata": {
    "ExecuteTime": {
     "end_time": "2021-06-20T12:13:41.696888Z",
     "start_time": "2021-06-20T12:13:41.692155Z"
    }
   },
   "outputs": [
    {
     "name": "stdout",
     "output_type": "stream",
     "text": [
      "3 Orange Whips selected Max Verstappen!\n",
      "\t48 points remaining.\n",
      "3 Orange Whips | Budget: 48\n",
      "\t(3, Max Verstappen | NED | RED BULL RACING HONDA | 105)\n"
     ]
    }
   ],
   "source": [
    "main.pick('Verstappen')"
   ]
  },
  {
   "cell_type": "code",
   "execution_count": 14,
   "id": "b4195008",
   "metadata": {
    "ExecuteTime": {
     "end_time": "2021-06-20T12:13:41.701875Z",
     "start_time": "2021-06-20T12:13:41.698822Z"
    }
   },
   "outputs": [
    {
     "name": "stdout",
     "output_type": "stream",
     "text": [
      "Carlaniel & the Romeos | Budget: 87\n",
      "\t(1, Lando Norris | GBR | MCLAREN MERCEDES | 66)\n",
      "\n",
      "Scuderia Spaghetti | Budget: 52\n",
      "\t(2, Lewis Hamilton | GBR | MERCEDES | 101)\n",
      "\n",
      "3 Orange Whips | Budget: 48\n",
      "\t(3, Max Verstappen | NED | RED BULL RACING HONDA | 105)\n",
      "\n",
      "Deep Fried | Budget: 153\n",
      "\n"
     ]
    }
   ],
   "source": [
    "main.show_rosters()"
   ]
  },
  {
   "cell_type": "code",
   "execution_count": 15,
   "id": "077dfad3",
   "metadata": {
    "ExecuteTime": {
     "end_time": "2021-06-20T12:13:41.710573Z",
     "start_time": "2021-06-20T12:13:41.704456Z"
    }
   },
   "outputs": [
    {
     "name": "stdout",
     "output_type": "stream",
     "text": [
      "Deep Fried is on the clock!\n",
      "****************************************\n",
      "Sergio Perez | MEX | RED BULL RACING HONDA | 69\n",
      "Charles Leclerc | MON | FERRARI | 52\n",
      "Valtteri Bottas | FIN | MERCEDES | 47\n",
      "Carlos Sainz | ESP | FERRARI | 42\n",
      "Pierre Gasly | FRA | ALPHATAURI HONDA | 31\n",
      "Sebastian Vettel | GER | ASTON MARTIN MERCEDES | 28\n",
      "Daniel Ricciardo | AUS | MCLAREN MERCEDES | 26\n",
      "Fernando Alonso | ESP | ALPINE RENAULT | 13\n",
      "Esteban Ocon | FRA | ALPINE RENAULT | 12\n",
      "Lance Stroll | CAN | ASTON MARTIN MERCEDES | 9\n",
      "Yuki Tsunoda | JPN | ALPHATAURI HONDA | 8\n",
      "Kimi Raikkonen | FIN | ALFA ROMEO RACING FERRARI | 1\n",
      "Antonio Giovinazzi | ITA | ALFA ROMEO RACING FERRARI | 1\n",
      "Mick Schumacher | GER | HAAS FERRARI | 0\n",
      "George Russell | GBR | WILLIAMS MERCEDES | 0\n",
      "Nikita Mazepin | RAF | HAAS FERRARI | 0\n",
      "Nicholas Latifi | CAN | WILLIAMS MERCEDES | 0\n"
     ]
    },
    {
     "data": {
      "text/plain": []
     },
     "execution_count": 15,
     "metadata": {},
     "output_type": "execute_result"
    }
   ],
   "source": [
    "main"
   ]
  },
  {
   "cell_type": "code",
   "execution_count": 16,
   "id": "2eec4abd",
   "metadata": {
    "ExecuteTime": {
     "end_time": "2021-06-20T12:13:41.716562Z",
     "start_time": "2021-06-20T12:13:41.713481Z"
    }
   },
   "outputs": [
    {
     "name": "stdout",
     "output_type": "stream",
     "text": [
      "Deep Fried selected Valtteri Bottas!\n",
      "\t106 points remaining.\n",
      "Deep Fried | Budget: 106\n",
      "\t(4, Valtteri Bottas | FIN | MERCEDES | 47)\n"
     ]
    }
   ],
   "source": [
    "main.pick('Bottas')"
   ]
  },
  {
   "cell_type": "code",
   "execution_count": 17,
   "id": "bc11e839",
   "metadata": {
    "ExecuteTime": {
     "end_time": "2021-06-20T12:13:41.723391Z",
     "start_time": "2021-06-20T12:13:41.718515Z"
    }
   },
   "outputs": [
    {
     "name": "stdout",
     "output_type": "stream",
     "text": [
      "Carlaniel & the Romeos | Budget: 87\n",
      "\t(1, Lando Norris | GBR | MCLAREN MERCEDES | 66)\n",
      "\n",
      "Scuderia Spaghetti | Budget: 52\n",
      "\t(2, Lewis Hamilton | GBR | MERCEDES | 101)\n",
      "\n",
      "3 Orange Whips | Budget: 48\n",
      "\t(3, Max Verstappen | NED | RED BULL RACING HONDA | 105)\n",
      "\n",
      "Deep Fried | Budget: 106\n",
      "\t(4, Valtteri Bottas | FIN | MERCEDES | 47)\n",
      "\n"
     ]
    }
   ],
   "source": [
    "main.show_rosters()"
   ]
  },
  {
   "cell_type": "markdown",
   "id": "725d6dbf",
   "metadata": {},
   "source": [
    "## R2"
   ]
  },
  {
   "cell_type": "code",
   "execution_count": 18,
   "id": "d0ed725f",
   "metadata": {
    "ExecuteTime": {
     "end_time": "2021-06-20T12:13:41.731664Z",
     "start_time": "2021-06-20T12:13:41.726219Z"
    }
   },
   "outputs": [
    {
     "name": "stdout",
     "output_type": "stream",
     "text": [
      "Deep Fried is on the clock!\n",
      "****************************************\n",
      "Sergio Perez | MEX | RED BULL RACING HONDA | 69\n",
      "Charles Leclerc | MON | FERRARI | 52\n",
      "Carlos Sainz | ESP | FERRARI | 42\n",
      "Pierre Gasly | FRA | ALPHATAURI HONDA | 31\n",
      "Sebastian Vettel | GER | ASTON MARTIN MERCEDES | 28\n",
      "Daniel Ricciardo | AUS | MCLAREN MERCEDES | 26\n",
      "Fernando Alonso | ESP | ALPINE RENAULT | 13\n",
      "Esteban Ocon | FRA | ALPINE RENAULT | 12\n",
      "Lance Stroll | CAN | ASTON MARTIN MERCEDES | 9\n",
      "Yuki Tsunoda | JPN | ALPHATAURI HONDA | 8\n",
      "Kimi Raikkonen | FIN | ALFA ROMEO RACING FERRARI | 1\n",
      "Antonio Giovinazzi | ITA | ALFA ROMEO RACING FERRARI | 1\n",
      "Mick Schumacher | GER | HAAS FERRARI | 0\n",
      "George Russell | GBR | WILLIAMS MERCEDES | 0\n",
      "Nikita Mazepin | RAF | HAAS FERRARI | 0\n",
      "Nicholas Latifi | CAN | WILLIAMS MERCEDES | 0\n"
     ]
    },
    {
     "data": {
      "text/plain": []
     },
     "execution_count": 18,
     "metadata": {},
     "output_type": "execute_result"
    }
   ],
   "source": [
    "main"
   ]
  },
  {
   "cell_type": "code",
   "execution_count": 19,
   "id": "d7506088",
   "metadata": {
    "ExecuteTime": {
     "end_time": "2021-06-20T12:13:41.738663Z",
     "start_time": "2021-06-20T12:13:41.734328Z"
    }
   },
   "outputs": [
    {
     "name": "stdout",
     "output_type": "stream",
     "text": [
      "Deep Fried selected Sergio Perez!\n",
      "\t37 points remaining.\n",
      "Deep Fried | Budget: 37\n",
      "\t(4, Valtteri Bottas | FIN | MERCEDES | 47)\n",
      "\t(5, Sergio Perez | MEX | RED BULL RACING HONDA | 69)\n"
     ]
    }
   ],
   "source": [
    "main.pick('Perez')"
   ]
  },
  {
   "cell_type": "code",
   "execution_count": 20,
   "id": "d2f0dffa",
   "metadata": {
    "ExecuteTime": {
     "end_time": "2021-06-20T12:13:41.746381Z",
     "start_time": "2021-06-20T12:13:41.742009Z"
    }
   },
   "outputs": [
    {
     "name": "stdout",
     "output_type": "stream",
     "text": [
      "Carlaniel & the Romeos | Budget: 87\n",
      "\t(1, Lando Norris | GBR | MCLAREN MERCEDES | 66)\n",
      "\n",
      "Scuderia Spaghetti | Budget: 52\n",
      "\t(2, Lewis Hamilton | GBR | MERCEDES | 101)\n",
      "\n",
      "3 Orange Whips | Budget: 48\n",
      "\t(3, Max Verstappen | NED | RED BULL RACING HONDA | 105)\n",
      "\n",
      "Deep Fried | Budget: 37\n",
      "\t(4, Valtteri Bottas | FIN | MERCEDES | 47)\n",
      "\t(5, Sergio Perez | MEX | RED BULL RACING HONDA | 69)\n",
      "\n"
     ]
    }
   ],
   "source": [
    "main.show_rosters()"
   ]
  },
  {
   "cell_type": "code",
   "execution_count": 21,
   "id": "54c7eb9e",
   "metadata": {
    "ExecuteTime": {
     "end_time": "2021-06-20T12:13:41.754322Z",
     "start_time": "2021-06-20T12:13:41.749488Z"
    }
   },
   "outputs": [
    {
     "name": "stdout",
     "output_type": "stream",
     "text": [
      "3 Orange Whips is on the clock!\n",
      "****************************************\n",
      "Charles Leclerc | MON | FERRARI | 52\n",
      "Carlos Sainz | ESP | FERRARI | 42\n",
      "Pierre Gasly | FRA | ALPHATAURI HONDA | 31\n",
      "Sebastian Vettel | GER | ASTON MARTIN MERCEDES | 28\n",
      "Daniel Ricciardo | AUS | MCLAREN MERCEDES | 26\n",
      "Fernando Alonso | ESP | ALPINE RENAULT | 13\n",
      "Esteban Ocon | FRA | ALPINE RENAULT | 12\n",
      "Lance Stroll | CAN | ASTON MARTIN MERCEDES | 9\n",
      "Yuki Tsunoda | JPN | ALPHATAURI HONDA | 8\n",
      "Kimi Raikkonen | FIN | ALFA ROMEO RACING FERRARI | 1\n",
      "Antonio Giovinazzi | ITA | ALFA ROMEO RACING FERRARI | 1\n",
      "Mick Schumacher | GER | HAAS FERRARI | 0\n",
      "George Russell | GBR | WILLIAMS MERCEDES | 0\n",
      "Nikita Mazepin | RAF | HAAS FERRARI | 0\n",
      "Nicholas Latifi | CAN | WILLIAMS MERCEDES | 0\n"
     ]
    },
    {
     "data": {
      "text/plain": []
     },
     "execution_count": 21,
     "metadata": {},
     "output_type": "execute_result"
    }
   ],
   "source": [
    "main"
   ]
  },
  {
   "cell_type": "code",
   "execution_count": 22,
   "id": "ffb3d18d",
   "metadata": {
    "ExecuteTime": {
     "end_time": "2021-06-20T12:13:41.761373Z",
     "start_time": "2021-06-20T12:13:41.757193Z"
    }
   },
   "outputs": [
    {
     "name": "stdout",
     "output_type": "stream",
     "text": [
      "3 Orange Whips selected Pierre Gasly!\n",
      "\t17 points remaining.\n",
      "3 Orange Whips | Budget: 17\n",
      "\t(3, Max Verstappen | NED | RED BULL RACING HONDA | 105)\n",
      "\t(6, Pierre Gasly | FRA | ALPHATAURI HONDA | 31)\n"
     ]
    }
   ],
   "source": [
    "main.pick('Gasly')"
   ]
  },
  {
   "cell_type": "code",
   "execution_count": 23,
   "id": "2b066901",
   "metadata": {
    "ExecuteTime": {
     "end_time": "2021-06-20T12:13:41.779128Z",
     "start_time": "2021-06-20T12:13:41.774392Z"
    }
   },
   "outputs": [
    {
     "name": "stdout",
     "output_type": "stream",
     "text": [
      "Scuderia Spaghetti is on the clock!\n",
      "****************************************\n",
      "Charles Leclerc | MON | FERRARI | 52\n",
      "Carlos Sainz | ESP | FERRARI | 42\n",
      "Sebastian Vettel | GER | ASTON MARTIN MERCEDES | 28\n",
      "Daniel Ricciardo | AUS | MCLAREN MERCEDES | 26\n",
      "Fernando Alonso | ESP | ALPINE RENAULT | 13\n",
      "Esteban Ocon | FRA | ALPINE RENAULT | 12\n",
      "Lance Stroll | CAN | ASTON MARTIN MERCEDES | 9\n",
      "Yuki Tsunoda | JPN | ALPHATAURI HONDA | 8\n",
      "Kimi Raikkonen | FIN | ALFA ROMEO RACING FERRARI | 1\n",
      "Antonio Giovinazzi | ITA | ALFA ROMEO RACING FERRARI | 1\n",
      "Mick Schumacher | GER | HAAS FERRARI | 0\n",
      "George Russell | GBR | WILLIAMS MERCEDES | 0\n",
      "Nikita Mazepin | RAF | HAAS FERRARI | 0\n",
      "Nicholas Latifi | CAN | WILLIAMS MERCEDES | 0\n"
     ]
    },
    {
     "data": {
      "text/plain": []
     },
     "execution_count": 23,
     "metadata": {},
     "output_type": "execute_result"
    }
   ],
   "source": [
    "main"
   ]
  },
  {
   "cell_type": "code",
   "execution_count": 24,
   "id": "370d9215",
   "metadata": {
    "ExecuteTime": {
     "end_time": "2021-06-20T12:13:41.787414Z",
     "start_time": "2021-06-20T12:13:41.782922Z"
    }
   },
   "outputs": [
    {
     "name": "stdout",
     "output_type": "stream",
     "text": [
      "Scuderia Spaghetti selected Charles Leclerc!\n",
      "\t0 points remaining.\n",
      "Scuderia Spaghetti | Budget: 0\n",
      "\t(2, Lewis Hamilton | GBR | MERCEDES | 101)\n",
      "\t(7, Charles Leclerc | MON | FERRARI | 52)\n"
     ]
    }
   ],
   "source": [
    "main.pick('Leclerc')"
   ]
  },
  {
   "cell_type": "code",
   "execution_count": 25,
   "id": "bfa61329",
   "metadata": {
    "ExecuteTime": {
     "end_time": "2021-06-20T12:13:41.794850Z",
     "start_time": "2021-06-20T12:13:41.790464Z"
    }
   },
   "outputs": [
    {
     "name": "stdout",
     "output_type": "stream",
     "text": [
      "Carlaniel & the Romeos is on the clock!\n",
      "****************************************\n",
      "Carlos Sainz | ESP | FERRARI | 42\n",
      "Sebastian Vettel | GER | ASTON MARTIN MERCEDES | 28\n",
      "Daniel Ricciardo | AUS | MCLAREN MERCEDES | 26\n",
      "Fernando Alonso | ESP | ALPINE RENAULT | 13\n",
      "Esteban Ocon | FRA | ALPINE RENAULT | 12\n",
      "Lance Stroll | CAN | ASTON MARTIN MERCEDES | 9\n",
      "Yuki Tsunoda | JPN | ALPHATAURI HONDA | 8\n",
      "Kimi Raikkonen | FIN | ALFA ROMEO RACING FERRARI | 1\n",
      "Antonio Giovinazzi | ITA | ALFA ROMEO RACING FERRARI | 1\n",
      "Mick Schumacher | GER | HAAS FERRARI | 0\n",
      "George Russell | GBR | WILLIAMS MERCEDES | 0\n",
      "Nikita Mazepin | RAF | HAAS FERRARI | 0\n",
      "Nicholas Latifi | CAN | WILLIAMS MERCEDES | 0\n"
     ]
    },
    {
     "data": {
      "text/plain": []
     },
     "execution_count": 25,
     "metadata": {},
     "output_type": "execute_result"
    }
   ],
   "source": [
    "main"
   ]
  },
  {
   "cell_type": "code",
   "execution_count": 26,
   "id": "25124b5d",
   "metadata": {
    "ExecuteTime": {
     "end_time": "2021-06-20T12:13:41.800752Z",
     "start_time": "2021-06-20T12:13:41.797704Z"
    }
   },
   "outputs": [
    {
     "name": "stdout",
     "output_type": "stream",
     "text": [
      "Carlaniel & the Romeos selected Carlos Sainz!\n",
      "\t45 points remaining.\n",
      "Carlaniel & the Romeos | Budget: 45\n",
      "\t(1, Lando Norris | GBR | MCLAREN MERCEDES | 66)\n",
      "\t(8, Carlos Sainz | ESP | FERRARI | 42)\n"
     ]
    }
   ],
   "source": [
    "main.pick('Sainz')"
   ]
  },
  {
   "cell_type": "markdown",
   "id": "fe0b2cc1",
   "metadata": {},
   "source": [
    "## R3"
   ]
  },
  {
   "cell_type": "code",
   "execution_count": 27,
   "id": "1d066ba2",
   "metadata": {
    "ExecuteTime": {
     "end_time": "2021-06-20T12:13:41.807686Z",
     "start_time": "2021-06-20T12:13:41.802560Z"
    }
   },
   "outputs": [
    {
     "name": "stdout",
     "output_type": "stream",
     "text": [
      "Carlaniel & the Romeos is on the clock!\n",
      "****************************************\n",
      "Sebastian Vettel | GER | ASTON MARTIN MERCEDES | 28\n",
      "Daniel Ricciardo | AUS | MCLAREN MERCEDES | 26\n",
      "Fernando Alonso | ESP | ALPINE RENAULT | 13\n",
      "Esteban Ocon | FRA | ALPINE RENAULT | 12\n",
      "Lance Stroll | CAN | ASTON MARTIN MERCEDES | 9\n",
      "Yuki Tsunoda | JPN | ALPHATAURI HONDA | 8\n",
      "Kimi Raikkonen | FIN | ALFA ROMEO RACING FERRARI | 1\n",
      "Antonio Giovinazzi | ITA | ALFA ROMEO RACING FERRARI | 1\n",
      "Mick Schumacher | GER | HAAS FERRARI | 0\n",
      "George Russell | GBR | WILLIAMS MERCEDES | 0\n",
      "Nikita Mazepin | RAF | HAAS FERRARI | 0\n",
      "Nicholas Latifi | CAN | WILLIAMS MERCEDES | 0\n"
     ]
    },
    {
     "data": {
      "text/plain": []
     },
     "execution_count": 27,
     "metadata": {},
     "output_type": "execute_result"
    }
   ],
   "source": [
    "main"
   ]
  },
  {
   "cell_type": "code",
   "execution_count": 28,
   "id": "7aa55c4d",
   "metadata": {
    "ExecuteTime": {
     "end_time": "2021-06-20T12:13:41.813569Z",
     "start_time": "2021-06-20T12:13:41.809405Z"
    }
   },
   "outputs": [
    {
     "name": "stdout",
     "output_type": "stream",
     "text": [
      "Carlaniel & the Romeos selected Daniel Ricciardo!\n",
      "\t19 points remaining.\n",
      "Carlaniel & the Romeos | Budget: 19\n",
      "\t(1, Lando Norris | GBR | MCLAREN MERCEDES | 66)\n",
      "\t(8, Carlos Sainz | ESP | FERRARI | 42)\n",
      "\t(9, Daniel Ricciardo | AUS | MCLAREN MERCEDES | 26)\n"
     ]
    }
   ],
   "source": [
    "main.pick('Ricciardo')"
   ]
  },
  {
   "cell_type": "code",
   "execution_count": 29,
   "id": "601cca05",
   "metadata": {
    "ExecuteTime": {
     "end_time": "2021-06-20T12:13:41.820861Z",
     "start_time": "2021-06-20T12:13:41.815498Z"
    }
   },
   "outputs": [
    {
     "name": "stdout",
     "output_type": "stream",
     "text": [
      "Scuderia Spaghetti is on the clock!\n",
      "****************************************\n",
      "Sebastian Vettel | GER | ASTON MARTIN MERCEDES | 28\n",
      "Fernando Alonso | ESP | ALPINE RENAULT | 13\n",
      "Esteban Ocon | FRA | ALPINE RENAULT | 12\n",
      "Lance Stroll | CAN | ASTON MARTIN MERCEDES | 9\n",
      "Yuki Tsunoda | JPN | ALPHATAURI HONDA | 8\n",
      "Kimi Raikkonen | FIN | ALFA ROMEO RACING FERRARI | 1\n",
      "Antonio Giovinazzi | ITA | ALFA ROMEO RACING FERRARI | 1\n",
      "Mick Schumacher | GER | HAAS FERRARI | 0\n",
      "George Russell | GBR | WILLIAMS MERCEDES | 0\n",
      "Nikita Mazepin | RAF | HAAS FERRARI | 0\n",
      "Nicholas Latifi | CAN | WILLIAMS MERCEDES | 0\n"
     ]
    },
    {
     "data": {
      "text/plain": []
     },
     "execution_count": 29,
     "metadata": {},
     "output_type": "execute_result"
    }
   ],
   "source": [
    "main"
   ]
  },
  {
   "cell_type": "code",
   "execution_count": 30,
   "id": "5adb61f4",
   "metadata": {
    "ExecuteTime": {
     "end_time": "2021-06-20T12:13:41.825964Z",
     "start_time": "2021-06-20T12:13:41.823043Z"
    }
   },
   "outputs": [
    {
     "name": "stdout",
     "output_type": "stream",
     "text": [
      "Scuderia Spaghetti selected George Russell!\n",
      "\t0 points remaining.\n",
      "Scuderia Spaghetti | Budget: 0\n",
      "\t(2, Lewis Hamilton | GBR | MERCEDES | 101)\n",
      "\t(7, Charles Leclerc | MON | FERRARI | 52)\n",
      "\t(10, George Russell | GBR | WILLIAMS MERCEDES | 0)\n"
     ]
    }
   ],
   "source": [
    "main.pick('Russell')"
   ]
  },
  {
   "cell_type": "code",
   "execution_count": 31,
   "id": "4260a2e0",
   "metadata": {
    "ExecuteTime": {
     "end_time": "2021-06-20T12:13:41.832812Z",
     "start_time": "2021-06-20T12:13:41.828622Z"
    }
   },
   "outputs": [
    {
     "name": "stdout",
     "output_type": "stream",
     "text": [
      "3 Orange Whips is on the clock!\n",
      "****************************************\n",
      "Sebastian Vettel | GER | ASTON MARTIN MERCEDES | 28\n",
      "Fernando Alonso | ESP | ALPINE RENAULT | 13\n",
      "Esteban Ocon | FRA | ALPINE RENAULT | 12\n",
      "Lance Stroll | CAN | ASTON MARTIN MERCEDES | 9\n",
      "Yuki Tsunoda | JPN | ALPHATAURI HONDA | 8\n",
      "Kimi Raikkonen | FIN | ALFA ROMEO RACING FERRARI | 1\n",
      "Antonio Giovinazzi | ITA | ALFA ROMEO RACING FERRARI | 1\n",
      "Mick Schumacher | GER | HAAS FERRARI | 0\n",
      "Nikita Mazepin | RAF | HAAS FERRARI | 0\n",
      "Nicholas Latifi | CAN | WILLIAMS MERCEDES | 0\n"
     ]
    },
    {
     "data": {
      "text/plain": []
     },
     "execution_count": 31,
     "metadata": {},
     "output_type": "execute_result"
    }
   ],
   "source": [
    "main"
   ]
  },
  {
   "cell_type": "code",
   "execution_count": 32,
   "id": "e9474c6b",
   "metadata": {
    "ExecuteTime": {
     "end_time": "2021-06-20T12:13:41.838054Z",
     "start_time": "2021-06-20T12:13:41.834503Z"
    }
   },
   "outputs": [
    {
     "name": "stdout",
     "output_type": "stream",
     "text": [
      "3 Orange Whips selected Fernando Alonso!\n",
      "\t4 points remaining.\n",
      "3 Orange Whips | Budget: 4\n",
      "\t(3, Max Verstappen | NED | RED BULL RACING HONDA | 105)\n",
      "\t(6, Pierre Gasly | FRA | ALPHATAURI HONDA | 31)\n",
      "\t(11, Fernando Alonso | ESP | ALPINE RENAULT | 13)\n"
     ]
    }
   ],
   "source": [
    "main.pick('Alonso')"
   ]
  },
  {
   "cell_type": "code",
   "execution_count": 33,
   "id": "136b181b",
   "metadata": {
    "ExecuteTime": {
     "end_time": "2021-06-20T12:13:41.844375Z",
     "start_time": "2021-06-20T12:13:41.839816Z"
    }
   },
   "outputs": [
    {
     "name": "stdout",
     "output_type": "stream",
     "text": [
      "Deep Fried is on the clock!\n",
      "****************************************\n",
      "Sebastian Vettel | GER | ASTON MARTIN MERCEDES | 28\n",
      "Esteban Ocon | FRA | ALPINE RENAULT | 12\n",
      "Lance Stroll | CAN | ASTON MARTIN MERCEDES | 9\n",
      "Yuki Tsunoda | JPN | ALPHATAURI HONDA | 8\n",
      "Kimi Raikkonen | FIN | ALFA ROMEO RACING FERRARI | 1\n",
      "Antonio Giovinazzi | ITA | ALFA ROMEO RACING FERRARI | 1\n",
      "Mick Schumacher | GER | HAAS FERRARI | 0\n",
      "Nikita Mazepin | RAF | HAAS FERRARI | 0\n",
      "Nicholas Latifi | CAN | WILLIAMS MERCEDES | 0\n"
     ]
    },
    {
     "data": {
      "text/plain": []
     },
     "execution_count": 33,
     "metadata": {},
     "output_type": "execute_result"
    }
   ],
   "source": [
    "main"
   ]
  },
  {
   "cell_type": "code",
   "execution_count": 34,
   "id": "640f49e8",
   "metadata": {
    "ExecuteTime": {
     "end_time": "2021-06-20T12:13:41.849756Z",
     "start_time": "2021-06-20T12:13:41.846264Z"
    }
   },
   "outputs": [
    {
     "name": "stdout",
     "output_type": "stream",
     "text": [
      "Deep Fried selected Sebastian Vettel!\n",
      "\t9 points remaining.\n",
      "Deep Fried | Budget: 9\n",
      "\t(4, Valtteri Bottas | FIN | MERCEDES | 47)\n",
      "\t(5, Sergio Perez | MEX | RED BULL RACING HONDA | 69)\n",
      "\t(12, Sebastian Vettel | GER | ASTON MARTIN MERCEDES | 28)\n"
     ]
    }
   ],
   "source": [
    "main.pick('Vettel')"
   ]
  },
  {
   "cell_type": "markdown",
   "id": "9d2dc6b2",
   "metadata": {},
   "source": [
    "## R4"
   ]
  },
  {
   "cell_type": "code",
   "execution_count": 35,
   "id": "a1272a57",
   "metadata": {
    "ExecuteTime": {
     "end_time": "2021-06-20T12:13:41.859077Z",
     "start_time": "2021-06-20T12:13:41.852894Z"
    }
   },
   "outputs": [
    {
     "name": "stdout",
     "output_type": "stream",
     "text": [
      "Deep Fried is on the clock!\n",
      "****************************************\n",
      "Esteban Ocon | FRA | ALPINE RENAULT | 12\n",
      "Lance Stroll | CAN | ASTON MARTIN MERCEDES | 9\n",
      "Yuki Tsunoda | JPN | ALPHATAURI HONDA | 8\n",
      "Kimi Raikkonen | FIN | ALFA ROMEO RACING FERRARI | 1\n",
      "Antonio Giovinazzi | ITA | ALFA ROMEO RACING FERRARI | 1\n",
      "Mick Schumacher | GER | HAAS FERRARI | 0\n",
      "Nikita Mazepin | RAF | HAAS FERRARI | 0\n",
      "Nicholas Latifi | CAN | WILLIAMS MERCEDES | 0\n"
     ]
    },
    {
     "data": {
      "text/plain": []
     },
     "execution_count": 35,
     "metadata": {},
     "output_type": "execute_result"
    }
   ],
   "source": [
    "main"
   ]
  },
  {
   "cell_type": "code",
   "execution_count": 36,
   "id": "f9cc1cc5",
   "metadata": {
    "ExecuteTime": {
     "end_time": "2021-06-20T12:13:41.865303Z",
     "start_time": "2021-06-20T12:13:41.861628Z"
    }
   },
   "outputs": [
    {
     "name": "stdout",
     "output_type": "stream",
     "text": [
      "Deep Fried selected Esteban Ocon!\n",
      "\t-3 points remaining.\n",
      "Deep Fried | Budget: -3\n",
      "\t(4, Valtteri Bottas | FIN | MERCEDES | 47)\n",
      "\t(5, Sergio Perez | MEX | RED BULL RACING HONDA | 69)\n",
      "\t(12, Sebastian Vettel | GER | ASTON MARTIN MERCEDES | 28)\n",
      "\t(13, Esteban Ocon | FRA | ALPINE RENAULT | 12)\n"
     ]
    }
   ],
   "source": [
    "main.pick('Ocon', force=True)"
   ]
  },
  {
   "cell_type": "code",
   "execution_count": 37,
   "id": "c3699fcc",
   "metadata": {
    "ExecuteTime": {
     "end_time": "2021-06-20T12:13:41.872591Z",
     "start_time": "2021-06-20T12:13:41.868312Z"
    }
   },
   "outputs": [
    {
     "name": "stdout",
     "output_type": "stream",
     "text": [
      "3 Orange Whips is on the clock!\n",
      "****************************************\n",
      "Lance Stroll | CAN | ASTON MARTIN MERCEDES | 9\n",
      "Yuki Tsunoda | JPN | ALPHATAURI HONDA | 8\n",
      "Kimi Raikkonen | FIN | ALFA ROMEO RACING FERRARI | 1\n",
      "Antonio Giovinazzi | ITA | ALFA ROMEO RACING FERRARI | 1\n",
      "Mick Schumacher | GER | HAAS FERRARI | 0\n",
      "Nikita Mazepin | RAF | HAAS FERRARI | 0\n",
      "Nicholas Latifi | CAN | WILLIAMS MERCEDES | 0\n"
     ]
    },
    {
     "data": {
      "text/plain": []
     },
     "execution_count": 37,
     "metadata": {},
     "output_type": "execute_result"
    }
   ],
   "source": [
    "main"
   ]
  },
  {
   "cell_type": "code",
   "execution_count": 38,
   "id": "60b91426",
   "metadata": {
    "ExecuteTime": {
     "end_time": "2021-06-20T12:13:41.878293Z",
     "start_time": "2021-06-20T12:13:41.874838Z"
    }
   },
   "outputs": [
    {
     "name": "stdout",
     "output_type": "stream",
     "text": [
      "3 Orange Whips selected Lance Stroll!\n",
      "\t-5 points remaining.\n",
      "3 Orange Whips | Budget: -5\n",
      "\t(3, Max Verstappen | NED | RED BULL RACING HONDA | 105)\n",
      "\t(6, Pierre Gasly | FRA | ALPHATAURI HONDA | 31)\n",
      "\t(11, Fernando Alonso | ESP | ALPINE RENAULT | 13)\n",
      "\t(14, Lance Stroll | CAN | ASTON MARTIN MERCEDES | 9)\n"
     ]
    }
   ],
   "source": [
    "main.pick('Stroll', force=True)"
   ]
  },
  {
   "cell_type": "code",
   "execution_count": 39,
   "id": "5dec0dc8",
   "metadata": {
    "ExecuteTime": {
     "end_time": "2021-06-20T12:13:41.885374Z",
     "start_time": "2021-06-20T12:13:41.880320Z"
    }
   },
   "outputs": [
    {
     "name": "stdout",
     "output_type": "stream",
     "text": [
      "Scuderia Spaghetti is on the clock!\n",
      "****************************************\n",
      "Yuki Tsunoda | JPN | ALPHATAURI HONDA | 8\n",
      "Kimi Raikkonen | FIN | ALFA ROMEO RACING FERRARI | 1\n",
      "Antonio Giovinazzi | ITA | ALFA ROMEO RACING FERRARI | 1\n",
      "Mick Schumacher | GER | HAAS FERRARI | 0\n",
      "Nikita Mazepin | RAF | HAAS FERRARI | 0\n",
      "Nicholas Latifi | CAN | WILLIAMS MERCEDES | 0\n"
     ]
    },
    {
     "data": {
      "text/plain": []
     },
     "execution_count": 39,
     "metadata": {},
     "output_type": "execute_result"
    }
   ],
   "source": [
    "main"
   ]
  },
  {
   "cell_type": "code",
   "execution_count": 40,
   "id": "67c54ee6",
   "metadata": {
    "ExecuteTime": {
     "end_time": "2021-06-20T12:13:41.891159Z",
     "start_time": "2021-06-20T12:13:41.887779Z"
    }
   },
   "outputs": [
    {
     "name": "stdout",
     "output_type": "stream",
     "text": [
      "Scuderia Spaghetti selected Yuki Tsunoda!\n",
      "\t-8 points remaining.\n",
      "Scuderia Spaghetti | Budget: -8\n",
      "\t(2, Lewis Hamilton | GBR | MERCEDES | 101)\n",
      "\t(7, Charles Leclerc | MON | FERRARI | 52)\n",
      "\t(10, George Russell | GBR | WILLIAMS MERCEDES | 0)\n",
      "\t(15, Yuki Tsunoda | JPN | ALPHATAURI HONDA | 8)\n"
     ]
    }
   ],
   "source": [
    "main.pick('Tsunoda', force=True)"
   ]
  },
  {
   "cell_type": "code",
   "execution_count": 41,
   "id": "cb3458e7",
   "metadata": {
    "ExecuteTime": {
     "end_time": "2021-06-20T12:13:41.898283Z",
     "start_time": "2021-06-20T12:13:41.893666Z"
    }
   },
   "outputs": [
    {
     "name": "stdout",
     "output_type": "stream",
     "text": [
      "Carlaniel & the Romeos is on the clock!\n",
      "****************************************\n",
      "Kimi Raikkonen | FIN | ALFA ROMEO RACING FERRARI | 1\n",
      "Antonio Giovinazzi | ITA | ALFA ROMEO RACING FERRARI | 1\n",
      "Mick Schumacher | GER | HAAS FERRARI | 0\n",
      "Nikita Mazepin | RAF | HAAS FERRARI | 0\n",
      "Nicholas Latifi | CAN | WILLIAMS MERCEDES | 0\n"
     ]
    },
    {
     "data": {
      "text/plain": []
     },
     "execution_count": 41,
     "metadata": {},
     "output_type": "execute_result"
    }
   ],
   "source": [
    "main"
   ]
  },
  {
   "cell_type": "code",
   "execution_count": 42,
   "id": "dc0034de",
   "metadata": {
    "ExecuteTime": {
     "end_time": "2021-06-20T12:13:41.903181Z",
     "start_time": "2021-06-20T12:13:41.900156Z"
    }
   },
   "outputs": [
    {
     "name": "stdout",
     "output_type": "stream",
     "text": [
      "Carlaniel & the Romeos selected Antonio Giovinazzi!\n",
      "\t18 points remaining.\n",
      "Carlaniel & the Romeos | Budget: 18\n",
      "\t(1, Lando Norris | GBR | MCLAREN MERCEDES | 66)\n",
      "\t(8, Carlos Sainz | ESP | FERRARI | 42)\n",
      "\t(9, Daniel Ricciardo | AUS | MCLAREN MERCEDES | 26)\n",
      "\t(16, Antonio Giovinazzi | ITA | ALFA ROMEO RACING FERRARI | 1)\n"
     ]
    }
   ],
   "source": [
    "main.pick('Giovinazzi')"
   ]
  },
  {
   "cell_type": "markdown",
   "id": "578a1075",
   "metadata": {},
   "source": [
    "## R5"
   ]
  },
  {
   "cell_type": "code",
   "execution_count": 43,
   "id": "4dac3592",
   "metadata": {
    "ExecuteTime": {
     "end_time": "2021-06-20T12:13:41.910747Z",
     "start_time": "2021-06-20T12:13:41.905560Z"
    }
   },
   "outputs": [
    {
     "name": "stdout",
     "output_type": "stream",
     "text": [
      "Carlaniel & the Romeos is on the clock!\n",
      "****************************************\n",
      "Kimi Raikkonen | FIN | ALFA ROMEO RACING FERRARI | 1\n",
      "Mick Schumacher | GER | HAAS FERRARI | 0\n",
      "Nikita Mazepin | RAF | HAAS FERRARI | 0\n",
      "Nicholas Latifi | CAN | WILLIAMS MERCEDES | 0\n"
     ]
    },
    {
     "data": {
      "text/plain": []
     },
     "execution_count": 43,
     "metadata": {},
     "output_type": "execute_result"
    }
   ],
   "source": [
    "main"
   ]
  },
  {
   "cell_type": "code",
   "execution_count": 44,
   "id": "c07e1eac",
   "metadata": {
    "ExecuteTime": {
     "end_time": "2021-06-20T12:13:41.916803Z",
     "start_time": "2021-06-20T12:13:41.912765Z"
    }
   },
   "outputs": [
    {
     "name": "stdout",
     "output_type": "stream",
     "text": [
      "Carlaniel & the Romeos selected Kimi Raikkonen!\n",
      "\t17 points remaining.\n",
      "Carlaniel & the Romeos | Budget: 17\n",
      "\t(1, Lando Norris | GBR | MCLAREN MERCEDES | 66)\n",
      "\t(8, Carlos Sainz | ESP | FERRARI | 42)\n",
      "\t(9, Daniel Ricciardo | AUS | MCLAREN MERCEDES | 26)\n",
      "\t(16, Antonio Giovinazzi | ITA | ALFA ROMEO RACING FERRARI | 1)\n",
      "\t(17, Kimi Raikkonen | FIN | ALFA ROMEO RACING FERRARI | 1)\n"
     ]
    }
   ],
   "source": [
    "main.pick('Raikkonen')"
   ]
  },
  {
   "cell_type": "code",
   "execution_count": 45,
   "id": "20db207e",
   "metadata": {
    "ExecuteTime": {
     "end_time": "2021-06-20T12:13:41.922840Z",
     "start_time": "2021-06-20T12:13:41.918684Z"
    }
   },
   "outputs": [
    {
     "name": "stdout",
     "output_type": "stream",
     "text": [
      "Scuderia Spaghetti is on the clock!\n",
      "****************************************\n",
      "Mick Schumacher | GER | HAAS FERRARI | 0\n",
      "Nikita Mazepin | RAF | HAAS FERRARI | 0\n",
      "Nicholas Latifi | CAN | WILLIAMS MERCEDES | 0\n"
     ]
    },
    {
     "data": {
      "text/plain": []
     },
     "execution_count": 45,
     "metadata": {},
     "output_type": "execute_result"
    }
   ],
   "source": [
    "main"
   ]
  },
  {
   "cell_type": "code",
   "execution_count": 46,
   "id": "cca64850",
   "metadata": {
    "ExecuteTime": {
     "end_time": "2021-06-20T12:13:41.928281Z",
     "start_time": "2021-06-20T12:13:41.925245Z"
    }
   },
   "outputs": [
    {
     "name": "stdout",
     "output_type": "stream",
     "text": [
      "Scuderia Spaghetti selected Mick Schumacher!\n",
      "\t-8 points remaining.\n",
      "Scuderia Spaghetti | Budget: -8\n",
      "\t(2, Lewis Hamilton | GBR | MERCEDES | 101)\n",
      "\t(7, Charles Leclerc | MON | FERRARI | 52)\n",
      "\t(10, George Russell | GBR | WILLIAMS MERCEDES | 0)\n",
      "\t(15, Yuki Tsunoda | JPN | ALPHATAURI HONDA | 8)\n",
      "\t(18, Mick Schumacher | GER | HAAS FERRARI | 0)\n"
     ]
    }
   ],
   "source": [
    "main.pick('Schumacher', force=True)"
   ]
  },
  {
   "cell_type": "code",
   "execution_count": 47,
   "id": "ec1bbcea",
   "metadata": {
    "ExecuteTime": {
     "end_time": "2021-06-20T12:13:41.935033Z",
     "start_time": "2021-06-20T12:13:41.931033Z"
    }
   },
   "outputs": [
    {
     "name": "stdout",
     "output_type": "stream",
     "text": [
      "3 Orange Whips is on the clock!\n",
      "****************************************\n",
      "Nikita Mazepin | RAF | HAAS FERRARI | 0\n",
      "Nicholas Latifi | CAN | WILLIAMS MERCEDES | 0\n"
     ]
    },
    {
     "data": {
      "text/plain": []
     },
     "execution_count": 47,
     "metadata": {},
     "output_type": "execute_result"
    }
   ],
   "source": [
    "main"
   ]
  },
  {
   "cell_type": "code",
   "execution_count": 48,
   "id": "99b035ed",
   "metadata": {
    "ExecuteTime": {
     "end_time": "2021-06-20T12:13:41.940596Z",
     "start_time": "2021-06-20T12:13:41.937348Z"
    }
   },
   "outputs": [
    {
     "name": "stdout",
     "output_type": "stream",
     "text": [
      "3 Orange Whips selected Nicholas Latifi!\n",
      "\t-5 points remaining.\n",
      "3 Orange Whips | Budget: -5\n",
      "\t(3, Max Verstappen | NED | RED BULL RACING HONDA | 105)\n",
      "\t(6, Pierre Gasly | FRA | ALPHATAURI HONDA | 31)\n",
      "\t(11, Fernando Alonso | ESP | ALPINE RENAULT | 13)\n",
      "\t(14, Lance Stroll | CAN | ASTON MARTIN MERCEDES | 9)\n",
      "\t(19, Nicholas Latifi | CAN | WILLIAMS MERCEDES | 0)\n"
     ]
    }
   ],
   "source": [
    "main.pick('Latifi', force=True)"
   ]
  },
  {
   "cell_type": "code",
   "execution_count": 49,
   "id": "0d83625d",
   "metadata": {
    "ExecuteTime": {
     "end_time": "2021-06-20T12:13:41.946648Z",
     "start_time": "2021-06-20T12:13:41.942416Z"
    }
   },
   "outputs": [
    {
     "name": "stdout",
     "output_type": "stream",
     "text": [
      "Deep Fried is on the clock!\n",
      "****************************************\n",
      "Nikita Mazepin | RAF | HAAS FERRARI | 0\n"
     ]
    },
    {
     "data": {
      "text/plain": []
     },
     "execution_count": 49,
     "metadata": {},
     "output_type": "execute_result"
    }
   ],
   "source": [
    "main"
   ]
  },
  {
   "cell_type": "code",
   "execution_count": 50,
   "id": "a39bbddc",
   "metadata": {
    "ExecuteTime": {
     "end_time": "2021-06-20T12:13:41.952282Z",
     "start_time": "2021-06-20T12:13:41.948576Z"
    }
   },
   "outputs": [
    {
     "name": "stdout",
     "output_type": "stream",
     "text": [
      "Deep Fried selected Nikita Mazepin!\n",
      "\t-3 points remaining.\n",
      "Deep Fried | Budget: -3\n",
      "\t(4, Valtteri Bottas | FIN | MERCEDES | 47)\n",
      "\t(5, Sergio Perez | MEX | RED BULL RACING HONDA | 69)\n",
      "\t(12, Sebastian Vettel | GER | ASTON MARTIN MERCEDES | 28)\n",
      "\t(13, Esteban Ocon | FRA | ALPINE RENAULT | 12)\n",
      "\t(20, Nikita Mazepin | RAF | HAAS FERRARI | 0)\n"
     ]
    }
   ],
   "source": [
    "main.pick('Mazepin', force=True)"
   ]
  },
  {
   "cell_type": "markdown",
   "id": "1daba732",
   "metadata": {},
   "source": [
    "# Draft Complete\n",
    "\n",
    "## 2021 Rosters"
   ]
  },
  {
   "cell_type": "code",
   "execution_count": 51,
   "id": "6366c8ad",
   "metadata": {
    "ExecuteTime": {
     "end_time": "2021-06-20T12:13:41.958056Z",
     "start_time": "2021-06-20T12:13:41.954300Z"
    }
   },
   "outputs": [
    {
     "name": "stdout",
     "output_type": "stream",
     "text": [
      "Carlaniel & the Romeos | Budget: 17\n",
      "\t(1, Lando Norris | GBR | MCLAREN MERCEDES | 66)\n",
      "\t(8, Carlos Sainz | ESP | FERRARI | 42)\n",
      "\t(9, Daniel Ricciardo | AUS | MCLAREN MERCEDES | 26)\n",
      "\t(16, Antonio Giovinazzi | ITA | ALFA ROMEO RACING FERRARI | 1)\n",
      "\t(17, Kimi Raikkonen | FIN | ALFA ROMEO RACING FERRARI | 1)\n",
      "\n",
      "Scuderia Spaghetti | Budget: -8\n",
      "\t(2, Lewis Hamilton | GBR | MERCEDES | 101)\n",
      "\t(7, Charles Leclerc | MON | FERRARI | 52)\n",
      "\t(10, George Russell | GBR | WILLIAMS MERCEDES | 0)\n",
      "\t(15, Yuki Tsunoda | JPN | ALPHATAURI HONDA | 8)\n",
      "\t(18, Mick Schumacher | GER | HAAS FERRARI | 0)\n",
      "\n",
      "3 Orange Whips | Budget: -5\n",
      "\t(3, Max Verstappen | NED | RED BULL RACING HONDA | 105)\n",
      "\t(6, Pierre Gasly | FRA | ALPHATAURI HONDA | 31)\n",
      "\t(11, Fernando Alonso | ESP | ALPINE RENAULT | 13)\n",
      "\t(14, Lance Stroll | CAN | ASTON MARTIN MERCEDES | 9)\n",
      "\t(19, Nicholas Latifi | CAN | WILLIAMS MERCEDES | 0)\n",
      "\n",
      "Deep Fried | Budget: -3\n",
      "\t(4, Valtteri Bottas | FIN | MERCEDES | 47)\n",
      "\t(5, Sergio Perez | MEX | RED BULL RACING HONDA | 69)\n",
      "\t(12, Sebastian Vettel | GER | ASTON MARTIN MERCEDES | 28)\n",
      "\t(13, Esteban Ocon | FRA | ALPINE RENAULT | 12)\n",
      "\t(20, Nikita Mazepin | RAF | HAAS FERRARI | 0)\n",
      "\n"
     ]
    }
   ],
   "source": [
    "main.show_rosters()"
   ]
  },
  {
   "cell_type": "code",
   "execution_count": 52,
   "id": "32f5457d",
   "metadata": {
    "ExecuteTime": {
     "end_time": "2021-06-20T12:13:42.012761Z",
     "start_time": "2021-06-20T12:13:41.960347Z"
    }
   },
   "outputs": [
    {
     "data": {
      "text/html": [
       "<div>\n",
       "<style scoped>\n",
       "    .dataframe tbody tr th:only-of-type {\n",
       "        vertical-align: middle;\n",
       "    }\n",
       "\n",
       "    .dataframe tbody tr th {\n",
       "        vertical-align: top;\n",
       "    }\n",
       "\n",
       "    .dataframe thead th {\n",
       "        text-align: right;\n",
       "    }\n",
       "</style>\n",
       "<table border=\"1\" class=\"dataframe\">\n",
       "  <thead>\n",
       "    <tr style=\"text-align: right;\">\n",
       "      <th></th>\n",
       "      <th>OverallPick</th>\n",
       "      <th>TeamPick</th>\n",
       "      <th>Team</th>\n",
       "      <th>LastName</th>\n",
       "      <th>FirstName</th>\n",
       "      <th>Car</th>\n",
       "      <th>Nationality</th>\n",
       "    </tr>\n",
       "  </thead>\n",
       "  <tbody>\n",
       "    <tr>\n",
       "      <th>0</th>\n",
       "      <td>1</td>\n",
       "      <td>1</td>\n",
       "      <td>Carlaniel &amp; the Romeos</td>\n",
       "      <td>Norris</td>\n",
       "      <td>Lando</td>\n",
       "      <td>MCLAREN MERCEDES</td>\n",
       "      <td>GBR</td>\n",
       "    </tr>\n",
       "    <tr>\n",
       "      <th>1</th>\n",
       "      <td>2</td>\n",
       "      <td>1</td>\n",
       "      <td>Scuderia Spaghetti</td>\n",
       "      <td>Hamilton</td>\n",
       "      <td>Lewis</td>\n",
       "      <td>MERCEDES</td>\n",
       "      <td>GBR</td>\n",
       "    </tr>\n",
       "    <tr>\n",
       "      <th>2</th>\n",
       "      <td>3</td>\n",
       "      <td>1</td>\n",
       "      <td>3 Orange Whips</td>\n",
       "      <td>Verstappen</td>\n",
       "      <td>Max</td>\n",
       "      <td>RED BULL RACING HONDA</td>\n",
       "      <td>NED</td>\n",
       "    </tr>\n",
       "    <tr>\n",
       "      <th>3</th>\n",
       "      <td>4</td>\n",
       "      <td>1</td>\n",
       "      <td>Deep Fried</td>\n",
       "      <td>Bottas</td>\n",
       "      <td>Valtteri</td>\n",
       "      <td>MERCEDES</td>\n",
       "      <td>FIN</td>\n",
       "    </tr>\n",
       "    <tr>\n",
       "      <th>4</th>\n",
       "      <td>5</td>\n",
       "      <td>2</td>\n",
       "      <td>Deep Fried</td>\n",
       "      <td>Perez</td>\n",
       "      <td>Sergio</td>\n",
       "      <td>RED BULL RACING HONDA</td>\n",
       "      <td>MEX</td>\n",
       "    </tr>\n",
       "    <tr>\n",
       "      <th>5</th>\n",
       "      <td>6</td>\n",
       "      <td>2</td>\n",
       "      <td>3 Orange Whips</td>\n",
       "      <td>Gasly</td>\n",
       "      <td>Pierre</td>\n",
       "      <td>ALPHATAURI HONDA</td>\n",
       "      <td>FRA</td>\n",
       "    </tr>\n",
       "    <tr>\n",
       "      <th>6</th>\n",
       "      <td>7</td>\n",
       "      <td>2</td>\n",
       "      <td>Scuderia Spaghetti</td>\n",
       "      <td>Leclerc</td>\n",
       "      <td>Charles</td>\n",
       "      <td>FERRARI</td>\n",
       "      <td>MON</td>\n",
       "    </tr>\n",
       "    <tr>\n",
       "      <th>7</th>\n",
       "      <td>8</td>\n",
       "      <td>2</td>\n",
       "      <td>Carlaniel &amp; the Romeos</td>\n",
       "      <td>Sainz</td>\n",
       "      <td>Carlos</td>\n",
       "      <td>FERRARI</td>\n",
       "      <td>ESP</td>\n",
       "    </tr>\n",
       "    <tr>\n",
       "      <th>8</th>\n",
       "      <td>9</td>\n",
       "      <td>3</td>\n",
       "      <td>Carlaniel &amp; the Romeos</td>\n",
       "      <td>Ricciardo</td>\n",
       "      <td>Daniel</td>\n",
       "      <td>MCLAREN MERCEDES</td>\n",
       "      <td>AUS</td>\n",
       "    </tr>\n",
       "    <tr>\n",
       "      <th>9</th>\n",
       "      <td>10</td>\n",
       "      <td>3</td>\n",
       "      <td>Scuderia Spaghetti</td>\n",
       "      <td>Russell</td>\n",
       "      <td>George</td>\n",
       "      <td>WILLIAMS MERCEDES</td>\n",
       "      <td>GBR</td>\n",
       "    </tr>\n",
       "    <tr>\n",
       "      <th>10</th>\n",
       "      <td>11</td>\n",
       "      <td>3</td>\n",
       "      <td>3 Orange Whips</td>\n",
       "      <td>Alonso</td>\n",
       "      <td>Fernando</td>\n",
       "      <td>ALPINE RENAULT</td>\n",
       "      <td>ESP</td>\n",
       "    </tr>\n",
       "    <tr>\n",
       "      <th>11</th>\n",
       "      <td>12</td>\n",
       "      <td>3</td>\n",
       "      <td>Deep Fried</td>\n",
       "      <td>Vettel</td>\n",
       "      <td>Sebastian</td>\n",
       "      <td>ASTON MARTIN MERCEDES</td>\n",
       "      <td>GER</td>\n",
       "    </tr>\n",
       "    <tr>\n",
       "      <th>12</th>\n",
       "      <td>13</td>\n",
       "      <td>4</td>\n",
       "      <td>Deep Fried</td>\n",
       "      <td>Ocon</td>\n",
       "      <td>Esteban</td>\n",
       "      <td>ALPINE RENAULT</td>\n",
       "      <td>FRA</td>\n",
       "    </tr>\n",
       "    <tr>\n",
       "      <th>13</th>\n",
       "      <td>14</td>\n",
       "      <td>4</td>\n",
       "      <td>3 Orange Whips</td>\n",
       "      <td>Stroll</td>\n",
       "      <td>Lance</td>\n",
       "      <td>ASTON MARTIN MERCEDES</td>\n",
       "      <td>CAN</td>\n",
       "    </tr>\n",
       "    <tr>\n",
       "      <th>14</th>\n",
       "      <td>15</td>\n",
       "      <td>4</td>\n",
       "      <td>Scuderia Spaghetti</td>\n",
       "      <td>Tsunoda</td>\n",
       "      <td>Yuki</td>\n",
       "      <td>ALPHATAURI HONDA</td>\n",
       "      <td>JPN</td>\n",
       "    </tr>\n",
       "    <tr>\n",
       "      <th>15</th>\n",
       "      <td>16</td>\n",
       "      <td>4</td>\n",
       "      <td>Carlaniel &amp; the Romeos</td>\n",
       "      <td>Giovinazzi</td>\n",
       "      <td>Antonio</td>\n",
       "      <td>ALFA ROMEO RACING FERRARI</td>\n",
       "      <td>ITA</td>\n",
       "    </tr>\n",
       "    <tr>\n",
       "      <th>16</th>\n",
       "      <td>17</td>\n",
       "      <td>5</td>\n",
       "      <td>Carlaniel &amp; the Romeos</td>\n",
       "      <td>Raikkonen</td>\n",
       "      <td>Kimi</td>\n",
       "      <td>ALFA ROMEO RACING FERRARI</td>\n",
       "      <td>FIN</td>\n",
       "    </tr>\n",
       "    <tr>\n",
       "      <th>17</th>\n",
       "      <td>18</td>\n",
       "      <td>5</td>\n",
       "      <td>Scuderia Spaghetti</td>\n",
       "      <td>Schumacher</td>\n",
       "      <td>Mick</td>\n",
       "      <td>HAAS FERRARI</td>\n",
       "      <td>GER</td>\n",
       "    </tr>\n",
       "    <tr>\n",
       "      <th>18</th>\n",
       "      <td>19</td>\n",
       "      <td>5</td>\n",
       "      <td>3 Orange Whips</td>\n",
       "      <td>Latifi</td>\n",
       "      <td>Nicholas</td>\n",
       "      <td>WILLIAMS MERCEDES</td>\n",
       "      <td>CAN</td>\n",
       "    </tr>\n",
       "    <tr>\n",
       "      <th>19</th>\n",
       "      <td>20</td>\n",
       "      <td>5</td>\n",
       "      <td>Deep Fried</td>\n",
       "      <td>Mazepin</td>\n",
       "      <td>Nikita</td>\n",
       "      <td>HAAS FERRARI</td>\n",
       "      <td>RAF</td>\n",
       "    </tr>\n",
       "  </tbody>\n",
       "</table>\n",
       "</div>"
      ],
      "text/plain": [
       "    OverallPick  TeamPick                    Team    LastName  FirstName  \\\n",
       "0             1         1  Carlaniel & the Romeos      Norris      Lando   \n",
       "1             2         1      Scuderia Spaghetti    Hamilton      Lewis   \n",
       "2             3         1          3 Orange Whips  Verstappen        Max   \n",
       "3             4         1              Deep Fried      Bottas   Valtteri   \n",
       "4             5         2              Deep Fried       Perez     Sergio   \n",
       "5             6         2          3 Orange Whips       Gasly     Pierre   \n",
       "6             7         2      Scuderia Spaghetti     Leclerc    Charles   \n",
       "7             8         2  Carlaniel & the Romeos       Sainz     Carlos   \n",
       "8             9         3  Carlaniel & the Romeos   Ricciardo     Daniel   \n",
       "9            10         3      Scuderia Spaghetti     Russell     George   \n",
       "10           11         3          3 Orange Whips      Alonso   Fernando   \n",
       "11           12         3              Deep Fried      Vettel  Sebastian   \n",
       "12           13         4              Deep Fried        Ocon    Esteban   \n",
       "13           14         4          3 Orange Whips      Stroll      Lance   \n",
       "14           15         4      Scuderia Spaghetti     Tsunoda       Yuki   \n",
       "15           16         4  Carlaniel & the Romeos  Giovinazzi    Antonio   \n",
       "16           17         5  Carlaniel & the Romeos   Raikkonen       Kimi   \n",
       "17           18         5      Scuderia Spaghetti  Schumacher       Mick   \n",
       "18           19         5          3 Orange Whips      Latifi   Nicholas   \n",
       "19           20         5              Deep Fried     Mazepin     Nikita   \n",
       "\n",
       "                          Car Nationality  \n",
       "0            MCLAREN MERCEDES         GBR  \n",
       "1                    MERCEDES         GBR  \n",
       "2       RED BULL RACING HONDA         NED  \n",
       "3                    MERCEDES         FIN  \n",
       "4       RED BULL RACING HONDA         MEX  \n",
       "5            ALPHATAURI HONDA         FRA  \n",
       "6                     FERRARI         MON  \n",
       "7                     FERRARI         ESP  \n",
       "8            MCLAREN MERCEDES         AUS  \n",
       "9           WILLIAMS MERCEDES         GBR  \n",
       "10             ALPINE RENAULT         ESP  \n",
       "11      ASTON MARTIN MERCEDES         GER  \n",
       "12             ALPINE RENAULT         FRA  \n",
       "13      ASTON MARTIN MERCEDES         CAN  \n",
       "14           ALPHATAURI HONDA         JPN  \n",
       "15  ALFA ROMEO RACING FERRARI         ITA  \n",
       "16  ALFA ROMEO RACING FERRARI         FIN  \n",
       "17               HAAS FERRARI         GER  \n",
       "18          WILLIAMS MERCEDES         CAN  \n",
       "19               HAAS FERRARI         RAF  "
      ]
     },
     "execution_count": 52,
     "metadata": {},
     "output_type": "execute_result"
    }
   ],
   "source": [
    "main.save_rosters()"
   ]
  },
  {
   "cell_type": "code",
   "execution_count": null,
   "id": "f75775be",
   "metadata": {},
   "outputs": [],
   "source": []
  }
 ],
 "metadata": {
  "kernelspec": {
   "display_name": "Python 3",
   "language": "python",
   "name": "python3"
  },
  "language_info": {
   "codemirror_mode": {
    "name": "ipython",
    "version": 3
   },
   "file_extension": ".py",
   "mimetype": "text/x-python",
   "name": "python",
   "nbconvert_exporter": "python",
   "pygments_lexer": "ipython3",
   "version": "3.6.9"
  },
  "toc": {
   "base_numbering": 1,
   "nav_menu": {},
   "number_sections": false,
   "sideBar": true,
   "skip_h1_title": false,
   "title_cell": "Table of Contents",
   "title_sidebar": "Contents",
   "toc_cell": false,
   "toc_position": {
    "height": "calc(100% - 180px)",
    "left": "10px",
    "top": "150px",
    "width": "333px"
   },
   "toc_section_display": true,
   "toc_window_display": true
  }
 },
 "nbformat": 4,
 "nbformat_minor": 5
}
