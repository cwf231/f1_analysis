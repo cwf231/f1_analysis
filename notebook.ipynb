{
 "cells": [
  {
   "cell_type": "code",
   "execution_count": null,
   "id": "4156ff5d",
   "metadata": {
    "ExecuteTime": {
     "end_time": "2021-06-21T12:59:02.503500Z",
     "start_time": "2021-06-21T12:59:02.500162Z"
    }
   },
   "outputs": [],
   "source": [
    "import numpy as np\n",
    "import pandas as pd\n",
    "import seaborn as sns\n",
    "import matplotlib.pyplot as plt\n",
    "from plotly.subplots import make_subplots\n",
    "import plotly.express as px\n",
    "import unidecode"
   ]
  },
  {
   "cell_type": "code",
   "execution_count": null,
   "id": "048e9537",
   "metadata": {
    "ExecuteTime": {
     "end_time": "2021-06-21T12:47:19.123268Z",
     "start_time": "2021-06-21T12:47:18.922284Z"
    }
   },
   "outputs": [],
   "source": [
    "from formula_one import FormulaOne"
   ]
  },
  {
   "cell_type": "code",
   "execution_count": null,
   "id": "809739f0",
   "metadata": {
    "ExecuteTime": {
     "end_time": "2021-06-21T12:47:20.428581Z",
     "start_time": "2021-06-21T12:47:20.393588Z"
    }
   },
   "outputs": [],
   "source": [
    "f1 = FormulaOne()\n",
    "f1"
   ]
  },
  {
   "cell_type": "code",
   "execution_count": null,
   "id": "4da2e593",
   "metadata": {
    "ExecuteTime": {
     "end_time": "2021-06-21T12:47:23.118623Z",
     "start_time": "2021-06-21T12:47:22.278940Z"
    }
   },
   "outputs": [],
   "source": [
    "f1.update()"
   ]
  },
  {
   "cell_type": "code",
   "execution_count": null,
   "id": "5edeb087",
   "metadata": {
    "ExecuteTime": {
     "end_time": "2021-06-21T12:48:11.732034Z",
     "start_time": "2021-06-21T12:48:11.704775Z"
    }
   },
   "outputs": [],
   "source": [
    "fantasy_rosters = pd.read_csv('./draft/fantasy_rosters.csv', index_col=0)\n",
    "fantasy_rosters"
   ]
  },
  {
   "cell_type": "code",
   "execution_count": null,
   "id": "ef4acd4b",
   "metadata": {
    "ExecuteTime": {
     "end_time": "2021-06-21T12:48:11.931747Z",
     "start_time": "2021-06-21T12:48:11.914901Z"
    }
   },
   "outputs": [],
   "source": [
    "(f1.results\n",
    " .tail(20)\n",
    " .merge(fantasy_rosters, on='DriverID')\n",
    " .loc[:, ['Points', 'Team', 'DriverID']]\n",
    ")"
   ]
  },
  {
   "cell_type": "code",
   "execution_count": null,
   "id": "69f864d2",
   "metadata": {
    "ExecuteTime": {
     "end_time": "2021-06-21T12:49:49.393290Z",
     "start_time": "2021-06-21T12:49:49.381932Z"
    }
   },
   "outputs": [],
   "source": [
    "f1.results.groupby('RaceID').sum().loc[:, 'Points'].value_counts()"
   ]
  },
  {
   "cell_type": "code",
   "execution_count": null,
   "id": "1c4ec424",
   "metadata": {
    "ExecuteTime": {
     "end_time": "2021-06-21T12:52:36.074410Z",
     "start_time": "2021-06-21T12:52:36.054479Z"
    }
   },
   "outputs": [],
   "source": [
    "f1.results"
   ]
  },
  {
   "cell_type": "code",
   "execution_count": null,
   "id": "22eff4cf",
   "metadata": {
    "ExecuteTime": {
     "end_time": "2021-06-21T12:54:54.285898Z",
     "start_time": "2021-06-21T12:54:54.275620Z"
    }
   },
   "outputs": [],
   "source": [
    "s = f1.results.groupby('RaceID').sum().loc[:, 'Points']\n",
    "s[s == 117]"
   ]
  },
  {
   "cell_type": "code",
   "execution_count": null,
   "id": "8236ce0b",
   "metadata": {
    "ExecuteTime": {
     "end_time": "2021-06-21T13:00:35.943508Z",
     "start_time": "2021-06-21T13:00:35.923212Z"
    }
   },
   "outputs": [],
   "source": [
    "f1.results"
   ]
  },
  {
   "cell_type": "code",
   "execution_count": null,
   "id": "0f4784da",
   "metadata": {
    "ExecuteTime": {
     "end_time": "2021-06-21T13:00:57.810113Z",
     "start_time": "2021-06-21T13:00:57.800901Z"
    }
   },
   "outputs": [],
   "source": [
    "f1.results = f1.results.drop_duplicates().reset_index(drop=True)"
   ]
  },
  {
   "cell_type": "code",
   "execution_count": null,
   "id": "b888e432",
   "metadata": {
    "ExecuteTime": {
     "end_time": "2021-06-21T13:01:03.952972Z",
     "start_time": "2021-06-21T13:01:03.932572Z"
    }
   },
   "outputs": [],
   "source": [
    "f1.results"
   ]
  },
  {
   "cell_type": "code",
   "execution_count": null,
   "id": "896d1d7f",
   "metadata": {
    "ExecuteTime": {
     "end_time": "2021-06-21T13:01:11.706648Z",
     "start_time": "2021-06-21T13:01:11.646827Z"
    }
   },
   "outputs": [],
   "source": [
    "f1.save_data()"
   ]
  },
  {
   "cell_type": "code",
   "execution_count": null,
   "id": "7d08d33e",
   "metadata": {
    "ExecuteTime": {
     "end_time": "2021-06-21T12:59:48.072103Z",
     "start_time": "2021-06-21T12:59:48.053090Z"
    }
   },
   "outputs": [],
   "source": [
    "f1.results[f1.results['RaceID'] == 202105]"
   ]
  },
  {
   "cell_type": "code",
   "execution_count": null,
   "id": "36123fc8",
   "metadata": {
    "ExecuteTime": {
     "end_time": "2021-06-21T12:59:39.130184Z",
     "start_time": "2021-06-21T12:59:39.119851Z"
    }
   },
   "outputs": [],
   "source": [
    "for i in range(202101, 202108):\n",
    "    print(i, len(np.array(f1.results[f1.results['RaceID'] == i]['Points'])))"
   ]
  },
  {
   "cell_type": "code",
   "execution_count": null,
   "id": "bc5c97b4",
   "metadata": {
    "ExecuteTime": {
     "end_time": "2021-06-21T12:48:46.344076Z",
     "start_time": "2021-06-21T12:48:46.309289Z"
    }
   },
   "outputs": [],
   "source": [
    "pts_per_round = (\n",
    "    f1.results.loc[f1.results['RaceID'] > 202100]\n",
    "    .merge(fantasy_rosters[['Team', 'DriverID']], \n",
    "           on='DriverID')\n",
    "    .merge(f1.races[['RaceID', 'Round']])\n",
    "    .sort_values(['RaceID', 'Position'])\n",
    "    .loc[:, ['Points', 'Team', 'Round']]\n",
    "    .groupby(['Round', 'Team']).sum()\n",
    "    .reset_index()\n",
    ")\n",
    "\n",
    "pts_per_round"
   ]
  },
  {
   "cell_type": "code",
   "execution_count": null,
   "id": "3e99d4d8",
   "metadata": {
    "ExecuteTime": {
     "end_time": "2021-06-20T22:46:59.552686Z",
     "start_time": "2021-06-20T22:46:59.534104Z"
    }
   },
   "outputs": [],
   "source": [
    "cumulative_points = (\n",
    "    pts_per_round\n",
    "    .groupby(['Team', 'Round']).sum()\n",
    "    .groupby('Team').cumsum()\n",
    "    .reset_index()\n",
    ")\n",
    "cumulative_points"
   ]
  },
  {
   "cell_type": "code",
   "execution_count": null,
   "id": "d8350ccb",
   "metadata": {
    "ExecuteTime": {
     "end_time": "2021-06-20T22:47:00.675186Z",
     "start_time": "2021-06-20T22:46:59.554909Z"
    }
   },
   "outputs": [],
   "source": [
    "px.line(x='Round', y='Points', color='Team', data_frame=cumulative_points)"
   ]
  },
  {
   "cell_type": "code",
   "execution_count": null,
   "id": "1eac8433",
   "metadata": {
    "ExecuteTime": {
     "end_time": "2021-06-20T22:47:01.426185Z",
     "start_time": "2021-06-20T22:47:00.676936Z"
    }
   },
   "outputs": [],
   "source": [
    "with plt.style.context(['ggplot', 'seaborn-talk']):\n",
    "    fig, (ax1, ax2) = plt.subplots(nrows=2, figsize=(12, 8))\n",
    "    sns.lineplot(x='Round', y='Points', hue='Team', data=cumulative_points, ax=ax1)\n",
    "    sns.barplot(x='Round', y='Points', hue='Team', data=pts_per_round, ax=ax2)\n",
    "    fig.tight_layout()"
   ]
  },
  {
   "cell_type": "code",
   "execution_count": null,
   "id": "14b9f597",
   "metadata": {},
   "outputs": [],
   "source": []
  }
 ],
 "metadata": {
  "kernelspec": {
   "display_name": "Python 3",
   "language": "python",
   "name": "python3"
  },
  "language_info": {
   "codemirror_mode": {
    "name": "ipython",
    "version": 3
   },
   "file_extension": ".py",
   "mimetype": "text/x-python",
   "name": "python",
   "nbconvert_exporter": "python",
   "pygments_lexer": "ipython3",
   "version": "3.6.9"
  },
  "toc": {
   "base_numbering": 1,
   "nav_menu": {},
   "number_sections": false,
   "sideBar": true,
   "skip_h1_title": false,
   "title_cell": "Table of Contents",
   "title_sidebar": "Contents",
   "toc_cell": false,
   "toc_position": {},
   "toc_section_display": true,
   "toc_window_display": false
  }
 },
 "nbformat": 4,
 "nbformat_minor": 5
}
