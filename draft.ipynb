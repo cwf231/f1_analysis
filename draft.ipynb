{
 "cells": [
  {
   "cell_type": "code",
   "execution_count": 1,
   "id": "44c09bbc",
   "metadata": {
    "ExecuteTime": {
     "end_time": "2021-06-18T21:51:37.097790Z",
     "start_time": "2021-06-18T21:51:36.709947Z"
    }
   },
   "outputs": [],
   "source": [
    "import unidecode\n",
    "import pandas as pd\n",
    "import numpy as np"
   ]
  },
  {
   "cell_type": "code",
   "execution_count": 19,
   "id": "a88d6970",
   "metadata": {
    "ExecuteTime": {
     "end_time": "2021-06-18T22:09:36.469114Z",
     "start_time": "2021-06-18T22:09:36.446946Z"
    }
   },
   "outputs": [],
   "source": [
    "class Draft:\n",
    "    def __init__(self, \n",
    "                 player_names, \n",
    "                 current_standings_df, \n",
    "                 randomize_order=True):\n",
    "        self.players_lst = [Player(name) for name in player_names]\n",
    "        self.driver_pool = DriverPool(current_standings_df)\n",
    "        self.current_idx = 0\n",
    "        self.picking_order = [0, 1, 2, 3, 3, 2, 1, 0]\n",
    "        if randomize_order:\n",
    "            np.random.shuffle(self.players_lst)\n",
    "        print('Welcome to the Draft!')\n",
    "        print('---------------------')\n",
    "        print('The Draft Order is:')\n",
    "        for n, p in enumerate(self.players_lst, 1):\n",
    "            print(f'\\t{n}. {p.name}')\n",
    "    \n",
    "    def __repr__(self):\n",
    "        print(f\"{self.players_lst[self.picking_order[self.current_idx]].name} is on the clock!\")\n",
    "        print('*'*40)\n",
    "        print(self.driver_pool)\n",
    "        return ''\n",
    "    \n",
    "    def show_rosters(self):\n",
    "        for p in self.players_lst:\n",
    "            print(p)\n",
    "    \n",
    "    def move_idx(self):\n",
    "        if self.current_idx == len(self.picking_order) - 1:\n",
    "            self.current_idx = 0\n",
    "        else:\n",
    "            self.current_idx += 1\n",
    "    \n",
    "    def pick(self, last_name):\n",
    "        driver = self.driver_pool.get_driver(last_name)\n",
    "        if not driver:\n",
    "            print(f'Driver: ``{last_name}`` not available!')\n",
    "            return\n",
    "        pick = self.players_lst[self.picking_order[self.current_idx]].pick_driver(driver)\n",
    "        if not pick:\n",
    "            return\n",
    "        self.move_idx()\n",
    "\n",
    "\n",
    "class Player:\n",
    "    def __init__(self, name, budget=153):\n",
    "        self.budget = budget\n",
    "        self.name = name\n",
    "        self.roster = []\n",
    "        \n",
    "    def pick_driver(self, driver):\n",
    "        if driver.cost > self.budget:\n",
    "            print(f'Cannot afford ``{driver.name}``. Budget: {self.budget}.')\n",
    "            return\n",
    "        self.budget -= driver.cost\n",
    "        self.roster.append(driver)\n",
    "        print(f'{self.name} selected {driver.name}!')\n",
    "        print(f'\\t{self.budget} points remaining.')\n",
    "        self.__repr__()\n",
    "        return 1\n",
    "        \n",
    "    def __repr__(self):\n",
    "        print(f'{self.name} | Budget: {self.budget}')\n",
    "        for d in self.roster:\n",
    "            print(f'\\t{d}')\n",
    "        return ''\n",
    "    \n",
    "class RaceDriver:\n",
    "    def __init__(self, name, nationality, car, cost):\n",
    "        self.name = unidecode.unidecode(name)\n",
    "        self.first, self.last = self.name.split()\n",
    "        self.nationality = nationality\n",
    "        self.car = car\n",
    "        self.cost = cost\n",
    "        \n",
    "    def __str__(self):\n",
    "        return f'{self.name} | {self.nationality} | {self.car} | {self.cost}'\n",
    "    \n",
    "    def __repr__(self):\n",
    "        return f'{self.name} | {self.nationality} | {self.car} | {self.cost}'\n",
    "    \n",
    "    \n",
    "class DriverPool:\n",
    "    def __init__(self, df):\n",
    "        drivers_lst = [\n",
    "            RaceDriver(r['DRIVER'], r['NATIONALITY'], r['CAR'], int(r['PTS']))\n",
    "            for idx, r in df.iterrows()\n",
    "        ]\n",
    "        self.pool = {d.last: d for d in drivers_lst}\n",
    "        \n",
    "    def __repr__(self):\n",
    "        return '\\n'.join([d.__str__() for d in self.pool.values()])\n",
    "    \n",
    "    def get_driver(self, last_name):\n",
    "        return self.pool.pop(last_name, None)"
   ]
  },
  {
   "cell_type": "code",
   "execution_count": 20,
   "id": "062b6fd0",
   "metadata": {
    "ExecuteTime": {
     "end_time": "2021-06-18T22:09:38.865050Z",
     "start_time": "2021-06-18T22:09:38.858935Z"
    }
   },
   "outputs": [],
   "source": [
    "current_standings = pd.read_csv('current_standings.csv', index_col=0)"
   ]
  },
  {
   "cell_type": "code",
   "execution_count": 21,
   "id": "e9191cf3",
   "metadata": {
    "ExecuteTime": {
     "end_time": "2021-06-18T22:09:39.421466Z",
     "start_time": "2021-06-18T22:09:39.419191Z"
    }
   },
   "outputs": [],
   "source": [
    "TEAM_NAMES = [\n",
    "    '3 Orange Whips',\n",
    "    \"So Bad They're Fried\",\n",
    "    'SHcuderia',\n",
    "    'Catch Me if you Kane'\n",
    "]"
   ]
  },
  {
   "cell_type": "code",
   "execution_count": 22,
   "id": "0601cdc2",
   "metadata": {
    "ExecuteTime": {
     "end_time": "2021-06-18T22:09:40.544361Z",
     "start_time": "2021-06-18T22:09:40.537699Z"
    }
   },
   "outputs": [
    {
     "name": "stdout",
     "output_type": "stream",
     "text": [
      "Welcome to the Draft!\n",
      "---------------------\n",
      "The Draft Order is:\n",
      "\t1. Catch Me if you Kane\n",
      "\t2. So Bad They're Fried\n",
      "\t3. SHcuderia\n",
      "\t4. 3 Orange Whips\n"
     ]
    }
   ],
   "source": [
    "main = Draft(TEAM_NAMES, current_standings)"
   ]
  },
  {
   "cell_type": "code",
   "execution_count": 23,
   "id": "5dc757ec",
   "metadata": {
    "ExecuteTime": {
     "end_time": "2021-06-18T22:09:41.423806Z",
     "start_time": "2021-06-18T22:09:41.419602Z"
    }
   },
   "outputs": [
    {
     "name": "stdout",
     "output_type": "stream",
     "text": [
      "Catch Me if you Kane is on the clock!\n",
      "****************************************\n",
      "Max Verstappen | NED | RED BULL RACING HONDA | 105\n",
      "Lewis Hamilton | GBR | MERCEDES | 101\n",
      "Sergio Perez | MEX | RED BULL RACING HONDA | 69\n",
      "Lando Norris | GBR | MCLAREN MERCEDES | 66\n",
      "Charles Leclerc | MON | FERRARI | 52\n",
      "Valtteri Bottas | FIN | MERCEDES | 47\n",
      "Carlos Sainz | ESP | FERRARI | 42\n",
      "Pierre Gasly | FRA | ALPHATAURI HONDA | 31\n",
      "Sebastian Vettel | GER | ASTON MARTIN MERCEDES | 28\n",
      "Daniel Ricciardo | AUS | MCLAREN MERCEDES | 26\n",
      "Fernando Alonso | ESP | ALPINE RENAULT | 13\n",
      "Esteban Ocon | FRA | ALPINE RENAULT | 12\n",
      "Lance Stroll | CAN | ASTON MARTIN MERCEDES | 9\n",
      "Yuki Tsunoda | JPN | ALPHATAURI HONDA | 8\n",
      "Kimi Raikkonen | FIN | ALFA ROMEO RACING FERRARI | 1\n",
      "Antonio Giovinazzi | ITA | ALFA ROMEO RACING FERRARI | 1\n",
      "Mick Schumacher | GER | HAAS FERRARI | 0\n",
      "George Russell | GBR | WILLIAMS MERCEDES | 0\n",
      "Nikita Mazepin | RAF | HAAS FERRARI | 0\n",
      "Nicholas Latifi | CAN | WILLIAMS MERCEDES | 0\n"
     ]
    },
    {
     "data": {
      "text/plain": []
     },
     "execution_count": 23,
     "metadata": {},
     "output_type": "execute_result"
    }
   ],
   "source": [
    "main"
   ]
  },
  {
   "cell_type": "code",
   "execution_count": 24,
   "id": "4366215d",
   "metadata": {
    "ExecuteTime": {
     "end_time": "2021-06-18T22:09:42.181721Z",
     "start_time": "2021-06-18T22:09:42.178883Z"
    }
   },
   "outputs": [
    {
     "name": "stdout",
     "output_type": "stream",
     "text": [
      "Catch Me if you Kane selected Lando Norris!\n",
      "\t87 points remaining.\n",
      "Catch Me if you Kane | Budget: 87\n",
      "\tLando Norris | GBR | MCLAREN MERCEDES | 66\n"
     ]
    }
   ],
   "source": [
    "main.pick('Norris')"
   ]
  },
  {
   "cell_type": "code",
   "execution_count": 25,
   "id": "fab9165c",
   "metadata": {
    "ExecuteTime": {
     "end_time": "2021-06-18T22:09:42.721347Z",
     "start_time": "2021-06-18T22:09:42.718234Z"
    }
   },
   "outputs": [
    {
     "name": "stdout",
     "output_type": "stream",
     "text": [
      "Catch Me if you Kane | Budget: 87\n",
      "\tLando Norris | GBR | MCLAREN MERCEDES | 66\n",
      "\n",
      "So Bad They're Fried | Budget: 153\n",
      "\n",
      "SHcuderia | Budget: 153\n",
      "\n",
      "3 Orange Whips | Budget: 153\n",
      "\n"
     ]
    }
   ],
   "source": [
    "main.show_rosters()"
   ]
  },
  {
   "cell_type": "code",
   "execution_count": 26,
   "id": "1492648e",
   "metadata": {
    "ExecuteTime": {
     "end_time": "2021-06-18T22:09:43.242861Z",
     "start_time": "2021-06-18T22:09:43.238662Z"
    }
   },
   "outputs": [
    {
     "name": "stdout",
     "output_type": "stream",
     "text": [
      "So Bad They're Fried is on the clock!\n",
      "****************************************\n",
      "Max Verstappen | NED | RED BULL RACING HONDA | 105\n",
      "Lewis Hamilton | GBR | MERCEDES | 101\n",
      "Sergio Perez | MEX | RED BULL RACING HONDA | 69\n",
      "Charles Leclerc | MON | FERRARI | 52\n",
      "Valtteri Bottas | FIN | MERCEDES | 47\n",
      "Carlos Sainz | ESP | FERRARI | 42\n",
      "Pierre Gasly | FRA | ALPHATAURI HONDA | 31\n",
      "Sebastian Vettel | GER | ASTON MARTIN MERCEDES | 28\n",
      "Daniel Ricciardo | AUS | MCLAREN MERCEDES | 26\n",
      "Fernando Alonso | ESP | ALPINE RENAULT | 13\n",
      "Esteban Ocon | FRA | ALPINE RENAULT | 12\n",
      "Lance Stroll | CAN | ASTON MARTIN MERCEDES | 9\n",
      "Yuki Tsunoda | JPN | ALPHATAURI HONDA | 8\n",
      "Kimi Raikkonen | FIN | ALFA ROMEO RACING FERRARI | 1\n",
      "Antonio Giovinazzi | ITA | ALFA ROMEO RACING FERRARI | 1\n",
      "Mick Schumacher | GER | HAAS FERRARI | 0\n",
      "George Russell | GBR | WILLIAMS MERCEDES | 0\n",
      "Nikita Mazepin | RAF | HAAS FERRARI | 0\n",
      "Nicholas Latifi | CAN | WILLIAMS MERCEDES | 0\n"
     ]
    },
    {
     "data": {
      "text/plain": []
     },
     "execution_count": 26,
     "metadata": {},
     "output_type": "execute_result"
    }
   ],
   "source": [
    "main"
   ]
  },
  {
   "cell_type": "code",
   "execution_count": 27,
   "id": "34b2451b",
   "metadata": {
    "ExecuteTime": {
     "end_time": "2021-06-18T22:09:43.780951Z",
     "start_time": "2021-06-18T22:09:43.778026Z"
    }
   },
   "outputs": [
    {
     "name": "stdout",
     "output_type": "stream",
     "text": [
      "So Bad They're Fried selected Lewis Hamilton!\n",
      "\t52 points remaining.\n",
      "So Bad They're Fried | Budget: 52\n",
      "\tLewis Hamilton | GBR | MERCEDES | 101\n"
     ]
    }
   ],
   "source": [
    "main.pick('Hamilton')"
   ]
  },
  {
   "cell_type": "code",
   "execution_count": 28,
   "id": "6addd512",
   "metadata": {
    "ExecuteTime": {
     "end_time": "2021-06-18T22:09:44.200734Z",
     "start_time": "2021-06-18T22:09:44.198015Z"
    }
   },
   "outputs": [
    {
     "name": "stdout",
     "output_type": "stream",
     "text": [
      "Catch Me if you Kane | Budget: 87\n",
      "\tLando Norris | GBR | MCLAREN MERCEDES | 66\n",
      "\n",
      "So Bad They're Fried | Budget: 52\n",
      "\tLewis Hamilton | GBR | MERCEDES | 101\n",
      "\n",
      "SHcuderia | Budget: 153\n",
      "\n",
      "3 Orange Whips | Budget: 153\n",
      "\n"
     ]
    }
   ],
   "source": [
    "main.show_rosters()"
   ]
  },
  {
   "cell_type": "code",
   "execution_count": 29,
   "id": "42076360",
   "metadata": {
    "ExecuteTime": {
     "end_time": "2021-06-18T22:09:44.614576Z",
     "start_time": "2021-06-18T22:09:44.609983Z"
    }
   },
   "outputs": [
    {
     "name": "stdout",
     "output_type": "stream",
     "text": [
      "SHcuderia is on the clock!\n",
      "****************************************\n",
      "Max Verstappen | NED | RED BULL RACING HONDA | 105\n",
      "Sergio Perez | MEX | RED BULL RACING HONDA | 69\n",
      "Charles Leclerc | MON | FERRARI | 52\n",
      "Valtteri Bottas | FIN | MERCEDES | 47\n",
      "Carlos Sainz | ESP | FERRARI | 42\n",
      "Pierre Gasly | FRA | ALPHATAURI HONDA | 31\n",
      "Sebastian Vettel | GER | ASTON MARTIN MERCEDES | 28\n",
      "Daniel Ricciardo | AUS | MCLAREN MERCEDES | 26\n",
      "Fernando Alonso | ESP | ALPINE RENAULT | 13\n",
      "Esteban Ocon | FRA | ALPINE RENAULT | 12\n",
      "Lance Stroll | CAN | ASTON MARTIN MERCEDES | 9\n",
      "Yuki Tsunoda | JPN | ALPHATAURI HONDA | 8\n",
      "Kimi Raikkonen | FIN | ALFA ROMEO RACING FERRARI | 1\n",
      "Antonio Giovinazzi | ITA | ALFA ROMEO RACING FERRARI | 1\n",
      "Mick Schumacher | GER | HAAS FERRARI | 0\n",
      "George Russell | GBR | WILLIAMS MERCEDES | 0\n",
      "Nikita Mazepin | RAF | HAAS FERRARI | 0\n",
      "Nicholas Latifi | CAN | WILLIAMS MERCEDES | 0\n"
     ]
    },
    {
     "data": {
      "text/plain": []
     },
     "execution_count": 29,
     "metadata": {},
     "output_type": "execute_result"
    }
   ],
   "source": [
    "main"
   ]
  },
  {
   "cell_type": "code",
   "execution_count": 30,
   "id": "9bd439b7",
   "metadata": {
    "ExecuteTime": {
     "end_time": "2021-06-18T22:09:45.061339Z",
     "start_time": "2021-06-18T22:09:45.058141Z"
    }
   },
   "outputs": [
    {
     "name": "stdout",
     "output_type": "stream",
     "text": [
      "SHcuderia selected Max Verstappen!\n",
      "\t48 points remaining.\n",
      "SHcuderia | Budget: 48\n",
      "\tMax Verstappen | NED | RED BULL RACING HONDA | 105\n"
     ]
    }
   ],
   "source": [
    "main.pick('Verstappen')"
   ]
  },
  {
   "cell_type": "code",
   "execution_count": 31,
   "id": "b4195008",
   "metadata": {
    "ExecuteTime": {
     "end_time": "2021-06-18T22:09:45.606360Z",
     "start_time": "2021-06-18T22:09:45.603170Z"
    }
   },
   "outputs": [
    {
     "name": "stdout",
     "output_type": "stream",
     "text": [
      "Catch Me if you Kane | Budget: 87\n",
      "\tLando Norris | GBR | MCLAREN MERCEDES | 66\n",
      "\n",
      "So Bad They're Fried | Budget: 52\n",
      "\tLewis Hamilton | GBR | MERCEDES | 101\n",
      "\n",
      "SHcuderia | Budget: 48\n",
      "\tMax Verstappen | NED | RED BULL RACING HONDA | 105\n",
      "\n",
      "3 Orange Whips | Budget: 153\n",
      "\n"
     ]
    }
   ],
   "source": [
    "main.show_rosters()"
   ]
  },
  {
   "cell_type": "code",
   "execution_count": 32,
   "id": "077dfad3",
   "metadata": {
    "ExecuteTime": {
     "end_time": "2021-06-18T22:09:46.085842Z",
     "start_time": "2021-06-18T22:09:46.081811Z"
    }
   },
   "outputs": [
    {
     "name": "stdout",
     "output_type": "stream",
     "text": [
      "3 Orange Whips is on the clock!\n",
      "****************************************\n",
      "Sergio Perez | MEX | RED BULL RACING HONDA | 69\n",
      "Charles Leclerc | MON | FERRARI | 52\n",
      "Valtteri Bottas | FIN | MERCEDES | 47\n",
      "Carlos Sainz | ESP | FERRARI | 42\n",
      "Pierre Gasly | FRA | ALPHATAURI HONDA | 31\n",
      "Sebastian Vettel | GER | ASTON MARTIN MERCEDES | 28\n",
      "Daniel Ricciardo | AUS | MCLAREN MERCEDES | 26\n",
      "Fernando Alonso | ESP | ALPINE RENAULT | 13\n",
      "Esteban Ocon | FRA | ALPINE RENAULT | 12\n",
      "Lance Stroll | CAN | ASTON MARTIN MERCEDES | 9\n",
      "Yuki Tsunoda | JPN | ALPHATAURI HONDA | 8\n",
      "Kimi Raikkonen | FIN | ALFA ROMEO RACING FERRARI | 1\n",
      "Antonio Giovinazzi | ITA | ALFA ROMEO RACING FERRARI | 1\n",
      "Mick Schumacher | GER | HAAS FERRARI | 0\n",
      "George Russell | GBR | WILLIAMS MERCEDES | 0\n",
      "Nikita Mazepin | RAF | HAAS FERRARI | 0\n",
      "Nicholas Latifi | CAN | WILLIAMS MERCEDES | 0\n"
     ]
    },
    {
     "data": {
      "text/plain": []
     },
     "execution_count": 32,
     "metadata": {},
     "output_type": "execute_result"
    }
   ],
   "source": [
    "main"
   ]
  },
  {
   "cell_type": "code",
   "execution_count": 33,
   "id": "2eec4abd",
   "metadata": {
    "ExecuteTime": {
     "end_time": "2021-06-18T22:09:48.400924Z",
     "start_time": "2021-06-18T22:09:48.398074Z"
    }
   },
   "outputs": [
    {
     "name": "stdout",
     "output_type": "stream",
     "text": [
      "3 Orange Whips selected Valtteri Bottas!\n",
      "\t106 points remaining.\n",
      "3 Orange Whips | Budget: 106\n",
      "\tValtteri Bottas | FIN | MERCEDES | 47\n"
     ]
    }
   ],
   "source": [
    "main.pick('Bottas')"
   ]
  },
  {
   "cell_type": "code",
   "execution_count": 34,
   "id": "bc11e839",
   "metadata": {
    "ExecuteTime": {
     "end_time": "2021-06-18T22:09:49.402931Z",
     "start_time": "2021-06-18T22:09:49.398847Z"
    }
   },
   "outputs": [
    {
     "name": "stdout",
     "output_type": "stream",
     "text": [
      "Catch Me if you Kane | Budget: 87\n",
      "\tLando Norris | GBR | MCLAREN MERCEDES | 66\n",
      "\n",
      "So Bad They're Fried | Budget: 52\n",
      "\tLewis Hamilton | GBR | MERCEDES | 101\n",
      "\n",
      "SHcuderia | Budget: 48\n",
      "\tMax Verstappen | NED | RED BULL RACING HONDA | 105\n",
      "\n",
      "3 Orange Whips | Budget: 106\n",
      "\tValtteri Bottas | FIN | MERCEDES | 47\n",
      "\n"
     ]
    }
   ],
   "source": [
    "main.show_rosters()"
   ]
  },
  {
   "cell_type": "code",
   "execution_count": 35,
   "id": "d0ed725f",
   "metadata": {
    "ExecuteTime": {
     "end_time": "2021-06-18T22:09:49.912579Z",
     "start_time": "2021-06-18T22:09:49.907217Z"
    }
   },
   "outputs": [
    {
     "name": "stdout",
     "output_type": "stream",
     "text": [
      "3 Orange Whips is on the clock!\n",
      "****************************************\n",
      "Sergio Perez | MEX | RED BULL RACING HONDA | 69\n",
      "Charles Leclerc | MON | FERRARI | 52\n",
      "Carlos Sainz | ESP | FERRARI | 42\n",
      "Pierre Gasly | FRA | ALPHATAURI HONDA | 31\n",
      "Sebastian Vettel | GER | ASTON MARTIN MERCEDES | 28\n",
      "Daniel Ricciardo | AUS | MCLAREN MERCEDES | 26\n",
      "Fernando Alonso | ESP | ALPINE RENAULT | 13\n",
      "Esteban Ocon | FRA | ALPINE RENAULT | 12\n",
      "Lance Stroll | CAN | ASTON MARTIN MERCEDES | 9\n",
      "Yuki Tsunoda | JPN | ALPHATAURI HONDA | 8\n",
      "Kimi Raikkonen | FIN | ALFA ROMEO RACING FERRARI | 1\n",
      "Antonio Giovinazzi | ITA | ALFA ROMEO RACING FERRARI | 1\n",
      "Mick Schumacher | GER | HAAS FERRARI | 0\n",
      "George Russell | GBR | WILLIAMS MERCEDES | 0\n",
      "Nikita Mazepin | RAF | HAAS FERRARI | 0\n",
      "Nicholas Latifi | CAN | WILLIAMS MERCEDES | 0\n"
     ]
    },
    {
     "data": {
      "text/plain": []
     },
     "execution_count": 35,
     "metadata": {},
     "output_type": "execute_result"
    }
   ],
   "source": [
    "main"
   ]
  },
  {
   "cell_type": "code",
   "execution_count": null,
   "id": "d7506088",
   "metadata": {},
   "outputs": [],
   "source": []
  }
 ],
 "metadata": {
  "kernelspec": {
   "display_name": "Python 3",
   "language": "python",
   "name": "python3"
  },
  "language_info": {
   "codemirror_mode": {
    "name": "ipython",
    "version": 3
   },
   "file_extension": ".py",
   "mimetype": "text/x-python",
   "name": "python",
   "nbconvert_exporter": "python",
   "pygments_lexer": "ipython3",
   "version": "3.6.9"
  },
  "toc": {
   "base_numbering": 1,
   "nav_menu": {},
   "number_sections": false,
   "sideBar": true,
   "skip_h1_title": false,
   "title_cell": "Table of Contents",
   "title_sidebar": "Contents",
   "toc_cell": false,
   "toc_position": {},
   "toc_section_display": true,
   "toc_window_display": false
  }
 },
 "nbformat": 4,
 "nbformat_minor": 5
}
